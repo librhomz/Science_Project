{
 "cells": [
  {
   "cell_type": "markdown",
   "id": "199be3b3",
   "metadata": {},
   "source": [
    "# Load Packages"
   ]
  },
  {
   "cell_type": "code",
   "execution_count": 239,
   "id": "6d729b8d",
   "metadata": {},
   "outputs": [],
   "source": [
    "#including the packages we use\n",
    "\n",
    "import numpy as np\n",
    "import pandas as pd\n",
    "\n",
    "import matplotlib.pyplot as plt\n",
    "from matplotlib import rcParams\n",
    "import seaborn as sns\n",
    "\n",
    "from sklearn import preprocessing, metrics\n",
    "from sklearn.preprocessing import PowerTransformer\n",
    "from sklearn.model_selection import train_test_split, RepeatedStratifiedKFold, GridSearchCV, RandomizedSearchCV\n",
    "from sklearn.model_selection import cross_val_score\n",
    "from sklearn.base import BaseEstimator, TransformerMixin\n",
    "from sklearn.pipeline import Pipeline\n",
    "from sklearn.neighbors import KNeighborsClassifier\n",
    "from sklearn.tree import DecisionTreeClassifier\n",
    "from sklearn.naive_bayes import GaussianNB\n",
    "from sklearn.linear_model import LogisticRegression\n",
    "from sklearn.svm import SVC\n",
    "from sklearn.ensemble import RandomForestClassifier\n",
    "\n",
    "from scipy import stats\n",
    "import warnings\n",
    "\n",
    "warnings.filterwarnings(\"ignore\")\n",
    "pd.set_option('display.max_columns', None) \n",
    "pd.set_option('display.max_rows', 110)\n",
    "pd.set_option('display.float_format', lambda x: '%.3f' % x)"
   ]
  },
  {
   "cell_type": "markdown",
   "id": "0d86776a",
   "metadata": {},
   "source": [
    "# Load & Examine Data"
   ]
  },
  {
   "cell_type": "code",
   "execution_count": 240,
   "id": "6027db40",
   "metadata": {},
   "outputs": [],
   "source": [
    "#load data\n",
    "df = pd.read_csv(\"credit_train.csv\",\n",
    "                 names=['Loan ID','Customer ID','Loan Status','Current Loan Amount','Term',\n",
    "                        'Credit Score','Annual Income','Years Current Job','Home Ownership', \n",
    "                        'Purpose','Monthly Debt','Years of Credit History',\n",
    "                        'Months Since Last Delinquent','Number Open Accounts',\n",
    "                        'Number Credit Problems','Current Credit Balance','Maximum Open Credit', \n",
    "                        'Bankruptcies','Tax Liens'],\n",
    "                 header=0)"
   ]
  },
  {
   "cell_type": "code",
   "execution_count": 241,
   "id": "cd8a6ac7",
   "metadata": {},
   "outputs": [
    {
     "data": {
      "text/html": [
       "<div>\n",
       "<style scoped>\n",
       "    .dataframe tbody tr th:only-of-type {\n",
       "        vertical-align: middle;\n",
       "    }\n",
       "\n",
       "    .dataframe tbody tr th {\n",
       "        vertical-align: top;\n",
       "    }\n",
       "\n",
       "    .dataframe thead th {\n",
       "        text-align: right;\n",
       "    }\n",
       "</style>\n",
       "<table border=\"1\" class=\"dataframe\">\n",
       "  <thead>\n",
       "    <tr style=\"text-align: right;\">\n",
       "      <th></th>\n",
       "      <th>Loan ID</th>\n",
       "      <th>Customer ID</th>\n",
       "      <th>Loan Status</th>\n",
       "      <th>Current Loan Amount</th>\n",
       "      <th>Term</th>\n",
       "      <th>Credit Score</th>\n",
       "      <th>Annual Income</th>\n",
       "      <th>Years Current Job</th>\n",
       "      <th>Home Ownership</th>\n",
       "      <th>Purpose</th>\n",
       "      <th>Monthly Debt</th>\n",
       "      <th>Years of Credit History</th>\n",
       "      <th>Months Since Last Delinquent</th>\n",
       "      <th>Number Open Accounts</th>\n",
       "      <th>Number Credit Problems</th>\n",
       "      <th>Current Credit Balance</th>\n",
       "      <th>Maximum Open Credit</th>\n",
       "      <th>Bankruptcies</th>\n",
       "      <th>Tax Liens</th>\n",
       "    </tr>\n",
       "  </thead>\n",
       "  <tbody>\n",
       "    <tr>\n",
       "      <th>0</th>\n",
       "      <td>14dd8831-6af5-400b-83ec-68e61888a048</td>\n",
       "      <td>981165ec-3274-42f5-a3b4-d104041a9ca9</td>\n",
       "      <td>Fully Paid</td>\n",
       "      <td>445412</td>\n",
       "      <td>Short Term</td>\n",
       "      <td>709.000</td>\n",
       "      <td>1167493.000</td>\n",
       "      <td>8 years</td>\n",
       "      <td>Home Mortgage</td>\n",
       "      <td>Home Improvements</td>\n",
       "      <td>5214.740</td>\n",
       "      <td>17.200</td>\n",
       "      <td>NaN</td>\n",
       "      <td>6</td>\n",
       "      <td>1</td>\n",
       "      <td>228190</td>\n",
       "      <td>416746.000</td>\n",
       "      <td>1.000</td>\n",
       "      <td>0.000</td>\n",
       "    </tr>\n",
       "    <tr>\n",
       "      <th>1</th>\n",
       "      <td>4771cc26-131a-45db-b5aa-537ea4ba5342</td>\n",
       "      <td>2de017a3-2e01-49cb-a581-08169e83be29</td>\n",
       "      <td>Fully Paid</td>\n",
       "      <td>262328</td>\n",
       "      <td>Short Term</td>\n",
       "      <td>NaN</td>\n",
       "      <td>NaN</td>\n",
       "      <td>10+ years</td>\n",
       "      <td>Home Mortgage</td>\n",
       "      <td>Debt Consolidation</td>\n",
       "      <td>33295.980</td>\n",
       "      <td>21.100</td>\n",
       "      <td>8.000</td>\n",
       "      <td>35</td>\n",
       "      <td>0</td>\n",
       "      <td>229976</td>\n",
       "      <td>850784.000</td>\n",
       "      <td>0.000</td>\n",
       "      <td>0.000</td>\n",
       "    </tr>\n",
       "    <tr>\n",
       "      <th>2</th>\n",
       "      <td>4eed4e6a-aa2f-4c91-8651-ce984ee8fb26</td>\n",
       "      <td>5efb2b2b-bf11-4dfd-a572-3761a2694725</td>\n",
       "      <td>Fully Paid</td>\n",
       "      <td>99999999</td>\n",
       "      <td>Short Term</td>\n",
       "      <td>741.000</td>\n",
       "      <td>2231892.000</td>\n",
       "      <td>8 years</td>\n",
       "      <td>Own Home</td>\n",
       "      <td>Debt Consolidation</td>\n",
       "      <td>29200.530</td>\n",
       "      <td>14.900</td>\n",
       "      <td>29.000</td>\n",
       "      <td>18</td>\n",
       "      <td>1</td>\n",
       "      <td>297996</td>\n",
       "      <td>750090.000</td>\n",
       "      <td>0.000</td>\n",
       "      <td>0.000</td>\n",
       "    </tr>\n",
       "    <tr>\n",
       "      <th>3</th>\n",
       "      <td>77598f7b-32e7-4e3b-a6e5-06ba0d98fe8a</td>\n",
       "      <td>e777faab-98ae-45af-9a86-7ce5b33b1011</td>\n",
       "      <td>Fully Paid</td>\n",
       "      <td>347666</td>\n",
       "      <td>Long Term</td>\n",
       "      <td>721.000</td>\n",
       "      <td>806949.000</td>\n",
       "      <td>3 years</td>\n",
       "      <td>Own Home</td>\n",
       "      <td>Debt Consolidation</td>\n",
       "      <td>8741.900</td>\n",
       "      <td>12.000</td>\n",
       "      <td>NaN</td>\n",
       "      <td>9</td>\n",
       "      <td>0</td>\n",
       "      <td>256329</td>\n",
       "      <td>386958.000</td>\n",
       "      <td>0.000</td>\n",
       "      <td>0.000</td>\n",
       "    </tr>\n",
       "    <tr>\n",
       "      <th>4</th>\n",
       "      <td>d4062e70-befa-4995-8643-a0de73938182</td>\n",
       "      <td>81536ad9-5ccf-4eb8-befb-47a4d608658e</td>\n",
       "      <td>Fully Paid</td>\n",
       "      <td>176220</td>\n",
       "      <td>Short Term</td>\n",
       "      <td>NaN</td>\n",
       "      <td>NaN</td>\n",
       "      <td>5 years</td>\n",
       "      <td>Rent</td>\n",
       "      <td>Debt Consolidation</td>\n",
       "      <td>20639.700</td>\n",
       "      <td>6.100</td>\n",
       "      <td>NaN</td>\n",
       "      <td>15</td>\n",
       "      <td>0</td>\n",
       "      <td>253460</td>\n",
       "      <td>427174.000</td>\n",
       "      <td>0.000</td>\n",
       "      <td>0.000</td>\n",
       "    </tr>\n",
       "  </tbody>\n",
       "</table>\n",
       "</div>"
      ],
      "text/plain": [
       "                                Loan ID                           Customer ID  \\\n",
       "0  14dd8831-6af5-400b-83ec-68e61888a048  981165ec-3274-42f5-a3b4-d104041a9ca9   \n",
       "1  4771cc26-131a-45db-b5aa-537ea4ba5342  2de017a3-2e01-49cb-a581-08169e83be29   \n",
       "2  4eed4e6a-aa2f-4c91-8651-ce984ee8fb26  5efb2b2b-bf11-4dfd-a572-3761a2694725   \n",
       "3  77598f7b-32e7-4e3b-a6e5-06ba0d98fe8a  e777faab-98ae-45af-9a86-7ce5b33b1011   \n",
       "4  d4062e70-befa-4995-8643-a0de73938182  81536ad9-5ccf-4eb8-befb-47a4d608658e   \n",
       "\n",
       "  Loan Status  Current Loan Amount        Term  Credit Score  Annual Income  \\\n",
       "0  Fully Paid               445412  Short Term       709.000    1167493.000   \n",
       "1  Fully Paid               262328  Short Term           NaN            NaN   \n",
       "2  Fully Paid             99999999  Short Term       741.000    2231892.000   \n",
       "3  Fully Paid               347666   Long Term       721.000     806949.000   \n",
       "4  Fully Paid               176220  Short Term           NaN            NaN   \n",
       "\n",
       "  Years Current Job Home Ownership             Purpose  Monthly Debt  \\\n",
       "0           8 years  Home Mortgage   Home Improvements      5214.740   \n",
       "1         10+ years  Home Mortgage  Debt Consolidation     33295.980   \n",
       "2           8 years       Own Home  Debt Consolidation     29200.530   \n",
       "3           3 years       Own Home  Debt Consolidation      8741.900   \n",
       "4           5 years           Rent  Debt Consolidation     20639.700   \n",
       "\n",
       "   Years of Credit History  Months Since Last Delinquent  \\\n",
       "0                   17.200                           NaN   \n",
       "1                   21.100                         8.000   \n",
       "2                   14.900                        29.000   \n",
       "3                   12.000                           NaN   \n",
       "4                    6.100                           NaN   \n",
       "\n",
       "   Number Open Accounts  Number Credit Problems  Current Credit Balance  \\\n",
       "0                     6                       1                  228190   \n",
       "1                    35                       0                  229976   \n",
       "2                    18                       1                  297996   \n",
       "3                     9                       0                  256329   \n",
       "4                    15                       0                  253460   \n",
       "\n",
       "   Maximum Open Credit  Bankruptcies  Tax Liens  \n",
       "0           416746.000         1.000      0.000  \n",
       "1           850784.000         0.000      0.000  \n",
       "2           750090.000         0.000      0.000  \n",
       "3           386958.000         0.000      0.000  \n",
       "4           427174.000         0.000      0.000  "
      ]
     },
     "execution_count": 241,
     "metadata": {},
     "output_type": "execute_result"
    }
   ],
   "source": [
    "#here we see the top5 records\n",
    "df.head()"
   ]
  },
  {
   "cell_type": "code",
   "execution_count": 242,
   "id": "05e519cf",
   "metadata": {},
   "outputs": [
    {
     "data": {
      "text/plain": [
       "(100000, 19)"
      ]
     },
     "execution_count": 242,
     "metadata": {},
     "output_type": "execute_result"
    }
   ],
   "source": [
    "#here return a tuple representing the dimensionality of the DataFrame\n",
    "df.shape"
   ]
  },
  {
   "cell_type": "markdown",
   "id": "e9e846d2",
   "metadata": {},
   "source": [
    "# Preprocessing\n",
    "## Data Types\n"
   ]
  },
  {
   "cell_type": "markdown",
   "id": "06bf39ee",
   "metadata": {},
   "source": [
    "<blockquote>Looking at the data types for each feature below, 'Loan Status', 'Term', 'Years Current Job', 'Home Ownership', and 'Purpose' are objects, while the remaining features are floats. This is not entirely appropriate as 'Months Since Last Delinquent', 'Number Credit Problems', 'Bankruptcies', and 'Tax Liens' are ordinal features and should not be floats. This will be dealt with in later sections. Additionally, loan and customer IDs are objects due to containing letters, however they will be examined more closely in the next section.<blockquot>\n"
   ]
  },
  {
   "cell_type": "code",
   "execution_count": 243,
   "id": "4e33b8af",
   "metadata": {
    "scrolled": false
   },
   "outputs": [
    {
     "data": {
      "text/plain": [
       "Loan ID                          object\n",
       "Customer ID                      object\n",
       "Loan Status                      object\n",
       "Current Loan Amount               int64\n",
       "Term                             object\n",
       "Credit Score                    float64\n",
       "Annual Income                   float64\n",
       "Years Current Job                object\n",
       "Home Ownership                   object\n",
       "Purpose                          object\n",
       "Monthly Debt                    float64\n",
       "Years of Credit History         float64\n",
       "Months Since Last Delinquent    float64\n",
       "Number Open Accounts              int64\n",
       "Number Credit Problems            int64\n",
       "Current Credit Balance            int64\n",
       "Maximum Open Credit             float64\n",
       "Bankruptcies                    float64\n",
       "Tax Liens                       float64\n",
       "dtype: object"
      ]
     },
     "execution_count": 243,
     "metadata": {},
     "output_type": "execute_result"
    }
   ],
   "source": [
    "df.dtypes"
   ]
  },
  {
   "cell_type": "markdown",
   "id": "6ce81c56",
   "metadata": {},
   "source": [
    "# Redundant Features"
   ]
  },
  {
   "cell_type": "markdown",
   "id": "7cbfac17",
   "metadata": {},
   "source": [
    "<blockquote>Looking at the number of unique values for each feature, there doesn't seem to exist any constant features, however there does exist an issue in which 'Loan ID' and 'Customer ID' are not comprised of completely unique values, since both of them contain 81,999 unique values as opposed to the expected 100,514. This means that there exist some customers who have more than one entry in the dataset, which may need to be dealt with.</blockquote>"
   ]
  },
  {
   "cell_type": "code",
   "execution_count": 244,
   "id": "91938376",
   "metadata": {},
   "outputs": [
    {
     "data": {
      "text/plain": [
       "Loan ID                         81999\n",
       "Customer ID                     81999\n",
       "Loan Status                         2\n",
       "Current Loan Amount             22004\n",
       "Term                                2\n",
       "Credit Score                      324\n",
       "Annual Income                   36174\n",
       "Years Current Job                  11\n",
       "Home Ownership                      4\n",
       "Purpose                            16\n",
       "Monthly Debt                    65765\n",
       "Years of Credit History           506\n",
       "Months Since Last Delinquent      116\n",
       "Number Open Accounts               51\n",
       "Number Credit Problems             14\n",
       "Current Credit Balance          32730\n",
       "Maximum Open Credit             44596\n",
       "Bankruptcies                        8\n",
       "Tax Liens                          12\n",
       "dtype: int64"
      ]
     },
     "execution_count": 244,
     "metadata": {},
     "output_type": "execute_result"
    }
   ],
   "source": [
    "df.nunique()"
   ]
  },
  {
   "cell_type": "markdown",
   "id": "36ea0255",
   "metadata": {},
   "source": [
    "<blockquote>First, the duplicated 'Customer ID' rows are examined. It can be seen that each 'Customer ID' has an associated 'Loan ID', indicating that each customer only has one loan, and each loan only has one customer. This means that there is no reason for duplicate customer IDs or loan IDs to exist. </blockquote>"
   ]
  },
  {
   "cell_type": "code",
   "execution_count": 245,
   "id": "56f7c9de",
   "metadata": {},
   "outputs": [
    {
     "data": {
      "text/html": [
       "<div>\n",
       "<style scoped>\n",
       "    .dataframe tbody tr th:only-of-type {\n",
       "        vertical-align: middle;\n",
       "    }\n",
       "\n",
       "    .dataframe tbody tr th {\n",
       "        vertical-align: top;\n",
       "    }\n",
       "\n",
       "    .dataframe thead th {\n",
       "        text-align: right;\n",
       "    }\n",
       "</style>\n",
       "<table border=\"1\" class=\"dataframe\">\n",
       "  <thead>\n",
       "    <tr style=\"text-align: right;\">\n",
       "      <th></th>\n",
       "      <th>Loan ID</th>\n",
       "      <th>Customer ID</th>\n",
       "      <th>Loan Status</th>\n",
       "      <th>Current Loan Amount</th>\n",
       "      <th>Term</th>\n",
       "      <th>Credit Score</th>\n",
       "      <th>Annual Income</th>\n",
       "      <th>Years Current Job</th>\n",
       "      <th>Home Ownership</th>\n",
       "      <th>Purpose</th>\n",
       "      <th>Monthly Debt</th>\n",
       "      <th>Years of Credit History</th>\n",
       "      <th>Months Since Last Delinquent</th>\n",
       "      <th>Number Open Accounts</th>\n",
       "      <th>Number Credit Problems</th>\n",
       "      <th>Current Credit Balance</th>\n",
       "      <th>Maximum Open Credit</th>\n",
       "      <th>Bankruptcies</th>\n",
       "      <th>Tax Liens</th>\n",
       "    </tr>\n",
       "  </thead>\n",
       "  <tbody>\n",
       "    <tr>\n",
       "      <th>11148</th>\n",
       "      <td>f122c3f1-08ef-439e-912a-449802deb2a1</td>\n",
       "      <td>000877d4-55ed-4126-abda-968f61da7b7f</td>\n",
       "      <td>Fully Paid</td>\n",
       "      <td>111584</td>\n",
       "      <td>Short Term</td>\n",
       "      <td>717.000</td>\n",
       "      <td>481802.000</td>\n",
       "      <td>5 years</td>\n",
       "      <td>Rent</td>\n",
       "      <td>Debt Consolidation</td>\n",
       "      <td>5098.840</td>\n",
       "      <td>8.600</td>\n",
       "      <td>NaN</td>\n",
       "      <td>5</td>\n",
       "      <td>0</td>\n",
       "      <td>103398</td>\n",
       "      <td>174020.000</td>\n",
       "      <td>0.000</td>\n",
       "      <td>0.000</td>\n",
       "    </tr>\n",
       "    <tr>\n",
       "      <th>33099</th>\n",
       "      <td>f122c3f1-08ef-439e-912a-449802deb2a1</td>\n",
       "      <td>000877d4-55ed-4126-abda-968f61da7b7f</td>\n",
       "      <td>Fully Paid</td>\n",
       "      <td>111584</td>\n",
       "      <td>Short Term</td>\n",
       "      <td>NaN</td>\n",
       "      <td>NaN</td>\n",
       "      <td>5 years</td>\n",
       "      <td>Rent</td>\n",
       "      <td>Debt Consolidation</td>\n",
       "      <td>5098.840</td>\n",
       "      <td>8.600</td>\n",
       "      <td>NaN</td>\n",
       "      <td>5</td>\n",
       "      <td>0</td>\n",
       "      <td>103398</td>\n",
       "      <td>174020.000</td>\n",
       "      <td>0.000</td>\n",
       "      <td>0.000</td>\n",
       "    </tr>\n",
       "    <tr>\n",
       "      <th>39664</th>\n",
       "      <td>e4deec6d-406f-4873-bbdf-46f252c0b92c</td>\n",
       "      <td>0008bc47-41f5-4e2b-b656-db39bc194a01</td>\n",
       "      <td>Fully Paid</td>\n",
       "      <td>270974</td>\n",
       "      <td>Long Term</td>\n",
       "      <td>623.000</td>\n",
       "      <td>765700.000</td>\n",
       "      <td>&lt; 1 year</td>\n",
       "      <td>Rent</td>\n",
       "      <td>Debt Consolidation</td>\n",
       "      <td>12889.220</td>\n",
       "      <td>9.500</td>\n",
       "      <td>NaN</td>\n",
       "      <td>7</td>\n",
       "      <td>0</td>\n",
       "      <td>235809</td>\n",
       "      <td>447612.000</td>\n",
       "      <td>0.000</td>\n",
       "      <td>0.000</td>\n",
       "    </tr>\n",
       "    <tr>\n",
       "      <th>93526</th>\n",
       "      <td>e4deec6d-406f-4873-bbdf-46f252c0b92c</td>\n",
       "      <td>0008bc47-41f5-4e2b-b656-db39bc194a01</td>\n",
       "      <td>Fully Paid</td>\n",
       "      <td>270974</td>\n",
       "      <td>Long Term</td>\n",
       "      <td>623.000</td>\n",
       "      <td>765700.000</td>\n",
       "      <td>&lt; 1 year</td>\n",
       "      <td>Rent</td>\n",
       "      <td>Debt Consolidation</td>\n",
       "      <td>12889.220</td>\n",
       "      <td>9.500</td>\n",
       "      <td>NaN</td>\n",
       "      <td>7</td>\n",
       "      <td>0</td>\n",
       "      <td>235809</td>\n",
       "      <td>447612.000</td>\n",
       "      <td>0.000</td>\n",
       "      <td>0.000</td>\n",
       "    </tr>\n",
       "    <tr>\n",
       "      <th>92361</th>\n",
       "      <td>87b6a064-b524-4cff-a968-b176bdc70075</td>\n",
       "      <td>000bbb5d-3a62-4712-908e-caacd7a815d5</td>\n",
       "      <td>Fully Paid</td>\n",
       "      <td>731082</td>\n",
       "      <td>Short Term</td>\n",
       "      <td>NaN</td>\n",
       "      <td>NaN</td>\n",
       "      <td>2 years</td>\n",
       "      <td>Rent</td>\n",
       "      <td>Debt Consolidation</td>\n",
       "      <td>25351.320</td>\n",
       "      <td>17.700</td>\n",
       "      <td>NaN</td>\n",
       "      <td>13</td>\n",
       "      <td>0</td>\n",
       "      <td>722095</td>\n",
       "      <td>1509244.000</td>\n",
       "      <td>0.000</td>\n",
       "      <td>0.000</td>\n",
       "    </tr>\n",
       "    <tr>\n",
       "      <th>81139</th>\n",
       "      <td>87b6a064-b524-4cff-a968-b176bdc70075</td>\n",
       "      <td>000bbb5d-3a62-4712-908e-caacd7a815d5</td>\n",
       "      <td>Fully Paid</td>\n",
       "      <td>731082</td>\n",
       "      <td>Short Term</td>\n",
       "      <td>708.000</td>\n",
       "      <td>1913300.000</td>\n",
       "      <td>2 years</td>\n",
       "      <td>Rent</td>\n",
       "      <td>Debt Consolidation</td>\n",
       "      <td>25351.320</td>\n",
       "      <td>17.700</td>\n",
       "      <td>NaN</td>\n",
       "      <td>13</td>\n",
       "      <td>0</td>\n",
       "      <td>722095</td>\n",
       "      <td>1509244.000</td>\n",
       "      <td>0.000</td>\n",
       "      <td>0.000</td>\n",
       "    </tr>\n",
       "    <tr>\n",
       "      <th>89966</th>\n",
       "      <td>54bd20d4-3baf-4143-afc5-b6db9300a14d</td>\n",
       "      <td>00127cca-7050-4867-9410-8249ef8ad4d2</td>\n",
       "      <td>Fully Paid</td>\n",
       "      <td>343464</td>\n",
       "      <td>Long Term</td>\n",
       "      <td>720.000</td>\n",
       "      <td>1140912.000</td>\n",
       "      <td>10+ years</td>\n",
       "      <td>Home Mortgage</td>\n",
       "      <td>Home Improvements</td>\n",
       "      <td>9431.600</td>\n",
       "      <td>19.800</td>\n",
       "      <td>30.000</td>\n",
       "      <td>8</td>\n",
       "      <td>0</td>\n",
       "      <td>48032</td>\n",
       "      <td>617958.000</td>\n",
       "      <td>0.000</td>\n",
       "      <td>0.000</td>\n",
       "    </tr>\n",
       "    <tr>\n",
       "      <th>47215</th>\n",
       "      <td>54bd20d4-3baf-4143-afc5-b6db9300a14d</td>\n",
       "      <td>00127cca-7050-4867-9410-8249ef8ad4d2</td>\n",
       "      <td>Fully Paid</td>\n",
       "      <td>343464</td>\n",
       "      <td>Long Term</td>\n",
       "      <td>720.000</td>\n",
       "      <td>1140912.000</td>\n",
       "      <td>10+ years</td>\n",
       "      <td>Home Mortgage</td>\n",
       "      <td>Home Improvements</td>\n",
       "      <td>9431.600</td>\n",
       "      <td>19.800</td>\n",
       "      <td>30.000</td>\n",
       "      <td>8</td>\n",
       "      <td>0</td>\n",
       "      <td>48032</td>\n",
       "      <td>617958.000</td>\n",
       "      <td>0.000</td>\n",
       "      <td>0.000</td>\n",
       "    </tr>\n",
       "    <tr>\n",
       "      <th>70953</th>\n",
       "      <td>c6e62921-023d-4033-9805-0179cde0de33</td>\n",
       "      <td>00132610-2f2f-4aeb-a371-2d66aca1248e</td>\n",
       "      <td>Fully Paid</td>\n",
       "      <td>288024</td>\n",
       "      <td>Long Term</td>\n",
       "      <td>697.000</td>\n",
       "      <td>1243778.000</td>\n",
       "      <td>8 years</td>\n",
       "      <td>Home Mortgage</td>\n",
       "      <td>Debt Consolidation</td>\n",
       "      <td>12002.300</td>\n",
       "      <td>19.700</td>\n",
       "      <td>10.000</td>\n",
       "      <td>9</td>\n",
       "      <td>0</td>\n",
       "      <td>40736</td>\n",
       "      <td>130680.000</td>\n",
       "      <td>0.000</td>\n",
       "      <td>0.000</td>\n",
       "    </tr>\n",
       "    <tr>\n",
       "      <th>40102</th>\n",
       "      <td>c6e62921-023d-4033-9805-0179cde0de33</td>\n",
       "      <td>00132610-2f2f-4aeb-a371-2d66aca1248e</td>\n",
       "      <td>Fully Paid</td>\n",
       "      <td>99999999</td>\n",
       "      <td>Long Term</td>\n",
       "      <td>697.000</td>\n",
       "      <td>1243778.000</td>\n",
       "      <td>8 years</td>\n",
       "      <td>Home Mortgage</td>\n",
       "      <td>Debt Consolidation</td>\n",
       "      <td>12002.300</td>\n",
       "      <td>19.700</td>\n",
       "      <td>10.000</td>\n",
       "      <td>9</td>\n",
       "      <td>0</td>\n",
       "      <td>40736</td>\n",
       "      <td>130680.000</td>\n",
       "      <td>0.000</td>\n",
       "      <td>0.000</td>\n",
       "    </tr>\n",
       "  </tbody>\n",
       "</table>\n",
       "</div>"
      ],
      "text/plain": [
       "                                    Loan ID  \\\n",
       "11148  f122c3f1-08ef-439e-912a-449802deb2a1   \n",
       "33099  f122c3f1-08ef-439e-912a-449802deb2a1   \n",
       "39664  e4deec6d-406f-4873-bbdf-46f252c0b92c   \n",
       "93526  e4deec6d-406f-4873-bbdf-46f252c0b92c   \n",
       "92361  87b6a064-b524-4cff-a968-b176bdc70075   \n",
       "81139  87b6a064-b524-4cff-a968-b176bdc70075   \n",
       "89966  54bd20d4-3baf-4143-afc5-b6db9300a14d   \n",
       "47215  54bd20d4-3baf-4143-afc5-b6db9300a14d   \n",
       "70953  c6e62921-023d-4033-9805-0179cde0de33   \n",
       "40102  c6e62921-023d-4033-9805-0179cde0de33   \n",
       "\n",
       "                                Customer ID Loan Status  Current Loan Amount  \\\n",
       "11148  000877d4-55ed-4126-abda-968f61da7b7f  Fully Paid               111584   \n",
       "33099  000877d4-55ed-4126-abda-968f61da7b7f  Fully Paid               111584   \n",
       "39664  0008bc47-41f5-4e2b-b656-db39bc194a01  Fully Paid               270974   \n",
       "93526  0008bc47-41f5-4e2b-b656-db39bc194a01  Fully Paid               270974   \n",
       "92361  000bbb5d-3a62-4712-908e-caacd7a815d5  Fully Paid               731082   \n",
       "81139  000bbb5d-3a62-4712-908e-caacd7a815d5  Fully Paid               731082   \n",
       "89966  00127cca-7050-4867-9410-8249ef8ad4d2  Fully Paid               343464   \n",
       "47215  00127cca-7050-4867-9410-8249ef8ad4d2  Fully Paid               343464   \n",
       "70953  00132610-2f2f-4aeb-a371-2d66aca1248e  Fully Paid               288024   \n",
       "40102  00132610-2f2f-4aeb-a371-2d66aca1248e  Fully Paid             99999999   \n",
       "\n",
       "             Term  Credit Score  Annual Income Years Current Job  \\\n",
       "11148  Short Term       717.000     481802.000           5 years   \n",
       "33099  Short Term           NaN            NaN           5 years   \n",
       "39664   Long Term       623.000     765700.000          < 1 year   \n",
       "93526   Long Term       623.000     765700.000          < 1 year   \n",
       "92361  Short Term           NaN            NaN           2 years   \n",
       "81139  Short Term       708.000    1913300.000           2 years   \n",
       "89966   Long Term       720.000    1140912.000         10+ years   \n",
       "47215   Long Term       720.000    1140912.000         10+ years   \n",
       "70953   Long Term       697.000    1243778.000           8 years   \n",
       "40102   Long Term       697.000    1243778.000           8 years   \n",
       "\n",
       "      Home Ownership             Purpose  Monthly Debt  \\\n",
       "11148           Rent  Debt Consolidation      5098.840   \n",
       "33099           Rent  Debt Consolidation      5098.840   \n",
       "39664           Rent  Debt Consolidation     12889.220   \n",
       "93526           Rent  Debt Consolidation     12889.220   \n",
       "92361           Rent  Debt Consolidation     25351.320   \n",
       "81139           Rent  Debt Consolidation     25351.320   \n",
       "89966  Home Mortgage   Home Improvements      9431.600   \n",
       "47215  Home Mortgage   Home Improvements      9431.600   \n",
       "70953  Home Mortgage  Debt Consolidation     12002.300   \n",
       "40102  Home Mortgage  Debt Consolidation     12002.300   \n",
       "\n",
       "       Years of Credit History  Months Since Last Delinquent  \\\n",
       "11148                    8.600                           NaN   \n",
       "33099                    8.600                           NaN   \n",
       "39664                    9.500                           NaN   \n",
       "93526                    9.500                           NaN   \n",
       "92361                   17.700                           NaN   \n",
       "81139                   17.700                           NaN   \n",
       "89966                   19.800                        30.000   \n",
       "47215                   19.800                        30.000   \n",
       "70953                   19.700                        10.000   \n",
       "40102                   19.700                        10.000   \n",
       "\n",
       "       Number Open Accounts  Number Credit Problems  Current Credit Balance  \\\n",
       "11148                     5                       0                  103398   \n",
       "33099                     5                       0                  103398   \n",
       "39664                     7                       0                  235809   \n",
       "93526                     7                       0                  235809   \n",
       "92361                    13                       0                  722095   \n",
       "81139                    13                       0                  722095   \n",
       "89966                     8                       0                   48032   \n",
       "47215                     8                       0                   48032   \n",
       "70953                     9                       0                   40736   \n",
       "40102                     9                       0                   40736   \n",
       "\n",
       "       Maximum Open Credit  Bankruptcies  Tax Liens  \n",
       "11148           174020.000         0.000      0.000  \n",
       "33099           174020.000         0.000      0.000  \n",
       "39664           447612.000         0.000      0.000  \n",
       "93526           447612.000         0.000      0.000  \n",
       "92361          1509244.000         0.000      0.000  \n",
       "81139          1509244.000         0.000      0.000  \n",
       "89966           617958.000         0.000      0.000  \n",
       "47215           617958.000         0.000      0.000  \n",
       "70953           130680.000         0.000      0.000  \n",
       "40102           130680.000         0.000      0.000  "
      ]
     },
     "execution_count": 245,
     "metadata": {},
     "output_type": "execute_result"
    }
   ],
   "source": [
    "index = df['Customer ID'].value_counts()[df['Customer ID'].value_counts()>1].index.values\n",
    "df[df['Customer ID'].isin(index)].sort_values('Customer ID').head(10)"
   ]
  },
  {
   "cell_type": "markdown",
   "id": "ad2a8361",
   "metadata": {},
   "source": [
    "<blockquote>Looking at the number of duplicated rows (across all features), there are 20,944. These duplicated rows are then removed, leaving 89,786 observations in the dataset.</blockquote>"
   ]
  },
  {
   "cell_type": "code",
   "execution_count": 246,
   "id": "18584934",
   "metadata": {},
   "outputs": [
    {
     "name": "stdout",
     "output_type": "stream",
     "text": [
      "Number of duplicated rows: 20430\n",
      "Number of rows in df after duplicates are removed: 89785\n"
     ]
    }
   ],
   "source": [
    "print(\"Number of duplicated rows:\", len(df[df.duplicated(keep=False)]))\n",
    "df = df.drop_duplicates()\n",
    "print(\"Number of rows in df after duplicates are removed:\", df.shape[0])"
   ]
  },
  {
   "cell_type": "markdown",
   "id": "136ccb7f",
   "metadata": {},
   "source": [
    "<blockquote>The next step is to examine whether 'Customer ID' still contain values that occur more than once, which reveals 15,572 observations. Examining the table below, it seems that the duplicate customer IDs have mostly the same values across features, however with 'Credit Score' and 'Annual Income' containing NaN values as opposed to being populated. Additionally, the 'Current Loan Amount' values for some duplicates are 99999999.0 which indicates some form of non-applicable value.</blockquote>"
   ]
  },
  {
   "cell_type": "code",
   "execution_count": 247,
   "id": "d3eb7212",
   "metadata": {},
   "outputs": [
    {
     "name": "stdout",
     "output_type": "stream",
     "text": [
      "df_dup Shape: (15572, 19)\n"
     ]
    },
    {
     "data": {
      "text/html": [
       "<div>\n",
       "<style scoped>\n",
       "    .dataframe tbody tr th:only-of-type {\n",
       "        vertical-align: middle;\n",
       "    }\n",
       "\n",
       "    .dataframe tbody tr th {\n",
       "        vertical-align: top;\n",
       "    }\n",
       "\n",
       "    .dataframe thead th {\n",
       "        text-align: right;\n",
       "    }\n",
       "</style>\n",
       "<table border=\"1\" class=\"dataframe\">\n",
       "  <thead>\n",
       "    <tr style=\"text-align: right;\">\n",
       "      <th></th>\n",
       "      <th>Loan ID</th>\n",
       "      <th>Customer ID</th>\n",
       "      <th>Loan Status</th>\n",
       "      <th>Current Loan Amount</th>\n",
       "      <th>Term</th>\n",
       "      <th>Credit Score</th>\n",
       "      <th>Annual Income</th>\n",
       "      <th>Years Current Job</th>\n",
       "      <th>Home Ownership</th>\n",
       "      <th>Purpose</th>\n",
       "      <th>Monthly Debt</th>\n",
       "      <th>Years of Credit History</th>\n",
       "      <th>Months Since Last Delinquent</th>\n",
       "      <th>Number Open Accounts</th>\n",
       "      <th>Number Credit Problems</th>\n",
       "      <th>Current Credit Balance</th>\n",
       "      <th>Maximum Open Credit</th>\n",
       "      <th>Bankruptcies</th>\n",
       "      <th>Tax Liens</th>\n",
       "    </tr>\n",
       "  </thead>\n",
       "  <tbody>\n",
       "    <tr>\n",
       "      <th>33099</th>\n",
       "      <td>f122c3f1-08ef-439e-912a-449802deb2a1</td>\n",
       "      <td>000877d4-55ed-4126-abda-968f61da7b7f</td>\n",
       "      <td>Fully Paid</td>\n",
       "      <td>111584</td>\n",
       "      <td>Short Term</td>\n",
       "      <td>NaN</td>\n",
       "      <td>NaN</td>\n",
       "      <td>5 years</td>\n",
       "      <td>Rent</td>\n",
       "      <td>Debt Consolidation</td>\n",
       "      <td>5098.840</td>\n",
       "      <td>8.600</td>\n",
       "      <td>NaN</td>\n",
       "      <td>5</td>\n",
       "      <td>0</td>\n",
       "      <td>103398</td>\n",
       "      <td>174020.000</td>\n",
       "      <td>0.000</td>\n",
       "      <td>0.000</td>\n",
       "    </tr>\n",
       "    <tr>\n",
       "      <th>11148</th>\n",
       "      <td>f122c3f1-08ef-439e-912a-449802deb2a1</td>\n",
       "      <td>000877d4-55ed-4126-abda-968f61da7b7f</td>\n",
       "      <td>Fully Paid</td>\n",
       "      <td>111584</td>\n",
       "      <td>Short Term</td>\n",
       "      <td>717.000</td>\n",
       "      <td>481802.000</td>\n",
       "      <td>5 years</td>\n",
       "      <td>Rent</td>\n",
       "      <td>Debt Consolidation</td>\n",
       "      <td>5098.840</td>\n",
       "      <td>8.600</td>\n",
       "      <td>NaN</td>\n",
       "      <td>5</td>\n",
       "      <td>0</td>\n",
       "      <td>103398</td>\n",
       "      <td>174020.000</td>\n",
       "      <td>0.000</td>\n",
       "      <td>0.000</td>\n",
       "    </tr>\n",
       "    <tr>\n",
       "      <th>92361</th>\n",
       "      <td>87b6a064-b524-4cff-a968-b176bdc70075</td>\n",
       "      <td>000bbb5d-3a62-4712-908e-caacd7a815d5</td>\n",
       "      <td>Fully Paid</td>\n",
       "      <td>731082</td>\n",
       "      <td>Short Term</td>\n",
       "      <td>NaN</td>\n",
       "      <td>NaN</td>\n",
       "      <td>2 years</td>\n",
       "      <td>Rent</td>\n",
       "      <td>Debt Consolidation</td>\n",
       "      <td>25351.320</td>\n",
       "      <td>17.700</td>\n",
       "      <td>NaN</td>\n",
       "      <td>13</td>\n",
       "      <td>0</td>\n",
       "      <td>722095</td>\n",
       "      <td>1509244.000</td>\n",
       "      <td>0.000</td>\n",
       "      <td>0.000</td>\n",
       "    </tr>\n",
       "    <tr>\n",
       "      <th>81139</th>\n",
       "      <td>87b6a064-b524-4cff-a968-b176bdc70075</td>\n",
       "      <td>000bbb5d-3a62-4712-908e-caacd7a815d5</td>\n",
       "      <td>Fully Paid</td>\n",
       "      <td>731082</td>\n",
       "      <td>Short Term</td>\n",
       "      <td>708.000</td>\n",
       "      <td>1913300.000</td>\n",
       "      <td>2 years</td>\n",
       "      <td>Rent</td>\n",
       "      <td>Debt Consolidation</td>\n",
       "      <td>25351.320</td>\n",
       "      <td>17.700</td>\n",
       "      <td>NaN</td>\n",
       "      <td>13</td>\n",
       "      <td>0</td>\n",
       "      <td>722095</td>\n",
       "      <td>1509244.000</td>\n",
       "      <td>0.000</td>\n",
       "      <td>0.000</td>\n",
       "    </tr>\n",
       "    <tr>\n",
       "      <th>40102</th>\n",
       "      <td>c6e62921-023d-4033-9805-0179cde0de33</td>\n",
       "      <td>00132610-2f2f-4aeb-a371-2d66aca1248e</td>\n",
       "      <td>Fully Paid</td>\n",
       "      <td>99999999</td>\n",
       "      <td>Long Term</td>\n",
       "      <td>697.000</td>\n",
       "      <td>1243778.000</td>\n",
       "      <td>8 years</td>\n",
       "      <td>Home Mortgage</td>\n",
       "      <td>Debt Consolidation</td>\n",
       "      <td>12002.300</td>\n",
       "      <td>19.700</td>\n",
       "      <td>10.000</td>\n",
       "      <td>9</td>\n",
       "      <td>0</td>\n",
       "      <td>40736</td>\n",
       "      <td>130680.000</td>\n",
       "      <td>0.000</td>\n",
       "      <td>0.000</td>\n",
       "    </tr>\n",
       "    <tr>\n",
       "      <th>70953</th>\n",
       "      <td>c6e62921-023d-4033-9805-0179cde0de33</td>\n",
       "      <td>00132610-2f2f-4aeb-a371-2d66aca1248e</td>\n",
       "      <td>Fully Paid</td>\n",
       "      <td>288024</td>\n",
       "      <td>Long Term</td>\n",
       "      <td>697.000</td>\n",
       "      <td>1243778.000</td>\n",
       "      <td>8 years</td>\n",
       "      <td>Home Mortgage</td>\n",
       "      <td>Debt Consolidation</td>\n",
       "      <td>12002.300</td>\n",
       "      <td>19.700</td>\n",
       "      <td>10.000</td>\n",
       "      <td>9</td>\n",
       "      <td>0</td>\n",
       "      <td>40736</td>\n",
       "      <td>130680.000</td>\n",
       "      <td>0.000</td>\n",
       "      <td>0.000</td>\n",
       "    </tr>\n",
       "    <tr>\n",
       "      <th>80729</th>\n",
       "      <td>136fe944-059d-4a9a-8780-bc0e292c8c0c</td>\n",
       "      <td>002bc5f8-d5a8-4829-a6ca-5c624c9d15e6</td>\n",
       "      <td>Fully Paid</td>\n",
       "      <td>779482</td>\n",
       "      <td>Short Term</td>\n",
       "      <td>655.000</td>\n",
       "      <td>1711805.000</td>\n",
       "      <td>2 years</td>\n",
       "      <td>Home Mortgage</td>\n",
       "      <td>Debt Consolidation</td>\n",
       "      <td>24678.340</td>\n",
       "      <td>21.900</td>\n",
       "      <td>12.000</td>\n",
       "      <td>14</td>\n",
       "      <td>0</td>\n",
       "      <td>177707</td>\n",
       "      <td>233816.000</td>\n",
       "      <td>0.000</td>\n",
       "      <td>0.000</td>\n",
       "    </tr>\n",
       "    <tr>\n",
       "      <th>73064</th>\n",
       "      <td>136fe944-059d-4a9a-8780-bc0e292c8c0c</td>\n",
       "      <td>002bc5f8-d5a8-4829-a6ca-5c624c9d15e6</td>\n",
       "      <td>Fully Paid</td>\n",
       "      <td>99999999</td>\n",
       "      <td>Short Term</td>\n",
       "      <td>655.000</td>\n",
       "      <td>1711805.000</td>\n",
       "      <td>2 years</td>\n",
       "      <td>Home Mortgage</td>\n",
       "      <td>Debt Consolidation</td>\n",
       "      <td>24678.340</td>\n",
       "      <td>21.900</td>\n",
       "      <td>12.000</td>\n",
       "      <td>14</td>\n",
       "      <td>0</td>\n",
       "      <td>177707</td>\n",
       "      <td>233816.000</td>\n",
       "      <td>0.000</td>\n",
       "      <td>0.000</td>\n",
       "    </tr>\n",
       "    <tr>\n",
       "      <th>35968</th>\n",
       "      <td>b26e56aa-64e2-4a94-97f6-476a832a8d72</td>\n",
       "      <td>002c8210-0d81-4ce4-adca-ae2e4a83ac24</td>\n",
       "      <td>Fully Paid</td>\n",
       "      <td>576180</td>\n",
       "      <td>Long Term</td>\n",
       "      <td>719.000</td>\n",
       "      <td>1132020.000</td>\n",
       "      <td>7 years</td>\n",
       "      <td>Home Mortgage</td>\n",
       "      <td>Debt Consolidation</td>\n",
       "      <td>23395.080</td>\n",
       "      <td>21.200</td>\n",
       "      <td>NaN</td>\n",
       "      <td>11</td>\n",
       "      <td>0</td>\n",
       "      <td>198018</td>\n",
       "      <td>406516.000</td>\n",
       "      <td>0.000</td>\n",
       "      <td>0.000</td>\n",
       "    </tr>\n",
       "    <tr>\n",
       "      <th>2759</th>\n",
       "      <td>b26e56aa-64e2-4a94-97f6-476a832a8d72</td>\n",
       "      <td>002c8210-0d81-4ce4-adca-ae2e4a83ac24</td>\n",
       "      <td>Fully Paid</td>\n",
       "      <td>99999999</td>\n",
       "      <td>Long Term</td>\n",
       "      <td>719.000</td>\n",
       "      <td>1132020.000</td>\n",
       "      <td>7 years</td>\n",
       "      <td>Home Mortgage</td>\n",
       "      <td>Debt Consolidation</td>\n",
       "      <td>23395.080</td>\n",
       "      <td>21.200</td>\n",
       "      <td>NaN</td>\n",
       "      <td>11</td>\n",
       "      <td>0</td>\n",
       "      <td>198018</td>\n",
       "      <td>406516.000</td>\n",
       "      <td>0.000</td>\n",
       "      <td>0.000</td>\n",
       "    </tr>\n",
       "  </tbody>\n",
       "</table>\n",
       "</div>"
      ],
      "text/plain": [
       "                                    Loan ID  \\\n",
       "33099  f122c3f1-08ef-439e-912a-449802deb2a1   \n",
       "11148  f122c3f1-08ef-439e-912a-449802deb2a1   \n",
       "92361  87b6a064-b524-4cff-a968-b176bdc70075   \n",
       "81139  87b6a064-b524-4cff-a968-b176bdc70075   \n",
       "40102  c6e62921-023d-4033-9805-0179cde0de33   \n",
       "70953  c6e62921-023d-4033-9805-0179cde0de33   \n",
       "80729  136fe944-059d-4a9a-8780-bc0e292c8c0c   \n",
       "73064  136fe944-059d-4a9a-8780-bc0e292c8c0c   \n",
       "35968  b26e56aa-64e2-4a94-97f6-476a832a8d72   \n",
       "2759   b26e56aa-64e2-4a94-97f6-476a832a8d72   \n",
       "\n",
       "                                Customer ID Loan Status  Current Loan Amount  \\\n",
       "33099  000877d4-55ed-4126-abda-968f61da7b7f  Fully Paid               111584   \n",
       "11148  000877d4-55ed-4126-abda-968f61da7b7f  Fully Paid               111584   \n",
       "92361  000bbb5d-3a62-4712-908e-caacd7a815d5  Fully Paid               731082   \n",
       "81139  000bbb5d-3a62-4712-908e-caacd7a815d5  Fully Paid               731082   \n",
       "40102  00132610-2f2f-4aeb-a371-2d66aca1248e  Fully Paid             99999999   \n",
       "70953  00132610-2f2f-4aeb-a371-2d66aca1248e  Fully Paid               288024   \n",
       "80729  002bc5f8-d5a8-4829-a6ca-5c624c9d15e6  Fully Paid               779482   \n",
       "73064  002bc5f8-d5a8-4829-a6ca-5c624c9d15e6  Fully Paid             99999999   \n",
       "35968  002c8210-0d81-4ce4-adca-ae2e4a83ac24  Fully Paid               576180   \n",
       "2759   002c8210-0d81-4ce4-adca-ae2e4a83ac24  Fully Paid             99999999   \n",
       "\n",
       "             Term  Credit Score  Annual Income Years Current Job  \\\n",
       "33099  Short Term           NaN            NaN           5 years   \n",
       "11148  Short Term       717.000     481802.000           5 years   \n",
       "92361  Short Term           NaN            NaN           2 years   \n",
       "81139  Short Term       708.000    1913300.000           2 years   \n",
       "40102   Long Term       697.000    1243778.000           8 years   \n",
       "70953   Long Term       697.000    1243778.000           8 years   \n",
       "80729  Short Term       655.000    1711805.000           2 years   \n",
       "73064  Short Term       655.000    1711805.000           2 years   \n",
       "35968   Long Term       719.000    1132020.000           7 years   \n",
       "2759    Long Term       719.000    1132020.000           7 years   \n",
       "\n",
       "      Home Ownership             Purpose  Monthly Debt  \\\n",
       "33099           Rent  Debt Consolidation      5098.840   \n",
       "11148           Rent  Debt Consolidation      5098.840   \n",
       "92361           Rent  Debt Consolidation     25351.320   \n",
       "81139           Rent  Debt Consolidation     25351.320   \n",
       "40102  Home Mortgage  Debt Consolidation     12002.300   \n",
       "70953  Home Mortgage  Debt Consolidation     12002.300   \n",
       "80729  Home Mortgage  Debt Consolidation     24678.340   \n",
       "73064  Home Mortgage  Debt Consolidation     24678.340   \n",
       "35968  Home Mortgage  Debt Consolidation     23395.080   \n",
       "2759   Home Mortgage  Debt Consolidation     23395.080   \n",
       "\n",
       "       Years of Credit History  Months Since Last Delinquent  \\\n",
       "33099                    8.600                           NaN   \n",
       "11148                    8.600                           NaN   \n",
       "92361                   17.700                           NaN   \n",
       "81139                   17.700                           NaN   \n",
       "40102                   19.700                        10.000   \n",
       "70953                   19.700                        10.000   \n",
       "80729                   21.900                        12.000   \n",
       "73064                   21.900                        12.000   \n",
       "35968                   21.200                           NaN   \n",
       "2759                    21.200                           NaN   \n",
       "\n",
       "       Number Open Accounts  Number Credit Problems  Current Credit Balance  \\\n",
       "33099                     5                       0                  103398   \n",
       "11148                     5                       0                  103398   \n",
       "92361                    13                       0                  722095   \n",
       "81139                    13                       0                  722095   \n",
       "40102                     9                       0                   40736   \n",
       "70953                     9                       0                   40736   \n",
       "80729                    14                       0                  177707   \n",
       "73064                    14                       0                  177707   \n",
       "35968                    11                       0                  198018   \n",
       "2759                     11                       0                  198018   \n",
       "\n",
       "       Maximum Open Credit  Bankruptcies  Tax Liens  \n",
       "33099           174020.000         0.000      0.000  \n",
       "11148           174020.000         0.000      0.000  \n",
       "92361          1509244.000         0.000      0.000  \n",
       "81139          1509244.000         0.000      0.000  \n",
       "40102           130680.000         0.000      0.000  \n",
       "70953           130680.000         0.000      0.000  \n",
       "80729           233816.000         0.000      0.000  \n",
       "73064           233816.000         0.000      0.000  \n",
       "35968           406516.000         0.000      0.000  \n",
       "2759            406516.000         0.000      0.000  "
      ]
     },
     "execution_count": 247,
     "metadata": {},
     "output_type": "execute_result"
    }
   ],
   "source": [
    "index = df['Customer ID'].value_counts()[df['Customer ID'].value_counts()>1].index.values\n",
    "df_dup = df[df['Customer ID'].isin(index)].sort_values('Customer ID')\n",
    "\n",
    "print(\"df_dup Shape:\", df_dup.shape)\n",
    "df_dup.head(10)"
   ]
  },
  {
   "cell_type": "markdown",
   "id": "278f921f",
   "metadata": {},
   "source": [
    "<blockquote>As it is desirable to keep the 'Customer ID' duplicates that do not contain NaN values for 'Credit Score' and 'Annual Income', as well as not containing 99999999.0 for its 'Current Loan Amount', an index is created that contains all the duplicate customer IDs that do have these values, which is then used to remove these rows from the dataset. Once the undesired duplicates are removed, the df contains 82,000 observations.</blockquote>"
   ]
  },
  {
   "cell_type": "code",
   "execution_count": 248,
   "id": "69a3833c",
   "metadata": {},
   "outputs": [
    {
     "data": {
      "text/plain": [
       "(81999, 19)"
      ]
     },
     "execution_count": 248,
     "metadata": {},
     "output_type": "execute_result"
    }
   ],
   "source": [
    "dup_index = df_dup.sort_values(['Credit Score','Current Loan Amount'], \n",
    "                               ascending=True).drop_duplicates(subset='Customer ID',keep = 'last').index.values\n",
    "\n",
    "df = df.drop(dup_index,axis=0).reset_index(drop=True)\n",
    "df.shape"
   ]
  },
  {
   "cell_type": "markdown",
   "id": "e576b71f",
   "metadata": {},
   "source": [
    "<blockquote>The code below double checks that there are no more non-unique 'Customer ID' values.</blockquote>"
   ]
  },
  {
   "cell_type": "code",
   "execution_count": 249,
   "id": "98547837",
   "metadata": {},
   "outputs": [
    {
     "name": "stdout",
     "output_type": "stream",
     "text": [
      "Non-Unique Customer ID Values: 0\n"
     ]
    }
   ],
   "source": [
    "print(\"Non-Unique Customer ID Values:\", len(df['Customer ID'].value_counts()[df['Customer ID'].value_counts()>1]))"
   ]
  },
  {
   "cell_type": "markdown",
   "id": "863e6d67",
   "metadata": {},
   "source": [
    "<blockquote>Now that 'Customer ID' and 'Loan ID' both comprise of entirely unique values, these features can be removed as they do not contain useful information.</blockquote>"
   ]
  },
  {
   "cell_type": "code",
   "execution_count": 250,
   "id": "2914842e",
   "metadata": {},
   "outputs": [
    {
     "data": {
      "text/plain": [
       "(81999, 17)"
      ]
     },
     "execution_count": 250,
     "metadata": {},
     "output_type": "execute_result"
    }
   ],
   "source": [
    "df = df.drop(columns=['Loan ID', 'Customer ID'])\n",
    "df.shape"
   ]
  },
  {
   "cell_type": "markdown",
   "id": "387419b2",
   "metadata": {},
   "source": [
    "<blockquote>Another issue may arise from two or more of the features containing the same information. From below, it can be seen that 'Loan Status' (the target feature) and 'Term' contain the same number of unique values (levels). Although they're unlikely to contain the same information, a check will still be applied.</blockquote>"
   ]
  },
  {
   "cell_type": "code",
   "execution_count": 251,
   "id": "277199b9",
   "metadata": {},
   "outputs": [
    {
     "data": {
      "text/plain": [
       "Loan Status                         2\n",
       "Current Loan Amount             22004\n",
       "Term                                2\n",
       "Credit Score                      324\n",
       "Annual Income                   36174\n",
       "Years Current Job                  11\n",
       "Home Ownership                      4\n",
       "Purpose                            16\n",
       "Monthly Debt                    65765\n",
       "Years of Credit History           506\n",
       "Months Since Last Delinquent      116\n",
       "Number Open Accounts               51\n",
       "Number Credit Problems             14\n",
       "Current Credit Balance          32730\n",
       "Maximum Open Credit             44596\n",
       "Bankruptcies                        8\n",
       "Tax Liens                          12\n",
       "dtype: int64"
      ]
     },
     "execution_count": 251,
     "metadata": {},
     "output_type": "execute_result"
    }
   ],
   "source": [
    "df.nunique()"
   ]
  },
  {
   "cell_type": "markdown",
   "id": "e07b8f4e",
   "metadata": {},
   "source": [
    "<blockquote>The check below indicates that 'Loan Status' and 'Term' do not contain the same information as each other.</blockquote>"
   ]
  },
  {
   "cell_type": "code",
   "execution_count": 252,
   "id": "f84b64cb",
   "metadata": {},
   "outputs": [
    {
     "name": "stdout",
     "output_type": "stream",
     "text": [
      "Loan Status:\n",
      " ['Fully Paid' 'Fully Paid' 'Fully Paid' 'Fully Paid' 'Charged Off'\n",
      " 'Fully Paid' 'Charged Off' 'Fully Paid' 'Fully Paid' 'Fully Paid']\n",
      "Term (Converted):\n",
      " ['Fully Paid' 'Fully Paid' 'Fully Paid' 'Charged Off' 'Fully Paid'\n",
      " 'Fully Paid' 'Charged Off' 'Fully Paid' 'Fully Paid' 'Fully Paid']\n",
      "\n",
      "'Loan Status' and 'Term' are the same: False\n"
     ]
    }
   ],
   "source": [
    "status = df['Loan Status'].copy()\n",
    "term = df['Term'].copy()\n",
    "\n",
    "term = term.replace({'Short Term':'Fully Paid', 'Long Term': 'Charged Off'})\n",
    "print(\"Loan Status:\\n\", status.head(10).values)\n",
    "print(\"Term (Converted):\\n\", term.head(10).values)\n",
    "\n",
    "print(\"\\n'Loan Status' and 'Term' are the same:\", status.equals(term))"
   ]
  },
  {
   "cell_type": "markdown",
   "id": "cf5d42e4",
   "metadata": {},
   "source": [
    "# Incorrect Values"
   ]
  },
  {
   "cell_type": "markdown",
   "id": "3b708f8f",
   "metadata": {},
   "source": [
    "<blockquote>Looking at the summary statistics of the numerical features below, 'Current Loan Amount' seems suspicious as it contains maximum values of 99999999.0. Additionally, 'Credit Score' also seems suspicious because the values in the quartiles (min, 25%, 50%, and 75%) indicate that the credit score may be FICO scores, however its max value would be impossible.</blockquote>"
   ]
  },
  {
   "cell_type": "code",
   "execution_count": 253,
   "id": "f5c933fb",
   "metadata": {},
   "outputs": [
    {
     "data": {
      "text/html": [
       "<div>\n",
       "<style scoped>\n",
       "    .dataframe tbody tr th:only-of-type {\n",
       "        vertical-align: middle;\n",
       "    }\n",
       "\n",
       "    .dataframe tbody tr th {\n",
       "        vertical-align: top;\n",
       "    }\n",
       "\n",
       "    .dataframe thead th {\n",
       "        text-align: right;\n",
       "    }\n",
       "</style>\n",
       "<table border=\"1\" class=\"dataframe\">\n",
       "  <thead>\n",
       "    <tr style=\"text-align: right;\">\n",
       "      <th></th>\n",
       "      <th>Current Loan Amount</th>\n",
       "      <th>Credit Score</th>\n",
       "      <th>Annual Income</th>\n",
       "      <th>Monthly Debt</th>\n",
       "      <th>Years of Credit History</th>\n",
       "      <th>Months Since Last Delinquent</th>\n",
       "      <th>Number Open Accounts</th>\n",
       "      <th>Number Credit Problems</th>\n",
       "      <th>Current Credit Balance</th>\n",
       "      <th>Maximum Open Credit</th>\n",
       "      <th>Bankruptcies</th>\n",
       "      <th>Tax Liens</th>\n",
       "    </tr>\n",
       "  </thead>\n",
       "  <tbody>\n",
       "    <tr>\n",
       "      <th>count</th>\n",
       "      <td>81999.000</td>\n",
       "      <td>67052.000</td>\n",
       "      <td>67052.000</td>\n",
       "      <td>81999.000</td>\n",
       "      <td>81999.000</td>\n",
       "      <td>37378.000</td>\n",
       "      <td>81999.000</td>\n",
       "      <td>81999.000</td>\n",
       "      <td>81999.000</td>\n",
       "      <td>81997.000</td>\n",
       "      <td>81824.000</td>\n",
       "      <td>81991.000</td>\n",
       "    </tr>\n",
       "    <tr>\n",
       "      <th>mean</th>\n",
       "      <td>9919200.241</td>\n",
       "      <td>1153.858</td>\n",
       "      <td>1376503.129</td>\n",
       "      <td>18330.633</td>\n",
       "      <td>18.297</td>\n",
       "      <td>35.064</td>\n",
       "      <td>11.114</td>\n",
       "      <td>0.161</td>\n",
       "      <td>293620.313</td>\n",
       "      <td>793535.814</td>\n",
       "      <td>0.113</td>\n",
       "      <td>0.028</td>\n",
       "    </tr>\n",
       "    <tr>\n",
       "      <th>std</th>\n",
       "      <td>29424012.469</td>\n",
       "      <td>1609.162</td>\n",
       "      <td>1113132.317</td>\n",
       "      <td>12127.701</td>\n",
       "      <td>7.044</td>\n",
       "      <td>22.021</td>\n",
       "      <td>4.981</td>\n",
       "      <td>0.473</td>\n",
       "      <td>372614.512</td>\n",
       "      <td>9208747.412</td>\n",
       "      <td>0.345</td>\n",
       "      <td>0.255</td>\n",
       "    </tr>\n",
       "    <tr>\n",
       "      <th>min</th>\n",
       "      <td>10802.000</td>\n",
       "      <td>585.000</td>\n",
       "      <td>76627.000</td>\n",
       "      <td>0.000</td>\n",
       "      <td>3.600</td>\n",
       "      <td>0.000</td>\n",
       "      <td>0.000</td>\n",
       "      <td>0.000</td>\n",
       "      <td>0.000</td>\n",
       "      <td>0.000</td>\n",
       "      <td>0.000</td>\n",
       "      <td>0.000</td>\n",
       "    </tr>\n",
       "    <tr>\n",
       "      <th>25%</th>\n",
       "      <td>177804.000</td>\n",
       "      <td>710.000</td>\n",
       "      <td>847860.750</td>\n",
       "      <td>10117.595</td>\n",
       "      <td>13.500</td>\n",
       "      <td>16.000</td>\n",
       "      <td>8.000</td>\n",
       "      <td>0.000</td>\n",
       "      <td>113316.000</td>\n",
       "      <td>280456.000</td>\n",
       "      <td>0.000</td>\n",
       "      <td>0.000</td>\n",
       "    </tr>\n",
       "    <tr>\n",
       "      <th>50%</th>\n",
       "      <td>298518.000</td>\n",
       "      <td>730.000</td>\n",
       "      <td>1170628.000</td>\n",
       "      <td>16075.330</td>\n",
       "      <td>17.000</td>\n",
       "      <td>32.000</td>\n",
       "      <td>10.000</td>\n",
       "      <td>0.000</td>\n",
       "      <td>209931.000</td>\n",
       "      <td>477774.000</td>\n",
       "      <td>0.000</td>\n",
       "      <td>0.000</td>\n",
       "    </tr>\n",
       "    <tr>\n",
       "      <th>75%</th>\n",
       "      <td>483714.000</td>\n",
       "      <td>743.000</td>\n",
       "      <td>1649257.000</td>\n",
       "      <td>23811.370</td>\n",
       "      <td>21.800</td>\n",
       "      <td>51.000</td>\n",
       "      <td>14.000</td>\n",
       "      <td>0.000</td>\n",
       "      <td>366994.500</td>\n",
       "      <td>798490.000</td>\n",
       "      <td>0.000</td>\n",
       "      <td>0.000</td>\n",
       "    </tr>\n",
       "    <tr>\n",
       "      <th>max</th>\n",
       "      <td>99999999.000</td>\n",
       "      <td>7510.000</td>\n",
       "      <td>165557393.000</td>\n",
       "      <td>435843.280</td>\n",
       "      <td>70.500</td>\n",
       "      <td>176.000</td>\n",
       "      <td>76.000</td>\n",
       "      <td>15.000</td>\n",
       "      <td>32878968.000</td>\n",
       "      <td>1539737892.000</td>\n",
       "      <td>7.000</td>\n",
       "      <td>15.000</td>\n",
       "    </tr>\n",
       "  </tbody>\n",
       "</table>\n",
       "</div>"
      ],
      "text/plain": [
       "       Current Loan Amount  Credit Score  Annual Income  Monthly Debt  \\\n",
       "count            81999.000     67052.000      67052.000     81999.000   \n",
       "mean           9919200.241      1153.858    1376503.129     18330.633   \n",
       "std           29424012.469      1609.162    1113132.317     12127.701   \n",
       "min              10802.000       585.000      76627.000         0.000   \n",
       "25%             177804.000       710.000     847860.750     10117.595   \n",
       "50%             298518.000       730.000    1170628.000     16075.330   \n",
       "75%             483714.000       743.000    1649257.000     23811.370   \n",
       "max           99999999.000      7510.000  165557393.000    435843.280   \n",
       "\n",
       "       Years of Credit History  Months Since Last Delinquent  \\\n",
       "count                81999.000                     37378.000   \n",
       "mean                    18.297                        35.064   \n",
       "std                      7.044                        22.021   \n",
       "min                      3.600                         0.000   \n",
       "25%                     13.500                        16.000   \n",
       "50%                     17.000                        32.000   \n",
       "75%                     21.800                        51.000   \n",
       "max                     70.500                       176.000   \n",
       "\n",
       "       Number Open Accounts  Number Credit Problems  Current Credit Balance  \\\n",
       "count             81999.000               81999.000               81999.000   \n",
       "mean                 11.114                   0.161              293620.313   \n",
       "std                   4.981                   0.473              372614.512   \n",
       "min                   0.000                   0.000                   0.000   \n",
       "25%                   8.000                   0.000              113316.000   \n",
       "50%                  10.000                   0.000              209931.000   \n",
       "75%                  14.000                   0.000              366994.500   \n",
       "max                  76.000                  15.000            32878968.000   \n",
       "\n",
       "       Maximum Open Credit  Bankruptcies  Tax Liens  \n",
       "count            81997.000     81824.000  81991.000  \n",
       "mean            793535.814         0.113      0.028  \n",
       "std            9208747.412         0.345      0.255  \n",
       "min                  0.000         0.000      0.000  \n",
       "25%             280456.000         0.000      0.000  \n",
       "50%             477774.000         0.000      0.000  \n",
       "75%             798490.000         0.000      0.000  \n",
       "max         1539737892.000         7.000     15.000  "
      ]
     },
     "execution_count": 253,
     "metadata": {},
     "output_type": "execute_result"
    }
   ],
   "source": [
    "df.describe(include=np.number)"
   ]
  },
  {
   "cell_type": "markdown",
   "id": "7d6595a8",
   "metadata": {},
   "source": [
    "<blockquote>Exploring the 99999999.0 values further reveals that these values only occur for loan statuses that are fully paid, which means that this value could represent some non-applicable value, hence will be converted to NaN.</blockquote>"
   ]
  },
  {
   "cell_type": "code",
   "execution_count": 254,
   "id": "c44436bc",
   "metadata": {},
   "outputs": [
    {
     "data": {
      "text/plain": [
       "Fully Paid    7905\n",
       "Name: Loan Status, dtype: int64"
      ]
     },
     "execution_count": 254,
     "metadata": {},
     "output_type": "execute_result"
    }
   ],
   "source": [
    "df['Loan Status'][df['Current Loan Amount'] == 99999999].value_counts()"
   ]
  },
  {
   "cell_type": "code",
   "execution_count": 255,
   "id": "a74b5bc5",
   "metadata": {},
   "outputs": [
    {
     "data": {
      "text/html": [
       "<div>\n",
       "<style scoped>\n",
       "    .dataframe tbody tr th:only-of-type {\n",
       "        vertical-align: middle;\n",
       "    }\n",
       "\n",
       "    .dataframe tbody tr th {\n",
       "        vertical-align: top;\n",
       "    }\n",
       "\n",
       "    .dataframe thead th {\n",
       "        text-align: right;\n",
       "    }\n",
       "</style>\n",
       "<table border=\"1\" class=\"dataframe\">\n",
       "  <thead>\n",
       "    <tr style=\"text-align: right;\">\n",
       "      <th></th>\n",
       "      <th>Current Loan Amount</th>\n",
       "      <th>Credit Score</th>\n",
       "      <th>Annual Income</th>\n",
       "      <th>Monthly Debt</th>\n",
       "      <th>Years of Credit History</th>\n",
       "      <th>Months Since Last Delinquent</th>\n",
       "      <th>Number Open Accounts</th>\n",
       "      <th>Number Credit Problems</th>\n",
       "      <th>Current Credit Balance</th>\n",
       "      <th>Maximum Open Credit</th>\n",
       "      <th>Bankruptcies</th>\n",
       "      <th>Tax Liens</th>\n",
       "    </tr>\n",
       "  </thead>\n",
       "  <tbody>\n",
       "    <tr>\n",
       "      <th>count</th>\n",
       "      <td>74094.000</td>\n",
       "      <td>67052.000</td>\n",
       "      <td>67052.000</td>\n",
       "      <td>81999.000</td>\n",
       "      <td>81999.000</td>\n",
       "      <td>37378.000</td>\n",
       "      <td>81999.000</td>\n",
       "      <td>81999.000</td>\n",
       "      <td>81999.000</td>\n",
       "      <td>81997.000</td>\n",
       "      <td>81824.000</td>\n",
       "      <td>81991.000</td>\n",
       "    </tr>\n",
       "    <tr>\n",
       "      <th>mean</th>\n",
       "      <td>308587.855</td>\n",
       "      <td>1153.858</td>\n",
       "      <td>1376503.129</td>\n",
       "      <td>18330.633</td>\n",
       "      <td>18.297</td>\n",
       "      <td>35.064</td>\n",
       "      <td>11.114</td>\n",
       "      <td>0.161</td>\n",
       "      <td>293620.313</td>\n",
       "      <td>793535.814</td>\n",
       "      <td>0.113</td>\n",
       "      <td>0.028</td>\n",
       "    </tr>\n",
       "    <tr>\n",
       "      <th>std</th>\n",
       "      <td>183154.098</td>\n",
       "      <td>1609.162</td>\n",
       "      <td>1113132.317</td>\n",
       "      <td>12127.701</td>\n",
       "      <td>7.044</td>\n",
       "      <td>22.021</td>\n",
       "      <td>4.981</td>\n",
       "      <td>0.473</td>\n",
       "      <td>372614.512</td>\n",
       "      <td>9208747.412</td>\n",
       "      <td>0.345</td>\n",
       "      <td>0.255</td>\n",
       "    </tr>\n",
       "    <tr>\n",
       "      <th>min</th>\n",
       "      <td>10802.000</td>\n",
       "      <td>585.000</td>\n",
       "      <td>76627.000</td>\n",
       "      <td>0.000</td>\n",
       "      <td>3.600</td>\n",
       "      <td>0.000</td>\n",
       "      <td>0.000</td>\n",
       "      <td>0.000</td>\n",
       "      <td>0.000</td>\n",
       "      <td>0.000</td>\n",
       "      <td>0.000</td>\n",
       "      <td>0.000</td>\n",
       "    </tr>\n",
       "    <tr>\n",
       "      <th>25%</th>\n",
       "      <td>171974.000</td>\n",
       "      <td>710.000</td>\n",
       "      <td>847860.750</td>\n",
       "      <td>10117.595</td>\n",
       "      <td>13.500</td>\n",
       "      <td>16.000</td>\n",
       "      <td>8.000</td>\n",
       "      <td>0.000</td>\n",
       "      <td>113316.000</td>\n",
       "      <td>280456.000</td>\n",
       "      <td>0.000</td>\n",
       "      <td>0.000</td>\n",
       "    </tr>\n",
       "    <tr>\n",
       "      <th>50%</th>\n",
       "      <td>265672.000</td>\n",
       "      <td>730.000</td>\n",
       "      <td>1170628.000</td>\n",
       "      <td>16075.330</td>\n",
       "      <td>17.000</td>\n",
       "      <td>32.000</td>\n",
       "      <td>10.000</td>\n",
       "      <td>0.000</td>\n",
       "      <td>209931.000</td>\n",
       "      <td>477774.000</td>\n",
       "      <td>0.000</td>\n",
       "      <td>0.000</td>\n",
       "    </tr>\n",
       "    <tr>\n",
       "      <th>75%</th>\n",
       "      <td>429792.000</td>\n",
       "      <td>743.000</td>\n",
       "      <td>1649257.000</td>\n",
       "      <td>23811.370</td>\n",
       "      <td>21.800</td>\n",
       "      <td>51.000</td>\n",
       "      <td>14.000</td>\n",
       "      <td>0.000</td>\n",
       "      <td>366994.500</td>\n",
       "      <td>798490.000</td>\n",
       "      <td>0.000</td>\n",
       "      <td>0.000</td>\n",
       "    </tr>\n",
       "    <tr>\n",
       "      <th>max</th>\n",
       "      <td>789250.000</td>\n",
       "      <td>7510.000</td>\n",
       "      <td>165557393.000</td>\n",
       "      <td>435843.280</td>\n",
       "      <td>70.500</td>\n",
       "      <td>176.000</td>\n",
       "      <td>76.000</td>\n",
       "      <td>15.000</td>\n",
       "      <td>32878968.000</td>\n",
       "      <td>1539737892.000</td>\n",
       "      <td>7.000</td>\n",
       "      <td>15.000</td>\n",
       "    </tr>\n",
       "  </tbody>\n",
       "</table>\n",
       "</div>"
      ],
      "text/plain": [
       "       Current Loan Amount  Credit Score  Annual Income  Monthly Debt  \\\n",
       "count            74094.000     67052.000      67052.000     81999.000   \n",
       "mean            308587.855      1153.858    1376503.129     18330.633   \n",
       "std             183154.098      1609.162    1113132.317     12127.701   \n",
       "min              10802.000       585.000      76627.000         0.000   \n",
       "25%             171974.000       710.000     847860.750     10117.595   \n",
       "50%             265672.000       730.000    1170628.000     16075.330   \n",
       "75%             429792.000       743.000    1649257.000     23811.370   \n",
       "max             789250.000      7510.000  165557393.000    435843.280   \n",
       "\n",
       "       Years of Credit History  Months Since Last Delinquent  \\\n",
       "count                81999.000                     37378.000   \n",
       "mean                    18.297                        35.064   \n",
       "std                      7.044                        22.021   \n",
       "min                      3.600                         0.000   \n",
       "25%                     13.500                        16.000   \n",
       "50%                     17.000                        32.000   \n",
       "75%                     21.800                        51.000   \n",
       "max                     70.500                       176.000   \n",
       "\n",
       "       Number Open Accounts  Number Credit Problems  Current Credit Balance  \\\n",
       "count             81999.000               81999.000               81999.000   \n",
       "mean                 11.114                   0.161              293620.313   \n",
       "std                   4.981                   0.473              372614.512   \n",
       "min                   0.000                   0.000                   0.000   \n",
       "25%                   8.000                   0.000              113316.000   \n",
       "50%                  10.000                   0.000              209931.000   \n",
       "75%                  14.000                   0.000              366994.500   \n",
       "max                  76.000                  15.000            32878968.000   \n",
       "\n",
       "       Maximum Open Credit  Bankruptcies  Tax Liens  \n",
       "count            81997.000     81824.000  81991.000  \n",
       "mean            793535.814         0.113      0.028  \n",
       "std            9208747.412         0.345      0.255  \n",
       "min                  0.000         0.000      0.000  \n",
       "25%             280456.000         0.000      0.000  \n",
       "50%             477774.000         0.000      0.000  \n",
       "75%             798490.000         0.000      0.000  \n",
       "max         1539737892.000         7.000     15.000  "
      ]
     },
     "execution_count": 255,
     "metadata": {},
     "output_type": "execute_result"
    }
   ],
   "source": [
    "df.replace(99999999,np.nan, inplace=True)\n",
    "df.describe(include=np.number)"
   ]
  },
  {
   "cell_type": "markdown",
   "id": "03801230",
   "metadata": {},
   "source": [
    "<blockquote>For 'Credit Score', any value over 850 is examined (because the maximum value of a FICO score is 850), which returns 4,538 observations.</blockquote>"
   ]
  },
  {
   "cell_type": "code",
   "execution_count": 256,
   "id": "17680b11",
   "metadata": {},
   "outputs": [
    {
     "data": {
      "text/plain": [
       "4       7290.000\n",
       "39      7120.000\n",
       "47      6610.000\n",
       "52      7380.000\n",
       "61      7370.000\n",
       "          ...   \n",
       "81887   7420.000\n",
       "81906   7070.000\n",
       "81932   6880.000\n",
       "81963   6790.000\n",
       "81965   6940.000\n",
       "Name: Credit Score, Length: 4551, dtype: float64"
      ]
     },
     "execution_count": 256,
     "metadata": {},
     "output_type": "execute_result"
    }
   ],
   "source": [
    "fico = df['Credit Score'][df['Credit Score']>850]\n",
    "fico"
   ]
  },
  {
   "cell_type": "code",
   "execution_count": 257,
   "id": "16e03d2b",
   "metadata": {},
   "outputs": [
    {
     "data": {
      "text/plain": [
       "4551"
      ]
     },
     "execution_count": 257,
     "metadata": {},
     "output_type": "execute_result"
    }
   ],
   "source": [
    "len(fico)"
   ]
  },
  {
   "cell_type": "markdown",
   "id": "71e8adf5",
   "metadata": {},
   "source": [
    "<blockquote>It seems that a lot of these values are in the thousands. It could be that an extra zero had been incorrectly added to the end of these values. To support this idea, the values between 3,000 and 8,500 are counted (since FICO scores range between 300 to 850) to see if all observations over 850 fall into this range. This returns 4,538 observations, meaning that all values larger 850 are between 3,000 and 8,500. Given this, it is highly likely that 'Credit Score' is measured in FICO scores, hence these values will be divided by ten to return them to their correct score.</blockquote>"
   ]
  },
  {
   "cell_type": "code",
   "execution_count": 258,
   "id": "81d32408",
   "metadata": {},
   "outputs": [
    {
     "data": {
      "text/plain": [
       "4551"
      ]
     },
     "execution_count": 258,
     "metadata": {},
     "output_type": "execute_result"
    }
   ],
   "source": [
    "len(fico[(fico>=300)&(fico<=8500)])"
   ]
  },
  {
   "cell_type": "code",
   "execution_count": 259,
   "id": "6a78866e",
   "metadata": {},
   "outputs": [
    {
     "data": {
      "text/html": [
       "<div>\n",
       "<style scoped>\n",
       "    .dataframe tbody tr th:only-of-type {\n",
       "        vertical-align: middle;\n",
       "    }\n",
       "\n",
       "    .dataframe tbody tr th {\n",
       "        vertical-align: top;\n",
       "    }\n",
       "\n",
       "    .dataframe thead th {\n",
       "        text-align: right;\n",
       "    }\n",
       "</style>\n",
       "<table border=\"1\" class=\"dataframe\">\n",
       "  <thead>\n",
       "    <tr style=\"text-align: right;\">\n",
       "      <th></th>\n",
       "      <th>Current Loan Amount</th>\n",
       "      <th>Credit Score</th>\n",
       "      <th>Annual Income</th>\n",
       "      <th>Monthly Debt</th>\n",
       "      <th>Years of Credit History</th>\n",
       "      <th>Months Since Last Delinquent</th>\n",
       "      <th>Number Open Accounts</th>\n",
       "      <th>Number Credit Problems</th>\n",
       "      <th>Current Credit Balance</th>\n",
       "      <th>Maximum Open Credit</th>\n",
       "      <th>Bankruptcies</th>\n",
       "      <th>Tax Liens</th>\n",
       "    </tr>\n",
       "  </thead>\n",
       "  <tbody>\n",
       "    <tr>\n",
       "      <th>count</th>\n",
       "      <td>74094.000</td>\n",
       "      <td>67052.000</td>\n",
       "      <td>67052.000</td>\n",
       "      <td>81999.000</td>\n",
       "      <td>81999.000</td>\n",
       "      <td>37378.000</td>\n",
       "      <td>81999.000</td>\n",
       "      <td>81999.000</td>\n",
       "      <td>81999.000</td>\n",
       "      <td>81997.000</td>\n",
       "      <td>81824.000</td>\n",
       "      <td>81991.000</td>\n",
       "    </tr>\n",
       "    <tr>\n",
       "      <th>mean</th>\n",
       "      <td>308587.855</td>\n",
       "      <td>719.603</td>\n",
       "      <td>1376503.129</td>\n",
       "      <td>18330.633</td>\n",
       "      <td>18.297</td>\n",
       "      <td>35.064</td>\n",
       "      <td>11.114</td>\n",
       "      <td>0.161</td>\n",
       "      <td>293620.313</td>\n",
       "      <td>793535.814</td>\n",
       "      <td>0.113</td>\n",
       "      <td>0.028</td>\n",
       "    </tr>\n",
       "    <tr>\n",
       "      <th>std</th>\n",
       "      <td>183154.098</td>\n",
       "      <td>27.918</td>\n",
       "      <td>1113132.317</td>\n",
       "      <td>12127.701</td>\n",
       "      <td>7.044</td>\n",
       "      <td>22.021</td>\n",
       "      <td>4.981</td>\n",
       "      <td>0.473</td>\n",
       "      <td>372614.512</td>\n",
       "      <td>9208747.412</td>\n",
       "      <td>0.345</td>\n",
       "      <td>0.255</td>\n",
       "    </tr>\n",
       "    <tr>\n",
       "      <th>min</th>\n",
       "      <td>10802.000</td>\n",
       "      <td>585.000</td>\n",
       "      <td>76627.000</td>\n",
       "      <td>0.000</td>\n",
       "      <td>3.600</td>\n",
       "      <td>0.000</td>\n",
       "      <td>0.000</td>\n",
       "      <td>0.000</td>\n",
       "      <td>0.000</td>\n",
       "      <td>0.000</td>\n",
       "      <td>0.000</td>\n",
       "      <td>0.000</td>\n",
       "    </tr>\n",
       "    <tr>\n",
       "      <th>25%</th>\n",
       "      <td>171974.000</td>\n",
       "      <td>707.000</td>\n",
       "      <td>847860.750</td>\n",
       "      <td>10117.595</td>\n",
       "      <td>13.500</td>\n",
       "      <td>16.000</td>\n",
       "      <td>8.000</td>\n",
       "      <td>0.000</td>\n",
       "      <td>113316.000</td>\n",
       "      <td>280456.000</td>\n",
       "      <td>0.000</td>\n",
       "      <td>0.000</td>\n",
       "    </tr>\n",
       "    <tr>\n",
       "      <th>50%</th>\n",
       "      <td>265672.000</td>\n",
       "      <td>727.000</td>\n",
       "      <td>1170628.000</td>\n",
       "      <td>16075.330</td>\n",
       "      <td>17.000</td>\n",
       "      <td>32.000</td>\n",
       "      <td>10.000</td>\n",
       "      <td>0.000</td>\n",
       "      <td>209931.000</td>\n",
       "      <td>477774.000</td>\n",
       "      <td>0.000</td>\n",
       "      <td>0.000</td>\n",
       "    </tr>\n",
       "    <tr>\n",
       "      <th>75%</th>\n",
       "      <td>429792.000</td>\n",
       "      <td>740.000</td>\n",
       "      <td>1649257.000</td>\n",
       "      <td>23811.370</td>\n",
       "      <td>21.800</td>\n",
       "      <td>51.000</td>\n",
       "      <td>14.000</td>\n",
       "      <td>0.000</td>\n",
       "      <td>366994.500</td>\n",
       "      <td>798490.000</td>\n",
       "      <td>0.000</td>\n",
       "      <td>0.000</td>\n",
       "    </tr>\n",
       "    <tr>\n",
       "      <th>max</th>\n",
       "      <td>789250.000</td>\n",
       "      <td>751.000</td>\n",
       "      <td>165557393.000</td>\n",
       "      <td>435843.280</td>\n",
       "      <td>70.500</td>\n",
       "      <td>176.000</td>\n",
       "      <td>76.000</td>\n",
       "      <td>15.000</td>\n",
       "      <td>32878968.000</td>\n",
       "      <td>1539737892.000</td>\n",
       "      <td>7.000</td>\n",
       "      <td>15.000</td>\n",
       "    </tr>\n",
       "  </tbody>\n",
       "</table>\n",
       "</div>"
      ],
      "text/plain": [
       "       Current Loan Amount  Credit Score  Annual Income  Monthly Debt  \\\n",
       "count            74094.000     67052.000      67052.000     81999.000   \n",
       "mean            308587.855       719.603    1376503.129     18330.633   \n",
       "std             183154.098        27.918    1113132.317     12127.701   \n",
       "min              10802.000       585.000      76627.000         0.000   \n",
       "25%             171974.000       707.000     847860.750     10117.595   \n",
       "50%             265672.000       727.000    1170628.000     16075.330   \n",
       "75%             429792.000       740.000    1649257.000     23811.370   \n",
       "max             789250.000       751.000  165557393.000    435843.280   \n",
       "\n",
       "       Years of Credit History  Months Since Last Delinquent  \\\n",
       "count                81999.000                     37378.000   \n",
       "mean                    18.297                        35.064   \n",
       "std                      7.044                        22.021   \n",
       "min                      3.600                         0.000   \n",
       "25%                     13.500                        16.000   \n",
       "50%                     17.000                        32.000   \n",
       "75%                     21.800                        51.000   \n",
       "max                     70.500                       176.000   \n",
       "\n",
       "       Number Open Accounts  Number Credit Problems  Current Credit Balance  \\\n",
       "count             81999.000               81999.000               81999.000   \n",
       "mean                 11.114                   0.161              293620.313   \n",
       "std                   4.981                   0.473              372614.512   \n",
       "min                   0.000                   0.000                   0.000   \n",
       "25%                   8.000                   0.000              113316.000   \n",
       "50%                  10.000                   0.000              209931.000   \n",
       "75%                  14.000                   0.000              366994.500   \n",
       "max                  76.000                  15.000            32878968.000   \n",
       "\n",
       "       Maximum Open Credit  Bankruptcies  Tax Liens  \n",
       "count            81997.000     81824.000  81991.000  \n",
       "mean            793535.814         0.113      0.028  \n",
       "std            9208747.412         0.345      0.255  \n",
       "min                  0.000         0.000      0.000  \n",
       "25%             280456.000         0.000      0.000  \n",
       "50%             477774.000         0.000      0.000  \n",
       "75%             798490.000         0.000      0.000  \n",
       "max         1539737892.000         7.000     15.000  "
      ]
     },
     "execution_count": 259,
     "metadata": {},
     "output_type": "execute_result"
    }
   ],
   "source": [
    "index = fico.index.values\n",
    "df['Credit Score'][index] = df['Credit Score'][index] / 10\n",
    "df.describe(include=np.number)"
   ]
  },
  {
   "cell_type": "markdown",
   "id": "0a3dbad1",
   "metadata": {},
   "source": [
    "<blockquote>Additionally, the maximum value of 165557393.000 for 'Annual Income', 32878968.000 for 'Current Credit Balance', 435843.280 for 'Monthly Debt', and 1539737892.000 for 'Maximum Open Credit' all seem suspicious. However due to the fact that the currency or country this dataset is based on is unknown, combined with the fact that no descriptions have been provided for what 'Current Credit Balance', 'Monthly Debt' and 'Maximum Open Credit' represent, it is impossible to determine whether these outliers are due to entry errors or that they are real values. These values will be examined further in the 'Outlier' section.</blockquote>"
   ]
  },
  {
   "cell_type": "markdown",
   "id": "4a6bbe3a",
   "metadata": {},
   "source": [
    "# Missing Values"
   ]
  },
  {
   "cell_type": "markdown",
   "id": "8d7d2f37",
   "metadata": {},
   "source": [
    "##### Looking at the number of missing values for each feature below, two aspects draw attention:"
   ]
  },
  {
   "cell_type": "markdown",
   "id": "289d7824",
   "metadata": {},
   "source": [
    "<ol>\n",
    "    <li>There is 1 missing value in the 'Loan Status' target feature.</li>\n",
    "    <li>Both 'Credit Score' and 'Annual Income' have the same number of missing values.</li>\n",
    "</ol>\n"
   ]
  },
  {
   "cell_type": "code",
   "execution_count": 260,
   "id": "6ab9898d",
   "metadata": {},
   "outputs": [
    {
     "data": {
      "text/plain": [
       "Loan Status                         0\n",
       "Current Loan Amount              7905\n",
       "Term                                0\n",
       "Credit Score                    14947\n",
       "Annual Income                   14947\n",
       "Years Current Job                3508\n",
       "Home Ownership                      0\n",
       "Purpose                             0\n",
       "Monthly Debt                        0\n",
       "Years of Credit History             0\n",
       "Months Since Last Delinquent    44621\n",
       "Number Open Accounts                0\n",
       "Number Credit Problems              0\n",
       "Current Credit Balance              0\n",
       "Maximum Open Credit                 2\n",
       "Bankruptcies                      175\n",
       "Tax Liens                           8\n",
       "dtype: int64"
      ]
     },
     "execution_count": 260,
     "metadata": {},
     "output_type": "execute_result"
    }
   ],
   "source": [
    "df.isna().sum()"
   ]
  },
  {
   "cell_type": "markdown",
   "id": "d2853080",
   "metadata": {},
   "source": [
    "<blockquote>The code below removes the missing value in the target feature as it will not be useful for machine learning.</blockquote>"
   ]
  },
  {
   "cell_type": "code",
   "execution_count": 261,
   "id": "085f7cd3",
   "metadata": {},
   "outputs": [
    {
     "data": {
      "text/plain": [
       "(81999, 17)"
      ]
     },
     "execution_count": 261,
     "metadata": {},
     "output_type": "execute_result"
    }
   ],
   "source": [
    "df = df[df['Loan Status'].notnull()]\n",
    "df.shape"
   ]
  },
  {
   "cell_type": "markdown",
   "id": "737068b4",
   "metadata": {},
   "source": [
    "<blockquote>Looking at the observations with missing values from both 'Credit Score' and 'Annual Income' reveals that they share 14,947 missing values. Given that these missing values represent around 18% of the dataset, they will not be imputed due to the large bias it will cause. Furthermore, these missing values cannot act as a level in itself due to these two features being continuous. This means that the missing value observations will be removed.</blockquote>"
   ]
  },
  {
   "cell_type": "code",
   "execution_count": 262,
   "id": "fe05d771",
   "metadata": {},
   "outputs": [
    {
     "name": "stdout",
     "output_type": "stream",
     "text": [
      "Missing values for Credit Score & Annual Income: 14947\n",
      "df shape once missing values are removed: (67052, 17)\n"
     ]
    }
   ],
   "source": [
    "index = df[(df['Credit Score'].isnull()) & (df['Annual Income'].isnull())].index.values\n",
    "print(\"Missing values for Credit Score & Annual Income:\", index.shape[0])\n",
    "\n",
    "df = df.drop(index, axis=0)\n",
    "print(\"df shape once missing values are removed:\", df.shape)"
   ]
  },
  {
   "cell_type": "markdown",
   "id": "da625aff",
   "metadata": {},
   "source": [
    "##### Once those two problems have been dealt with, the list below show that the remaining features with missing values are:\n",
    "#### Current Loan Amount: \n",
    "These were originally the 99999999.0 values. Because this is a continuous feature and comprises of nearly 12% of the dataset, these missing observations will be removed.\n",
    "#### Years Current Job:\n",
    "The NaN values in this feature will remain in the dataset to be dealt with in the following section. This is due to the feature being a self-reported value, hence any non-response missing value may still contain useful information.\n",
    "#### Months Since Last Delinquent:\n",
    "The NaN values in this feature represent more than half the dataset. However these NaN values contain valuable information in that they represent customers who have never had a delinquency. This will be dealt with in the following section.\n",
    "#### Maximum Open Credit:\n",
    "Given only 1 missing observation, this observation will be removed.\n",
    "#### Bankruptcies:\n",
    "Given only 140 observations, these observations will be removed.\n",
    "#### Tax Liens: \n",
    "Given only 5 observations, these observation will be removed.\n",
    "\n",
    "\n",
    "\n"
   ]
  },
  {
   "cell_type": "code",
   "execution_count": 263,
   "id": "ee6c53c7",
   "metadata": {},
   "outputs": [
    {
     "data": {
      "text/plain": [
       "Loan Status                         0\n",
       "Current Loan Amount              7905\n",
       "Term                                0\n",
       "Credit Score                        0\n",
       "Annual Income                       0\n",
       "Years Current Job                2856\n",
       "Home Ownership                      0\n",
       "Purpose                             0\n",
       "Monthly Debt                        0\n",
       "Years of Credit History             0\n",
       "Months Since Last Delinquent    36132\n",
       "Number Open Accounts                0\n",
       "Number Credit Problems              0\n",
       "Current Credit Balance              0\n",
       "Maximum Open Credit                 1\n",
       "Bankruptcies                      140\n",
       "Tax Liens                           5\n",
       "dtype: int64"
      ]
     },
     "execution_count": 263,
     "metadata": {},
     "output_type": "execute_result"
    }
   ],
   "source": [
    "df.isna().sum()"
   ]
  },
  {
   "cell_type": "markdown",
   "id": "edd2a343",
   "metadata": {},
   "source": [
    "<blockquote>The observations with missing values found in 'Current Loan Amount', 'Maximum Open Credit', 'Bankruptcies', and 'Tax Liens' are removed. This leaves the missing values in the two categorical features to be dealt with in the next section.</blockquote>"
   ]
  },
  {
   "cell_type": "code",
   "execution_count": 264,
   "id": "5f5deebc",
   "metadata": {},
   "outputs": [
    {
     "data": {
      "text/plain": [
       "Loan Status                         0\n",
       "Current Loan Amount                 0\n",
       "Term                                0\n",
       "Credit Score                        0\n",
       "Annual Income                       0\n",
       "Years Current Job                2564\n",
       "Home Ownership                      0\n",
       "Purpose                             0\n",
       "Monthly Debt                        0\n",
       "Years of Credit History             0\n",
       "Months Since Last Delinquent    31516\n",
       "Number Open Accounts                0\n",
       "Number Credit Problems              0\n",
       "Current Credit Balance              0\n",
       "Maximum Open Credit                 0\n",
       "Bankruptcies                        0\n",
       "Tax Liens                           0\n",
       "dtype: int64"
      ]
     },
     "execution_count": 264,
     "metadata": {},
     "output_type": "execute_result"
    }
   ],
   "source": [
    "df = df[(df['Current Loan Amount'].notnull()) & (df['Maximum Open Credit'].notnull()) &\n",
    "        (df['Bankruptcies'].notnull()) & (df['Tax Liens'].notnull())]\n",
    "\n",
    "df.isna().sum()"
   ]
  },
  {
   "cell_type": "markdown",
   "id": "0a597a26",
   "metadata": {},
   "source": [
    "# Data Aggregation & Irregular Cardinality"
   ]
  },
  {
   "cell_type": "markdown",
   "id": "f1764f00",
   "metadata": {},
   "source": [
    "<blockquote>First, 'Months Since Last Delinquent', 'Number Credit Problems', 'Bankruptcies', and 'Tax Liens' will be converted to objects to properly represent their categorical data types.</blockquote>"
   ]
  },
  {
   "cell_type": "code",
   "execution_count": 265,
   "id": "d289d18a",
   "metadata": {},
   "outputs": [
    {
     "name": "stdout",
     "output_type": "stream",
     "text": [
      "Months Since Last Delinquent dtype: object\n",
      "Number Credit Problems dtype: object\n",
      "Bankruptcies dtype: object\n",
      "Tax Liens dtype: object\n"
     ]
    }
   ],
   "source": [
    "df['Months Since Last Delinquent'] = df['Months Since Last Delinquent'].astype(str)\n",
    "df['Number Credit Problems'] = df['Number Credit Problems'].astype(str)\n",
    "df['Bankruptcies'] = df['Bankruptcies'].astype(str)\n",
    "df['Tax Liens'] = df['Tax Liens'].astype(str)\n",
    "\n",
    "print('Months Since Last Delinquent dtype:', df['Months Since Last Delinquent'].dtypes)\n",
    "print('Number Credit Problems dtype:',df['Number Credit Problems'].dtypes)\n",
    "print('Bankruptcies dtype:',df['Bankruptcies'].dtypes)\n",
    "print('Tax Liens dtype:',df['Tax Liens'].dtypes)"
   ]
  },
  {
   "cell_type": "markdown",
   "id": "352be90f",
   "metadata": {},
   "source": [
    "<blockquote>As seen in the table below, 'Years Current Job', 'Purpose', 'Months Since Last Delinquent', 'Number Credit Problems', 'Bankruptcies', and 'Tax Liens' all have a large number of levels. These will be explored one by one to determine if any aggregation is required.</blockquote>"
   ]
  },
  {
   "cell_type": "code",
   "execution_count": 266,
   "id": "1e55e66b",
   "metadata": {},
   "outputs": [
    {
     "data": {
      "text/html": [
       "<div>\n",
       "<style scoped>\n",
       "    .dataframe tbody tr th:only-of-type {\n",
       "        vertical-align: middle;\n",
       "    }\n",
       "\n",
       "    .dataframe tbody tr th {\n",
       "        vertical-align: top;\n",
       "    }\n",
       "\n",
       "    .dataframe thead th {\n",
       "        text-align: right;\n",
       "    }\n",
       "</style>\n",
       "<table border=\"1\" class=\"dataframe\">\n",
       "  <thead>\n",
       "    <tr style=\"text-align: right;\">\n",
       "      <th></th>\n",
       "      <th>Loan Status</th>\n",
       "      <th>Term</th>\n",
       "      <th>Years Current Job</th>\n",
       "      <th>Home Ownership</th>\n",
       "      <th>Purpose</th>\n",
       "      <th>Months Since Last Delinquent</th>\n",
       "      <th>Number Credit Problems</th>\n",
       "      <th>Bankruptcies</th>\n",
       "      <th>Tax Liens</th>\n",
       "    </tr>\n",
       "  </thead>\n",
       "  <tbody>\n",
       "    <tr>\n",
       "      <th>count</th>\n",
       "      <td>59025</td>\n",
       "      <td>59025</td>\n",
       "      <td>56461</td>\n",
       "      <td>59025</td>\n",
       "      <td>59025</td>\n",
       "      <td>59025</td>\n",
       "      <td>59025</td>\n",
       "      <td>59025</td>\n",
       "      <td>59025</td>\n",
       "    </tr>\n",
       "    <tr>\n",
       "      <th>unique</th>\n",
       "      <td>2</td>\n",
       "      <td>2</td>\n",
       "      <td>11</td>\n",
       "      <td>4</td>\n",
       "      <td>16</td>\n",
       "      <td>106</td>\n",
       "      <td>14</td>\n",
       "      <td>8</td>\n",
       "      <td>12</td>\n",
       "    </tr>\n",
       "    <tr>\n",
       "      <th>top</th>\n",
       "      <td>Fully Paid</td>\n",
       "      <td>Short Term</td>\n",
       "      <td>10+ years</td>\n",
       "      <td>Home Mortgage</td>\n",
       "      <td>Debt Consolidation</td>\n",
       "      <td>nan</td>\n",
       "      <td>0</td>\n",
       "      <td>0.0</td>\n",
       "      <td>0.0</td>\n",
       "    </tr>\n",
       "    <tr>\n",
       "      <th>freq</th>\n",
       "      <td>41854</td>\n",
       "      <td>42266</td>\n",
       "      <td>18361</td>\n",
       "      <td>28466</td>\n",
       "      <td>46478</td>\n",
       "      <td>31516</td>\n",
       "      <td>50891</td>\n",
       "      <td>52603</td>\n",
       "      <td>57893</td>\n",
       "    </tr>\n",
       "  </tbody>\n",
       "</table>\n",
       "</div>"
      ],
      "text/plain": [
       "       Loan Status        Term Years Current Job Home Ownership  \\\n",
       "count        59025       59025             56461          59025   \n",
       "unique           2           2                11              4   \n",
       "top     Fully Paid  Short Term         10+ years  Home Mortgage   \n",
       "freq         41854       42266             18361          28466   \n",
       "\n",
       "                   Purpose Months Since Last Delinquent  \\\n",
       "count                59025                        59025   \n",
       "unique                  16                          106   \n",
       "top     Debt Consolidation                          nan   \n",
       "freq                 46478                        31516   \n",
       "\n",
       "       Number Credit Problems Bankruptcies Tax Liens  \n",
       "count                   59025        59025     59025  \n",
       "unique                     14            8        12  \n",
       "top                         0          0.0       0.0  \n",
       "freq                    50891        52603     57893  "
      ]
     },
     "execution_count": 266,
     "metadata": {},
     "output_type": "execute_result"
    }
   ],
   "source": [
    "df.describe(include = np.object)"
   ]
  },
  {
   "cell_type": "markdown",
   "id": "a41cd4e4",
   "metadata": {},
   "source": [
    "<blockquote>Examining the levels for each of the categorical features, 'Home Ownership' seems to have an unusual 'HaveMortgage' level, while 'Purpose' contains numerous cases of irregular cardinality.</blockquote>"
   ]
  },
  {
   "cell_type": "code",
   "execution_count": 267,
   "id": "b4f54e6f",
   "metadata": {},
   "outputs": [
    {
     "name": "stdout",
     "output_type": "stream",
     "text": [
      "Term Levels:\n",
      "['Short Term', 'Long Term'] \n",
      "\n",
      "Years Current Job Levels:\n",
      "['8 years', '3 years', '10+ years', '< 1 year', '2 years', '4 years', '5 years', '1 year', '7 years', '6 years', '9 years', nan] \n",
      "\n",
      "Home Ownership Levels:\n",
      "['Home Mortgage', 'Own Home', 'Rent', 'HaveMortgage'] \n",
      "\n",
      "Purpose Levels:\n",
      "['Home Improvements', 'Debt Consolidation', 'Buy House', 'other', 'major_purchase', 'Take a Trip', 'Other', 'Business Loan', 'Buy a Car', 'small_business', 'Medical Bills', 'vacation', 'Educational Expenses', 'wedding', 'moving', 'renewable_energy'] \n",
      "\n",
      "Months Since Last Delinquent Levels:\n",
      "['nan', '10.0', '33.0', '46.0', '34.0', '53.0', '30.0', '21.0', '50.0', '15.0', '6.0', '13.0', '48.0', '42.0', '7.0', '27.0', '5.0', '32.0', '17.0', '72.0', '65.0', '4.0', '11.0', '35.0', '24.0', '19.0', '73.0', '60.0', '77.0', '18.0', '9.0', '80.0', '70.0', '38.0', '47.0', '82.0', '74.0', '16.0', '61.0', '75.0', '79.0', '62.0', '56.0', '64.0', '36.0', '59.0', '55.0', '54.0', '37.0', '58.0', '68.0', '22.0', '45.0', '14.0', '51.0', '8.0', '41.0', '1.0', '81.0', '26.0', '20.0', '29.0', '39.0', '31.0', '63.0', '71.0', '43.0', '69.0', '40.0', '76.0', '12.0', '52.0', '49.0', '25.0', '3.0', '23.0', '57.0', '78.0', '44.0', '2.0', '28.0', '67.0', '66.0', '0.0', '89.0', '118.0', '83.0', '152.0', '120.0', '92.0', '86.0', '88.0', '85.0', '93.0', '97.0', '84.0', '90.0', '176.0', '108.0', '143.0', '114.0', '91.0', '87.0', '100.0', '96.0', '131.0'] \n",
      "\n",
      "Number Open Accounts Levels:\n",
      "[6, 9, 13, 4, 20, 10, 15, 7, 12, 16, 18, 14, 8, 11, 34, 17, 5, 19, 2, 32, 21, 3, 28, 24, 43, 22, 25, 26, 36, 27, 29, 23, 30, 45, 33, 38, 31, 40, 41, 48, 39, 1, 37, 47, 56, 35, 44, 52, 76, 42] \n",
      "\n",
      "Number Credit Problems Levels:\n",
      "['1', '0', '2', '5', '4', '7', '3', '6', '11', '15', '8', '10', '9', '12'] \n",
      "\n",
      "Bankruptcies Levels:\n",
      "['1.0', '0.0', '2.0', '3.0', '4.0', '5.0', '7.0', '6.0'] \n",
      "\n",
      "Tax Liens Levels:\n",
      "['0.0', '1.0', '2.0', '4.0', '3.0', '6.0', '5.0', '11.0', '15.0', '7.0', '10.0', '9.0'] \n",
      "\n"
     ]
    }
   ],
   "source": [
    "cat_var = ['Term','Years Current Job','Home Ownership','Purpose','Months Since Last Delinquent',\n",
    "           'Number Open Accounts','Number Credit Problems','Bankruptcies','Tax Liens']\n",
    "\n",
    "for i in cat_var:\n",
    "    print(i, 'Levels:')\n",
    "    print(df[i].unique().tolist(),'\\n')"
   ]
  },
  {
   "cell_type": "markdown",
   "id": "5911fece",
   "metadata": {},
   "source": [
    "# Home Ownership Feature"
   ]
  },
  {
   "cell_type": "markdown",
   "id": "f5f4988b",
   "metadata": {},
   "source": [
    "<blockquote>The level 'HaveMortgage' is very likely to be the same as 'Home Mortgage', however this is examined more closely by checking the proportion of 'Charged Off' occurrences (from the target feature) for each 'Home Ownership' level.</blockquote>"
   ]
  },
  {
   "cell_type": "code",
   "execution_count": 268,
   "id": "f6c9247f",
   "metadata": {},
   "outputs": [
    {
     "data": {
      "text/html": [
       "<div>\n",
       "<style scoped>\n",
       "    .dataframe tbody tr th:only-of-type {\n",
       "        vertical-align: middle;\n",
       "    }\n",
       "\n",
       "    .dataframe tbody tr th {\n",
       "        vertical-align: top;\n",
       "    }\n",
       "\n",
       "    .dataframe thead th {\n",
       "        text-align: right;\n",
       "    }\n",
       "</style>\n",
       "<table border=\"1\" class=\"dataframe\">\n",
       "  <thead>\n",
       "    <tr style=\"text-align: right;\">\n",
       "      <th></th>\n",
       "      <th>Level</th>\n",
       "      <th>Prop Charged Off</th>\n",
       "      <th>n</th>\n",
       "    </tr>\n",
       "  </thead>\n",
       "  <tbody>\n",
       "    <tr>\n",
       "      <th>3</th>\n",
       "      <td>HaveMortgage</td>\n",
       "      <td>0.192</td>\n",
       "      <td>125</td>\n",
       "    </tr>\n",
       "    <tr>\n",
       "      <th>0</th>\n",
       "      <td>Home Mortgage</td>\n",
       "      <td>0.264</td>\n",
       "      <td>28466</td>\n",
       "    </tr>\n",
       "    <tr>\n",
       "      <th>1</th>\n",
       "      <td>Own Home</td>\n",
       "      <td>0.296</td>\n",
       "      <td>5454</td>\n",
       "    </tr>\n",
       "    <tr>\n",
       "      <th>2</th>\n",
       "      <td>Rent</td>\n",
       "      <td>0.321</td>\n",
       "      <td>24980</td>\n",
       "    </tr>\n",
       "  </tbody>\n",
       "</table>\n",
       "</div>"
      ],
      "text/plain": [
       "           Level  Prop Charged Off      n\n",
       "3   HaveMortgage             0.192    125\n",
       "0  Home Mortgage             0.264  28466\n",
       "1       Own Home             0.296   5454\n",
       "2           Rent             0.321  24980"
      ]
     },
     "execution_count": 268,
     "metadata": {},
     "output_type": "execute_result"
    }
   ],
   "source": [
    "home_ownership_levels = ['Home Mortgage', 'Own Home', 'Rent', 'HaveMortgage']\n",
    "\n",
    "df_home = pd.DataFrame(columns = ['Level','Prop Charged Off','n'])\n",
    "\n",
    "for i in home_ownership_levels:\n",
    "    prop = round(df['Loan Status'][df['Home Ownership'] == i].value_counts()[1]/\n",
    "                 len(df['Loan Status'][df['Home Ownership'] == i]), 3)\n",
    "    df_home = df_home.append({'Level':i, \n",
    "                              'Prop Charged Off':prop, \n",
    "                              'n': len(df[df['Home Ownership']==i])}, ignore_index=True)\n",
    "    \n",
    "df_home.sort_values('Prop Charged Off')"
   ]
  },
  {
   "cell_type": "markdown",
   "id": "6a5cce8d",
   "metadata": {},
   "source": [
    "<blockquote>It seems that the proportion of 'Charged Off' is much lower in 'HaveMortgage' compared to the other levels. However, it must be noted that the amount of observations is very low for this level with only 125 observations, hence it is uncertain whether this difference is significant. Given this, it is decided that 'HaveMortage' will be combined with 'Home Mortgage'.</blockquote>"
   ]
  },
  {
   "cell_type": "code",
   "execution_count": 269,
   "id": "0819464d",
   "metadata": {},
   "outputs": [
    {
     "data": {
      "text/plain": [
       "Home Mortgage    28591\n",
       "Rent             24980\n",
       "Own Home          5454\n",
       "Name: Home Ownership, dtype: int64"
      ]
     },
     "execution_count": 269,
     "metadata": {},
     "output_type": "execute_result"
    }
   ],
   "source": [
    "df['Home Ownership'] = df['Home Ownership'].replace('HaveMortgage', 'Home Mortgage')\n",
    "df['Home Ownership'].value_counts()"
   ]
  },
  {
   "cell_type": "markdown",
   "id": "d9443be3",
   "metadata": {},
   "source": [
    "# Purpose Feature"
   ]
  },
  {
   "cell_type": "markdown",
   "id": "8fab013a",
   "metadata": {},
   "source": [
    "#### The 'Purpose' feature has three irregular cardinalities stemming from the following levels: \n"
   ]
  },
  {
   "cell_type": "markdown",
   "id": "322a4648",
   "metadata": {},
   "source": [
    "#### 'Business Loan' and 'small_business' both serve the same purpose, hence 'small_business' will become 'Business Loan'."
   ]
  },
  {
   "cell_type": "markdown",
   "id": "29413070",
   "metadata": {},
   "source": [
    "#### 'Other' and 'other' are definitely the same, hence 'other' will become 'Other'."
   ]
  },
  {
   "cell_type": "markdown",
   "id": "0e699f6d",
   "metadata": {},
   "source": [
    "#### 'Take a Trip' and 'vacation' serve the same purpose, hence 'Take a Trip' will become 'vacation'."
   ]
  },
  {
   "cell_type": "code",
   "execution_count": 270,
   "id": "4eb8ddc8",
   "metadata": {},
   "outputs": [
    {
     "data": {
      "text/plain": [
       "Debt Consolidation      46478\n",
       "Other                    5439\n",
       "Home Improvements        3398\n",
       "Business Loan            1121\n",
       "Buy a Car                 743\n",
       "Medical Bills             645\n",
       "Buy House                 396\n",
       "vacation                  382\n",
       "major_purchase            215\n",
       "moving                     90\n",
       "wedding                    57\n",
       "Educational Expenses       55\n",
       "renewable_energy            6\n",
       "Name: Purpose, dtype: int64"
      ]
     },
     "execution_count": 270,
     "metadata": {},
     "output_type": "execute_result"
    }
   ],
   "source": [
    "df['Purpose'] = df['Purpose'].replace({'small_business':'Business Loan','other':'Other','Take a Trip':'vacation'})\n",
    "df['Purpose'].value_counts()\n"
   ]
  },
  {
   "cell_type": "markdown",
   "id": "da6a5e53",
   "metadata": {},
   "source": [
    "<blockquote>Since the 'Purpose' feature still contains 13 levels, its levels will be aggregated into smaller groups based on their proportion of 'Charged Off' instances for the target feature. For example based on the table below, 'Buy a Car' and 'Educational Expenses' have very similar 'Charged Off' rates with 0.214 and 0.218 respectively, hence will be combined into a single level. Therefore, the new level aggregates will be:</blockquote>"
   ]
  },
  {
   "cell_type": "markdown",
   "id": "48a0dcfe",
   "metadata": {},
   "source": [
    "<ul>\n",
    "<li>Buy a Car/Educational Expenses.</li>\n",
    "<li>Home Improvements/wedding.</li>\n",
    "<li>vacation.</li>\n",
    "<li>Buy House/Other.</li>\n",
    "<li>Debt Consolidation/major_purchase.</li>\n",
    "<li>Medical Bills/renewable_energy.</li>\n",
    "<li>moving/Business Loan.</li>\n",
    "</ul>"
   ]
  },
  {
   "cell_type": "code",
   "execution_count": 271,
   "id": "f1aca71c",
   "metadata": {},
   "outputs": [
    {
     "data": {
      "text/html": [
       "<div>\n",
       "<style scoped>\n",
       "    .dataframe tbody tr th:only-of-type {\n",
       "        vertical-align: middle;\n",
       "    }\n",
       "\n",
       "    .dataframe tbody tr th {\n",
       "        vertical-align: top;\n",
       "    }\n",
       "\n",
       "    .dataframe thead th {\n",
       "        text-align: right;\n",
       "    }\n",
       "</style>\n",
       "<table border=\"1\" class=\"dataframe\">\n",
       "  <thead>\n",
       "    <tr style=\"text-align: right;\">\n",
       "      <th></th>\n",
       "      <th>Level</th>\n",
       "      <th>Prop Charged Off</th>\n",
       "      <th>n</th>\n",
       "    </tr>\n",
       "  </thead>\n",
       "  <tbody>\n",
       "    <tr>\n",
       "      <th>6</th>\n",
       "      <td>Buy a Car</td>\n",
       "      <td>0.214</td>\n",
       "      <td>743</td>\n",
       "    </tr>\n",
       "    <tr>\n",
       "      <th>9</th>\n",
       "      <td>Educational Expenses</td>\n",
       "      <td>0.218</td>\n",
       "      <td>55</td>\n",
       "    </tr>\n",
       "    <tr>\n",
       "      <th>0</th>\n",
       "      <td>Home Improvements</td>\n",
       "      <td>0.263</td>\n",
       "      <td>3398</td>\n",
       "    </tr>\n",
       "    <tr>\n",
       "      <th>10</th>\n",
       "      <td>wedding</td>\n",
       "      <td>0.263</td>\n",
       "      <td>57</td>\n",
       "    </tr>\n",
       "    <tr>\n",
       "      <th>8</th>\n",
       "      <td>vacation</td>\n",
       "      <td>0.272</td>\n",
       "      <td>382</td>\n",
       "    </tr>\n",
       "    <tr>\n",
       "      <th>2</th>\n",
       "      <td>Buy House</td>\n",
       "      <td>0.280</td>\n",
       "      <td>396</td>\n",
       "    </tr>\n",
       "    <tr>\n",
       "      <th>4</th>\n",
       "      <td>Other</td>\n",
       "      <td>0.284</td>\n",
       "      <td>5439</td>\n",
       "    </tr>\n",
       "    <tr>\n",
       "      <th>1</th>\n",
       "      <td>Debt Consolidation</td>\n",
       "      <td>0.292</td>\n",
       "      <td>46478</td>\n",
       "    </tr>\n",
       "    <tr>\n",
       "      <th>3</th>\n",
       "      <td>major_purchase</td>\n",
       "      <td>0.293</td>\n",
       "      <td>215</td>\n",
       "    </tr>\n",
       "    <tr>\n",
       "      <th>7</th>\n",
       "      <td>Medical Bills</td>\n",
       "      <td>0.327</td>\n",
       "      <td>645</td>\n",
       "    </tr>\n",
       "    <tr>\n",
       "      <th>12</th>\n",
       "      <td>renewable_energy</td>\n",
       "      <td>0.333</td>\n",
       "      <td>6</td>\n",
       "    </tr>\n",
       "    <tr>\n",
       "      <th>11</th>\n",
       "      <td>moving</td>\n",
       "      <td>0.389</td>\n",
       "      <td>90</td>\n",
       "    </tr>\n",
       "    <tr>\n",
       "      <th>5</th>\n",
       "      <td>Business Loan</td>\n",
       "      <td>0.399</td>\n",
       "      <td>1121</td>\n",
       "    </tr>\n",
       "  </tbody>\n",
       "</table>\n",
       "</div>"
      ],
      "text/plain": [
       "                   Level  Prop Charged Off      n\n",
       "6              Buy a Car             0.214    743\n",
       "9   Educational Expenses             0.218     55\n",
       "0      Home Improvements             0.263   3398\n",
       "10               wedding             0.263     57\n",
       "8               vacation             0.272    382\n",
       "2              Buy House             0.280    396\n",
       "4                  Other             0.284   5439\n",
       "1     Debt Consolidation             0.292  46478\n",
       "3         major_purchase             0.293    215\n",
       "7          Medical Bills             0.327    645\n",
       "12      renewable_energy             0.333      6\n",
       "11                moving             0.389     90\n",
       "5          Business Loan             0.399   1121"
      ]
     },
     "execution_count": 271,
     "metadata": {},
     "output_type": "execute_result"
    }
   ],
   "source": [
    "purpose_levels = ['Home Improvements', 'Debt Consolidation', 'Buy House', 'major_purchase', 'Other', \n",
    "                  'Business Loan', 'Buy a Car', 'Medical Bills', 'vacation', 'Educational Expenses', \n",
    "                  'wedding', 'moving', 'renewable_energy'] \n",
    "\n",
    "df_purpose = pd.DataFrame(columns = ['Level','Prop Charged Off','n'])\n",
    "\n",
    "for i in purpose_levels:\n",
    "    prop = round(df['Loan Status'][df['Purpose'] == i].value_counts()[1]/\n",
    "                 len(df['Loan Status'][df['Purpose'] == i]), 3)\n",
    "    df_purpose = df_purpose.append({'Level':i, \n",
    "                                    'Prop Charged Off':prop, \n",
    "                                    'n': len(df[df['Purpose']==i])}, ignore_index=True)\n",
    "    \n",
    "df_purpose.sort_values('Prop Charged Off')"
   ]
  },
  {
   "cell_type": "code",
   "execution_count": 272,
   "id": "3113eed3",
   "metadata": {},
   "outputs": [
    {
     "data": {
      "text/plain": [
       "Debt/MajorPurchase     46693\n",
       "House/Other             5835\n",
       "HomeImprove/Wedding     3455\n",
       "Move/Business           1211\n",
       "Car/Education            798\n",
       "Medical/Energy           651\n",
       "vacation                 382\n",
       "Name: Purpose, dtype: int64"
      ]
     },
     "execution_count": 272,
     "metadata": {},
     "output_type": "execute_result"
    }
   ],
   "source": [
    "df['Purpose'].replace(['Buy a Car','Educational Expenses'],'Car/Education', inplace=True)\n",
    "df['Purpose'].replace(['Home Improvements','wedding'],'HomeImprove/Wedding', inplace=True)\n",
    "df['Purpose'].replace(['Buy House','Other'],'House/Other', inplace=True)\n",
    "df['Purpose'].replace(['Debt Consolidation','major_purchase'],'Debt/MajorPurchase', inplace=True)\n",
    "df['Purpose'].replace(['Medical Bills','renewable_energy'],'Medical/Energy', inplace=True)\n",
    "df['Purpose'].replace(['moving','Business Loan'],'Move/Business', inplace=True)\n",
    "\n",
    "df['Purpose'].value_counts()"
   ]
  },
  {
   "cell_type": "markdown",
   "id": "c2553fdc",
   "metadata": {},
   "source": [
    "# Bankruptcies Feature"
   ]
  },
  {
   "cell_type": "markdown",
   "id": "26305e23",
   "metadata": {},
   "source": [
    "<blockquote>'Bankruptcies' is dominated by the 0.0 level with 52,603 observations, while Bankruptcies from 1.0 and upwards all have very small number of observations (with some of them having less than 20 observations).</blockquote>"
   ]
  },
  {
   "cell_type": "code",
   "execution_count": 273,
   "id": "be6a9424",
   "metadata": {},
   "outputs": [
    {
     "data": {
      "text/html": [
       "<div>\n",
       "<style scoped>\n",
       "    .dataframe tbody tr th:only-of-type {\n",
       "        vertical-align: middle;\n",
       "    }\n",
       "\n",
       "    .dataframe tbody tr th {\n",
       "        vertical-align: top;\n",
       "    }\n",
       "\n",
       "    .dataframe thead th {\n",
       "        text-align: right;\n",
       "    }\n",
       "</style>\n",
       "<table border=\"1\" class=\"dataframe\">\n",
       "  <thead>\n",
       "    <tr style=\"text-align: right;\">\n",
       "      <th></th>\n",
       "      <th>Level</th>\n",
       "      <th>Prop Charged Off</th>\n",
       "      <th>n</th>\n",
       "    </tr>\n",
       "  </thead>\n",
       "  <tbody>\n",
       "    <tr>\n",
       "      <th>6</th>\n",
       "      <td>7.0</td>\n",
       "      <td>0.000</td>\n",
       "      <td>1</td>\n",
       "    </tr>\n",
       "    <tr>\n",
       "      <th>7</th>\n",
       "      <td>6.0</td>\n",
       "      <td>0.000</td>\n",
       "      <td>1</td>\n",
       "    </tr>\n",
       "    <tr>\n",
       "      <th>5</th>\n",
       "      <td>5.0</td>\n",
       "      <td>0.250</td>\n",
       "      <td>4</td>\n",
       "    </tr>\n",
       "    <tr>\n",
       "      <th>3</th>\n",
       "      <td>3.0</td>\n",
       "      <td>0.259</td>\n",
       "      <td>58</td>\n",
       "    </tr>\n",
       "    <tr>\n",
       "      <th>0</th>\n",
       "      <td>1.0</td>\n",
       "      <td>0.282</td>\n",
       "      <td>6115</td>\n",
       "    </tr>\n",
       "    <tr>\n",
       "      <th>2</th>\n",
       "      <td>2.0</td>\n",
       "      <td>0.282</td>\n",
       "      <td>227</td>\n",
       "    </tr>\n",
       "    <tr>\n",
       "      <th>1</th>\n",
       "      <td>0.0</td>\n",
       "      <td>0.292</td>\n",
       "      <td>52603</td>\n",
       "    </tr>\n",
       "    <tr>\n",
       "      <th>4</th>\n",
       "      <td>4.0</td>\n",
       "      <td>0.375</td>\n",
       "      <td>16</td>\n",
       "    </tr>\n",
       "  </tbody>\n",
       "</table>\n",
       "</div>"
      ],
      "text/plain": [
       "  Level  Prop Charged Off      n\n",
       "6   7.0             0.000      1\n",
       "7   6.0             0.000      1\n",
       "5   5.0             0.250      4\n",
       "3   3.0             0.259     58\n",
       "0   1.0             0.282   6115\n",
       "2   2.0             0.282    227\n",
       "1   0.0             0.292  52603\n",
       "4   4.0             0.375     16"
      ]
     },
     "execution_count": 273,
     "metadata": {},
     "output_type": "execute_result"
    }
   ],
   "source": [
    "bankrupt_levels = list(df['Bankruptcies'].unique())\n",
    "\n",
    "df_bankrupt = pd.DataFrame(columns = ['Level','Prop Charged Off','n'])\n",
    "\n",
    "for i in bankrupt_levels:\n",
    "    prop=round(len(df['Loan Status'][(df['Bankruptcies']==i)&(df['Loan Status']=='Charged Off')])\n",
    "               /len(df['Loan Status'][df['Bankruptcies'] == i]), 3)\n",
    "    df_bankrupt = df_bankrupt.append({'Level':i, \n",
    "                                      'Prop Charged Off':prop, \n",
    "                                      'n': len(df[df['Bankruptcies']==i])}, ignore_index=True)\n",
    "    \n",
    "df_bankrupt.sort_values('Prop Charged Off')"
   ]
  },
  {
   "cell_type": "markdown",
   "id": "386e6f70",
   "metadata": {},
   "source": [
    "<blockquote>For this reason, this feature will be transformed into a binary feature, where the customer either has had a bankruptcy or has never had a bankruptcy.</blockquote>"
   ]
  },
  {
   "cell_type": "code",
   "execution_count": 274,
   "id": "17871539",
   "metadata": {},
   "outputs": [
    {
     "data": {
      "text/plain": [
       "No     52603\n",
       "Yes     6422\n",
       "Name: Bankruptcies, dtype: int64"
      ]
     },
     "execution_count": 274,
     "metadata": {},
     "output_type": "execute_result"
    }
   ],
   "source": [
    "df['Bankruptcies'] = np.where(df['Bankruptcies']=='0.0','No','Yes')\n",
    "df['Bankruptcies'].value_counts()"
   ]
  },
  {
   "cell_type": "markdown",
   "id": "b3fae97c",
   "metadata": {},
   "source": [
    "# Tax Liens Feature"
   ]
  },
  {
   "cell_type": "markdown",
   "id": "361c13c4",
   "metadata": {},
   "source": [
    "<blockquote>Similar to 'Bankruptcies', 'Tax Liens' is dominated by the 0.0 level, hence will also be transformed into a binary feature where a customer either has had a tax liens or has never had a tax liens.</blockquote>"
   ]
  },
  {
   "cell_type": "code",
   "execution_count": 275,
   "id": "bdc3a91b",
   "metadata": {},
   "outputs": [
    {
     "data": {
      "text/html": [
       "<div>\n",
       "<style scoped>\n",
       "    .dataframe tbody tr th:only-of-type {\n",
       "        vertical-align: middle;\n",
       "    }\n",
       "\n",
       "    .dataframe tbody tr th {\n",
       "        vertical-align: top;\n",
       "    }\n",
       "\n",
       "    .dataframe thead th {\n",
       "        text-align: right;\n",
       "    }\n",
       "</style>\n",
       "<table border=\"1\" class=\"dataframe\">\n",
       "  <thead>\n",
       "    <tr style=\"text-align: right;\">\n",
       "      <th></th>\n",
       "      <th>Level</th>\n",
       "      <th>Prop Charged Off</th>\n",
       "      <th>n</th>\n",
       "    </tr>\n",
       "  </thead>\n",
       "  <tbody>\n",
       "    <tr>\n",
       "      <th>7</th>\n",
       "      <td>11.0</td>\n",
       "      <td>0.000</td>\n",
       "      <td>1</td>\n",
       "    </tr>\n",
       "    <tr>\n",
       "      <th>8</th>\n",
       "      <td>15.0</td>\n",
       "      <td>0.000</td>\n",
       "      <td>1</td>\n",
       "    </tr>\n",
       "    <tr>\n",
       "      <th>10</th>\n",
       "      <td>10.0</td>\n",
       "      <td>0.000</td>\n",
       "      <td>1</td>\n",
       "    </tr>\n",
       "    <tr>\n",
       "      <th>5</th>\n",
       "      <td>6.0</td>\n",
       "      <td>0.286</td>\n",
       "      <td>7</td>\n",
       "    </tr>\n",
       "    <tr>\n",
       "      <th>0</th>\n",
       "      <td>0.0</td>\n",
       "      <td>0.290</td>\n",
       "      <td>57893</td>\n",
       "    </tr>\n",
       "    <tr>\n",
       "      <th>1</th>\n",
       "      <td>1.0</td>\n",
       "      <td>0.307</td>\n",
       "      <td>784</td>\n",
       "    </tr>\n",
       "    <tr>\n",
       "      <th>2</th>\n",
       "      <td>2.0</td>\n",
       "      <td>0.326</td>\n",
       "      <td>221</td>\n",
       "    </tr>\n",
       "    <tr>\n",
       "      <th>4</th>\n",
       "      <td>3.0</td>\n",
       "      <td>0.383</td>\n",
       "      <td>60</td>\n",
       "    </tr>\n",
       "    <tr>\n",
       "      <th>3</th>\n",
       "      <td>4.0</td>\n",
       "      <td>0.410</td>\n",
       "      <td>39</td>\n",
       "    </tr>\n",
       "    <tr>\n",
       "      <th>11</th>\n",
       "      <td>9.0</td>\n",
       "      <td>0.500</td>\n",
       "      <td>2</td>\n",
       "    </tr>\n",
       "    <tr>\n",
       "      <th>6</th>\n",
       "      <td>5.0</td>\n",
       "      <td>0.545</td>\n",
       "      <td>11</td>\n",
       "    </tr>\n",
       "    <tr>\n",
       "      <th>9</th>\n",
       "      <td>7.0</td>\n",
       "      <td>0.600</td>\n",
       "      <td>5</td>\n",
       "    </tr>\n",
       "  </tbody>\n",
       "</table>\n",
       "</div>"
      ],
      "text/plain": [
       "   Level  Prop Charged Off      n\n",
       "7   11.0             0.000      1\n",
       "8   15.0             0.000      1\n",
       "10  10.0             0.000      1\n",
       "5    6.0             0.286      7\n",
       "0    0.0             0.290  57893\n",
       "1    1.0             0.307    784\n",
       "2    2.0             0.326    221\n",
       "4    3.0             0.383     60\n",
       "3    4.0             0.410     39\n",
       "11   9.0             0.500      2\n",
       "6    5.0             0.545     11\n",
       "9    7.0             0.600      5"
      ]
     },
     "execution_count": 275,
     "metadata": {},
     "output_type": "execute_result"
    }
   ],
   "source": [
    "tax_levels = list(df['Tax Liens'].unique())\n",
    "\n",
    "df_tax = pd.DataFrame(columns = ['Level','Prop Charged Off','n'])\n",
    "\n",
    "for i in tax_levels:\n",
    "    prop=round(len(df['Loan Status'][(df['Tax Liens']==i)&(df['Loan Status']=='Charged Off')])\n",
    "               /len(df['Loan Status'][df['Tax Liens'] == i]), 3)\n",
    "    df_tax = df_tax.append({'Level':i, \n",
    "                                      'Prop Charged Off':prop, \n",
    "                                      'n': len(df[df['Tax Liens']==i])}, ignore_index=True)\n",
    "    \n",
    "df_tax.sort_values('Prop Charged Off')\n",
    "\n"
   ]
  },
  {
   "cell_type": "code",
   "execution_count": 276,
   "id": "aadd99d9",
   "metadata": {},
   "outputs": [
    {
     "data": {
      "text/plain": [
       "No     57893\n",
       "Yes     1132\n",
       "Name: Tax Liens, dtype: int64"
      ]
     },
     "execution_count": 276,
     "metadata": {},
     "output_type": "execute_result"
    }
   ],
   "source": [
    "df['Tax Liens'] = np.where(df['Tax Liens']=='0.0','No','Yes')\n",
    "df['Tax Liens'].value_counts()"
   ]
  },
  {
   "cell_type": "markdown",
   "id": "935771d2",
   "metadata": {},
   "source": [
    "# Number Credit Problems Feature"
   ]
  },
  {
   "cell_type": "markdown",
   "id": "7ff8bcd4",
   "metadata": {},
   "source": [
    "<blockquote>The same problem is seen with 'Number Credit Problems' has it's dominated by the 0.0 level. It will be transformed into a binary feature with either no credit problems or with credit problems. The feature will also be renamed to 'Credit Problems' to better reflect its new meaning.\n",
    "\n",
    "</blockquote>"
   ]
  },
  {
   "cell_type": "code",
   "execution_count": 277,
   "id": "19c1b47f",
   "metadata": {},
   "outputs": [
    {
     "data": {
      "text/html": [
       "<div>\n",
       "<style scoped>\n",
       "    .dataframe tbody tr th:only-of-type {\n",
       "        vertical-align: middle;\n",
       "    }\n",
       "\n",
       "    .dataframe tbody tr th {\n",
       "        vertical-align: top;\n",
       "    }\n",
       "\n",
       "    .dataframe thead th {\n",
       "        text-align: right;\n",
       "    }\n",
       "</style>\n",
       "<table border=\"1\" class=\"dataframe\">\n",
       "  <thead>\n",
       "    <tr style=\"text-align: right;\">\n",
       "      <th></th>\n",
       "      <th>Level</th>\n",
       "      <th>Prop Charged Off</th>\n",
       "      <th>n</th>\n",
       "    </tr>\n",
       "  </thead>\n",
       "  <tbody>\n",
       "    <tr>\n",
       "      <th>8</th>\n",
       "      <td>11</td>\n",
       "      <td>0.000</td>\n",
       "      <td>1</td>\n",
       "    </tr>\n",
       "    <tr>\n",
       "      <th>9</th>\n",
       "      <td>15</td>\n",
       "      <td>0.000</td>\n",
       "      <td>1</td>\n",
       "    </tr>\n",
       "    <tr>\n",
       "      <th>10</th>\n",
       "      <td>8</td>\n",
       "      <td>0.000</td>\n",
       "      <td>2</td>\n",
       "    </tr>\n",
       "    <tr>\n",
       "      <th>11</th>\n",
       "      <td>10</td>\n",
       "      <td>0.000</td>\n",
       "      <td>1</td>\n",
       "    </tr>\n",
       "    <tr>\n",
       "      <th>7</th>\n",
       "      <td>6</td>\n",
       "      <td>0.200</td>\n",
       "      <td>10</td>\n",
       "    </tr>\n",
       "    <tr>\n",
       "      <th>0</th>\n",
       "      <td>1</td>\n",
       "      <td>0.287</td>\n",
       "      <td>7034</td>\n",
       "    </tr>\n",
       "    <tr>\n",
       "      <th>1</th>\n",
       "      <td>0</td>\n",
       "      <td>0.291</td>\n",
       "      <td>50891</td>\n",
       "    </tr>\n",
       "    <tr>\n",
       "      <th>6</th>\n",
       "      <td>3</td>\n",
       "      <td>0.301</td>\n",
       "      <td>216</td>\n",
       "    </tr>\n",
       "    <tr>\n",
       "      <th>2</th>\n",
       "      <td>2</td>\n",
       "      <td>0.316</td>\n",
       "      <td>754</td>\n",
       "    </tr>\n",
       "    <tr>\n",
       "      <th>5</th>\n",
       "      <td>7</td>\n",
       "      <td>0.333</td>\n",
       "      <td>6</td>\n",
       "    </tr>\n",
       "    <tr>\n",
       "      <th>4</th>\n",
       "      <td>4</td>\n",
       "      <td>0.361</td>\n",
       "      <td>72</td>\n",
       "    </tr>\n",
       "    <tr>\n",
       "      <th>3</th>\n",
       "      <td>5</td>\n",
       "      <td>0.412</td>\n",
       "      <td>34</td>\n",
       "    </tr>\n",
       "    <tr>\n",
       "      <th>12</th>\n",
       "      <td>9</td>\n",
       "      <td>0.500</td>\n",
       "      <td>2</td>\n",
       "    </tr>\n",
       "    <tr>\n",
       "      <th>13</th>\n",
       "      <td>12</td>\n",
       "      <td>1.000</td>\n",
       "      <td>1</td>\n",
       "    </tr>\n",
       "  </tbody>\n",
       "</table>\n",
       "</div>"
      ],
      "text/plain": [
       "   Level  Prop Charged Off      n\n",
       "8     11             0.000      1\n",
       "9     15             0.000      1\n",
       "10     8             0.000      2\n",
       "11    10             0.000      1\n",
       "7      6             0.200     10\n",
       "0      1             0.287   7034\n",
       "1      0             0.291  50891\n",
       "6      3             0.301    216\n",
       "2      2             0.316    754\n",
       "5      7             0.333      6\n",
       "4      4             0.361     72\n",
       "3      5             0.412     34\n",
       "12     9             0.500      2\n",
       "13    12             1.000      1"
      ]
     },
     "execution_count": 277,
     "metadata": {},
     "output_type": "execute_result"
    }
   ],
   "source": [
    "credit_levels = list(df['Number Credit Problems'].unique())\n",
    "\n",
    "df_credit = pd.DataFrame(columns = ['Level','Prop Charged Off','n'])\n",
    "\n",
    "for i in credit_levels:\n",
    "    prop=round(len(df['Loan Status'][(df['Number Credit Problems']==i)&(df['Loan Status']=='Charged Off')])\n",
    "               /len(df['Loan Status'][df['Number Credit Problems'] == i]), 3)\n",
    "    df_credit = df_credit.append({'Level':i, \n",
    "                                      'Prop Charged Off':prop, \n",
    "                                      'n': len(df[df['Number Credit Problems']==i])}, ignore_index=True)\n",
    "    \n",
    "df_credit.sort_values('Prop Charged Off')"
   ]
  },
  {
   "cell_type": "code",
   "execution_count": 278,
   "id": "c5fc26b8",
   "metadata": {},
   "outputs": [
    {
     "data": {
      "text/plain": [
       "Yes    59025\n",
       "Name: Number Credit Problems, dtype: int64"
      ]
     },
     "execution_count": 278,
     "metadata": {},
     "output_type": "execute_result"
    }
   ],
   "source": [
    "df['Number Credit Problems'] = np.where(df['Number Credit Problems']=='0.0','No','Yes')\n",
    "df['Number Credit Problems'].value_counts()"
   ]
  },
  {
   "cell_type": "code",
   "execution_count": 279,
   "id": "0653f6eb",
   "metadata": {},
   "outputs": [
    {
     "data": {
      "text/plain": [
       "Index(['Loan Status', 'Current Loan Amount', 'Term', 'Credit Score',\n",
       "       'Annual Income', 'Years Current Job', 'Home Ownership', 'Purpose',\n",
       "       'Monthly Debt', 'Years of Credit History',\n",
       "       'Months Since Last Delinquent', 'Number Open Accounts',\n",
       "       'Credit Problems', 'Current Credit Balance', 'Maximum Open Credit',\n",
       "       'Bankruptcies', 'Tax Liens'],\n",
       "      dtype='object')"
      ]
     },
     "execution_count": 279,
     "metadata": {},
     "output_type": "execute_result"
    }
   ],
   "source": [
    "df.rename(columns= {'Number Credit Problems': 'Credit Problems'} , inplace=True )\n",
    "df.columns"
   ]
  },
  {
   "cell_type": "markdown",
   "id": "b4bfc4c0",
   "metadata": {},
   "source": [
    "# Years Current Job Feature"
   ]
  },
  {
   "cell_type": "markdown",
   "id": "fe9a2a87",
   "metadata": {},
   "source": [
    "<blockquote>As seen below, the 'Years Current Job' feature does not suffer from sparsely populated levels like some of the previous features did. Interestingly, the 'nan' level has the highest proportion of 'Charged Off' compared to the other levels, meaning that this non-response level contains useful information.</blockquote>"
   ]
  },
  {
   "cell_type": "code",
   "execution_count": 280,
   "id": "a6bccba6",
   "metadata": {},
   "outputs": [
    {
     "data": {
      "text/html": [
       "<div>\n",
       "<style scoped>\n",
       "    .dataframe tbody tr th:only-of-type {\n",
       "        vertical-align: middle;\n",
       "    }\n",
       "\n",
       "    .dataframe tbody tr th {\n",
       "        vertical-align: top;\n",
       "    }\n",
       "\n",
       "    .dataframe thead th {\n",
       "        text-align: right;\n",
       "    }\n",
       "</style>\n",
       "<table border=\"1\" class=\"dataframe\">\n",
       "  <thead>\n",
       "    <tr style=\"text-align: right;\">\n",
       "      <th></th>\n",
       "      <th>Level</th>\n",
       "      <th>Prop Charged Off</th>\n",
       "      <th>n</th>\n",
       "    </tr>\n",
       "  </thead>\n",
       "  <tbody>\n",
       "    <tr>\n",
       "      <th>5</th>\n",
       "      <td>4 years</td>\n",
       "      <td>0.276</td>\n",
       "      <td>3569</td>\n",
       "    </tr>\n",
       "    <tr>\n",
       "      <th>1</th>\n",
       "      <td>3 years</td>\n",
       "      <td>0.278</td>\n",
       "      <td>4831</td>\n",
       "    </tr>\n",
       "    <tr>\n",
       "      <th>2</th>\n",
       "      <td>10+ years</td>\n",
       "      <td>0.282</td>\n",
       "      <td>18361</td>\n",
       "    </tr>\n",
       "    <tr>\n",
       "      <th>4</th>\n",
       "      <td>2 years</td>\n",
       "      <td>0.285</td>\n",
       "      <td>5376</td>\n",
       "    </tr>\n",
       "    <tr>\n",
       "      <th>0</th>\n",
       "      <td>8 years</td>\n",
       "      <td>0.290</td>\n",
       "      <td>2736</td>\n",
       "    </tr>\n",
       "    <tr>\n",
       "      <th>6</th>\n",
       "      <td>5 years</td>\n",
       "      <td>0.291</td>\n",
       "      <td>4020</td>\n",
       "    </tr>\n",
       "    <tr>\n",
       "      <th>8</th>\n",
       "      <td>7 years</td>\n",
       "      <td>0.291</td>\n",
       "      <td>3301</td>\n",
       "    </tr>\n",
       "    <tr>\n",
       "      <th>7</th>\n",
       "      <td>1 year</td>\n",
       "      <td>0.293</td>\n",
       "      <td>3807</td>\n",
       "    </tr>\n",
       "    <tr>\n",
       "      <th>9</th>\n",
       "      <td>6 years</td>\n",
       "      <td>0.299</td>\n",
       "      <td>3347</td>\n",
       "    </tr>\n",
       "    <tr>\n",
       "      <th>3</th>\n",
       "      <td>&lt; 1 year</td>\n",
       "      <td>0.300</td>\n",
       "      <td>4796</td>\n",
       "    </tr>\n",
       "    <tr>\n",
       "      <th>10</th>\n",
       "      <td>9 years</td>\n",
       "      <td>0.303</td>\n",
       "      <td>2317</td>\n",
       "    </tr>\n",
       "    <tr>\n",
       "      <th>11</th>\n",
       "      <td>nan</td>\n",
       "      <td>0.373</td>\n",
       "      <td>2564</td>\n",
       "    </tr>\n",
       "  </tbody>\n",
       "</table>\n",
       "</div>"
      ],
      "text/plain": [
       "        Level  Prop Charged Off      n\n",
       "5     4 years             0.276   3569\n",
       "1     3 years             0.278   4831\n",
       "2   10+ years             0.282  18361\n",
       "4     2 years             0.285   5376\n",
       "0     8 years             0.290   2736\n",
       "6     5 years             0.291   4020\n",
       "8     7 years             0.291   3301\n",
       "7      1 year             0.293   3807\n",
       "9     6 years             0.299   3347\n",
       "3    < 1 year             0.300   4796\n",
       "10    9 years             0.303   2317\n",
       "11        nan             0.373   2564"
      ]
     },
     "execution_count": 280,
     "metadata": {},
     "output_type": "execute_result"
    }
   ],
   "source": [
    "df['Years Current Job'] = df['Years Current Job'].astype(str)\n",
    "\n",
    "job_levels = list(df['Years Current Job'].unique())\n",
    "\n",
    "df_job = pd.DataFrame(columns = ['Level','Prop Charged Off','n'])\n",
    "\n",
    "for i in job_levels:\n",
    "    prop=round(len(df['Loan Status'][(df['Years Current Job']==i)&(df['Loan Status']=='Charged Off')])\n",
    "               /len(df['Loan Status'][df['Years Current Job'] == i]), 3)\n",
    "    df_job = df_job.append({'Level':i, \n",
    "                            'Prop Charged Off':prop, \n",
    "                            'n': len(df[df['Years Current Job']==i])}, ignore_index=True)\n",
    "    \n",
    "df_job.sort_values('Prop Charged Off')"
   ]
  },
  {
   "cell_type": "code",
   "execution_count": 281,
   "id": "d2eb5b45",
   "metadata": {},
   "outputs": [
    {
     "data": {
      "text/html": [
       "<div>\n",
       "<style scoped>\n",
       "    .dataframe tbody tr th:only-of-type {\n",
       "        vertical-align: middle;\n",
       "    }\n",
       "\n",
       "    .dataframe tbody tr th {\n",
       "        vertical-align: top;\n",
       "    }\n",
       "\n",
       "    .dataframe thead th {\n",
       "        text-align: right;\n",
       "    }\n",
       "</style>\n",
       "<table border=\"1\" class=\"dataframe\">\n",
       "  <thead>\n",
       "    <tr style=\"text-align: right;\">\n",
       "      <th></th>\n",
       "      <th>Loan Status</th>\n",
       "      <th>Current Loan Amount</th>\n",
       "      <th>Term</th>\n",
       "      <th>Credit Score</th>\n",
       "      <th>Annual Income</th>\n",
       "      <th>Years Current Job</th>\n",
       "      <th>Home Ownership</th>\n",
       "      <th>Purpose</th>\n",
       "      <th>Monthly Debt</th>\n",
       "      <th>Years of Credit History</th>\n",
       "      <th>Months Since Last Delinquent</th>\n",
       "      <th>Number Open Accounts</th>\n",
       "      <th>Credit Problems</th>\n",
       "      <th>Current Credit Balance</th>\n",
       "      <th>Maximum Open Credit</th>\n",
       "      <th>Bankruptcies</th>\n",
       "      <th>Tax Liens</th>\n",
       "    </tr>\n",
       "  </thead>\n",
       "  <tbody>\n",
       "    <tr>\n",
       "      <th>68</th>\n",
       "      <td>Fully Paid</td>\n",
       "      <td>311058.000</td>\n",
       "      <td>Long Term</td>\n",
       "      <td>675.000</td>\n",
       "      <td>1343167.000</td>\n",
       "      <td>Not Applicable</td>\n",
       "      <td>Home Mortgage</td>\n",
       "      <td>Debt/MajorPurchase</td>\n",
       "      <td>21378.800</td>\n",
       "      <td>31.400</td>\n",
       "      <td>17.0</td>\n",
       "      <td>11</td>\n",
       "      <td>Yes</td>\n",
       "      <td>247912</td>\n",
       "      <td>541596.000</td>\n",
       "      <td>No</td>\n",
       "      <td>No</td>\n",
       "    </tr>\n",
       "    <tr>\n",
       "      <th>78</th>\n",
       "      <td>Fully Paid</td>\n",
       "      <td>262988.000</td>\n",
       "      <td>Short Term</td>\n",
       "      <td>743.000</td>\n",
       "      <td>1340279.000</td>\n",
       "      <td>Not Applicable</td>\n",
       "      <td>Rent</td>\n",
       "      <td>Debt/MajorPurchase</td>\n",
       "      <td>9348.380</td>\n",
       "      <td>28.200</td>\n",
       "      <td>35.0</td>\n",
       "      <td>9</td>\n",
       "      <td>Yes</td>\n",
       "      <td>499548</td>\n",
       "      <td>681296.000</td>\n",
       "      <td>No</td>\n",
       "      <td>No</td>\n",
       "    </tr>\n",
       "    <tr>\n",
       "      <th>89</th>\n",
       "      <td>Fully Paid</td>\n",
       "      <td>158818.000</td>\n",
       "      <td>Short Term</td>\n",
       "      <td>731.000</td>\n",
       "      <td>315666.000</td>\n",
       "      <td>Not Applicable</td>\n",
       "      <td>Own Home</td>\n",
       "      <td>Debt/MajorPurchase</td>\n",
       "      <td>8522.830</td>\n",
       "      <td>31.300</td>\n",
       "      <td>60.0</td>\n",
       "      <td>13</td>\n",
       "      <td>Yes</td>\n",
       "      <td>260072</td>\n",
       "      <td>756646.000</td>\n",
       "      <td>No</td>\n",
       "      <td>Yes</td>\n",
       "    </tr>\n",
       "    <tr>\n",
       "      <th>159</th>\n",
       "      <td>Fully Paid</td>\n",
       "      <td>64966.000</td>\n",
       "      <td>Short Term</td>\n",
       "      <td>723.000</td>\n",
       "      <td>1224968.000</td>\n",
       "      <td>Not Applicable</td>\n",
       "      <td>Home Mortgage</td>\n",
       "      <td>House/Other</td>\n",
       "      <td>23172.210</td>\n",
       "      <td>44.000</td>\n",
       "      <td>48.0</td>\n",
       "      <td>16</td>\n",
       "      <td>Yes</td>\n",
       "      <td>858154</td>\n",
       "      <td>1344574.000</td>\n",
       "      <td>No</td>\n",
       "      <td>No</td>\n",
       "    </tr>\n",
       "    <tr>\n",
       "      <th>160</th>\n",
       "      <td>Fully Paid</td>\n",
       "      <td>300366.000</td>\n",
       "      <td>Short Term</td>\n",
       "      <td>730.000</td>\n",
       "      <td>833188.000</td>\n",
       "      <td>Not Applicable</td>\n",
       "      <td>Home Mortgage</td>\n",
       "      <td>Debt/MajorPurchase</td>\n",
       "      <td>13400.320</td>\n",
       "      <td>17.900</td>\n",
       "      <td>37.0</td>\n",
       "      <td>7</td>\n",
       "      <td>Yes</td>\n",
       "      <td>179721</td>\n",
       "      <td>338932.000</td>\n",
       "      <td>No</td>\n",
       "      <td>No</td>\n",
       "    </tr>\n",
       "  </tbody>\n",
       "</table>\n",
       "</div>"
      ],
      "text/plain": [
       "    Loan Status  Current Loan Amount        Term  Credit Score  Annual Income  \\\n",
       "68   Fully Paid           311058.000   Long Term       675.000    1343167.000   \n",
       "78   Fully Paid           262988.000  Short Term       743.000    1340279.000   \n",
       "89   Fully Paid           158818.000  Short Term       731.000     315666.000   \n",
       "159  Fully Paid            64966.000  Short Term       723.000    1224968.000   \n",
       "160  Fully Paid           300366.000  Short Term       730.000     833188.000   \n",
       "\n",
       "    Years Current Job Home Ownership             Purpose  Monthly Debt  \\\n",
       "68     Not Applicable  Home Mortgage  Debt/MajorPurchase     21378.800   \n",
       "78     Not Applicable           Rent  Debt/MajorPurchase      9348.380   \n",
       "89     Not Applicable       Own Home  Debt/MajorPurchase      8522.830   \n",
       "159    Not Applicable  Home Mortgage         House/Other     23172.210   \n",
       "160    Not Applicable  Home Mortgage  Debt/MajorPurchase     13400.320   \n",
       "\n",
       "     Years of Credit History Months Since Last Delinquent  \\\n",
       "68                    31.400                         17.0   \n",
       "78                    28.200                         35.0   \n",
       "89                    31.300                         60.0   \n",
       "159                   44.000                         48.0   \n",
       "160                   17.900                         37.0   \n",
       "\n",
       "     Number Open Accounts Credit Problems  Current Credit Balance  \\\n",
       "68                     11             Yes                  247912   \n",
       "78                      9             Yes                  499548   \n",
       "89                     13             Yes                  260072   \n",
       "159                    16             Yes                  858154   \n",
       "160                     7             Yes                  179721   \n",
       "\n",
       "     Maximum Open Credit Bankruptcies Tax Liens  \n",
       "68            541596.000           No        No  \n",
       "78            681296.000           No        No  \n",
       "89            756646.000           No       Yes  \n",
       "159          1344574.000           No        No  \n",
       "160           338932.000           No        No  "
      ]
     },
     "execution_count": 281,
     "metadata": {},
     "output_type": "execute_result"
    }
   ],
   "source": [
    "df['Years Current Job'].replace('nan', 'Not Applicable', inplace=True)\n",
    "df[df['Years Current Job'] == 'Not Applicable'].head(5)"
   ]
  },
  {
   "cell_type": "markdown",
   "id": "8af39dce",
   "metadata": {},
   "source": [
    "# Months Since Last Delinquent Feature"
   ]
  },
  {
   "cell_type": "markdown",
   "id": "f8e1254f",
   "metadata": {},
   "source": [
    "<blockquote>The table below shows that the proportion of charge offs have no relation to the number of months since last delinquency. Hence, this feature will be transformed into a binary variable with NaN values representing that the customer had never been in delinquency ('No'), while all numbered values will represent that the customer has been in delinquency at least once ('Yes'). The feature will also be renamed to 'Has Been Delinquent' to better represent its new meaning.</blockquote>"
   ]
  },
  {
   "cell_type": "code",
   "execution_count": 282,
   "id": "b676458e",
   "metadata": {},
   "outputs": [
    {
     "data": {
      "text/html": [
       "<div>\n",
       "<style scoped>\n",
       "    .dataframe tbody tr th:only-of-type {\n",
       "        vertical-align: middle;\n",
       "    }\n",
       "\n",
       "    .dataframe tbody tr th {\n",
       "        vertical-align: top;\n",
       "    }\n",
       "\n",
       "    .dataframe thead th {\n",
       "        text-align: right;\n",
       "    }\n",
       "</style>\n",
       "<table border=\"1\" class=\"dataframe\">\n",
       "  <thead>\n",
       "    <tr style=\"text-align: right;\">\n",
       "      <th></th>\n",
       "      <th>Level</th>\n",
       "      <th>Prop Charged Off</th>\n",
       "      <th>n</th>\n",
       "    </tr>\n",
       "  </thead>\n",
       "  <tbody>\n",
       "    <tr>\n",
       "      <th>105</th>\n",
       "      <td>131.0</td>\n",
       "      <td>0.000</td>\n",
       "      <td>1</td>\n",
       "    </tr>\n",
       "    <tr>\n",
       "      <th>85</th>\n",
       "      <td>118.0</td>\n",
       "      <td>0.000</td>\n",
       "      <td>1</td>\n",
       "    </tr>\n",
       "    <tr>\n",
       "      <th>88</th>\n",
       "      <td>120.0</td>\n",
       "      <td>0.000</td>\n",
       "      <td>1</td>\n",
       "    </tr>\n",
       "    <tr>\n",
       "      <th>91</th>\n",
       "      <td>88.0</td>\n",
       "      <td>0.000</td>\n",
       "      <td>1</td>\n",
       "    </tr>\n",
       "    <tr>\n",
       "      <th>92</th>\n",
       "      <td>85.0</td>\n",
       "      <td>0.000</td>\n",
       "      <td>5</td>\n",
       "    </tr>\n",
       "    <tr>\n",
       "      <th>93</th>\n",
       "      <td>93.0</td>\n",
       "      <td>0.000</td>\n",
       "      <td>1</td>\n",
       "    </tr>\n",
       "    <tr>\n",
       "      <th>94</th>\n",
       "      <td>97.0</td>\n",
       "      <td>0.000</td>\n",
       "      <td>1</td>\n",
       "    </tr>\n",
       "    <tr>\n",
       "      <th>84</th>\n",
       "      <td>89.0</td>\n",
       "      <td>0.000</td>\n",
       "      <td>1</td>\n",
       "    </tr>\n",
       "    <tr>\n",
       "      <th>98</th>\n",
       "      <td>108.0</td>\n",
       "      <td>0.000</td>\n",
       "      <td>2</td>\n",
       "    </tr>\n",
       "    <tr>\n",
       "      <th>97</th>\n",
       "      <td>176.0</td>\n",
       "      <td>0.000</td>\n",
       "      <td>1</td>\n",
       "    </tr>\n",
       "    <tr>\n",
       "      <th>100</th>\n",
       "      <td>114.0</td>\n",
       "      <td>0.000</td>\n",
       "      <td>1</td>\n",
       "    </tr>\n",
       "    <tr>\n",
       "      <th>101</th>\n",
       "      <td>91.0</td>\n",
       "      <td>0.000</td>\n",
       "      <td>1</td>\n",
       "    </tr>\n",
       "    <tr>\n",
       "      <th>102</th>\n",
       "      <td>87.0</td>\n",
       "      <td>0.000</td>\n",
       "      <td>1</td>\n",
       "    </tr>\n",
       "    <tr>\n",
       "      <th>103</th>\n",
       "      <td>100.0</td>\n",
       "      <td>0.000</td>\n",
       "      <td>1</td>\n",
       "    </tr>\n",
       "    <tr>\n",
       "      <th>99</th>\n",
       "      <td>143.0</td>\n",
       "      <td>0.000</td>\n",
       "      <td>1</td>\n",
       "    </tr>\n",
       "    <tr>\n",
       "      <th>43</th>\n",
       "      <td>64.0</td>\n",
       "      <td>0.225</td>\n",
       "      <td>236</td>\n",
       "    </tr>\n",
       "    <tr>\n",
       "      <th>45</th>\n",
       "      <td>59.0</td>\n",
       "      <td>0.243</td>\n",
       "      <td>251</td>\n",
       "    </tr>\n",
       "    <tr>\n",
       "      <th>50</th>\n",
       "      <td>68.0</td>\n",
       "      <td>0.246</td>\n",
       "      <td>252</td>\n",
       "    </tr>\n",
       "    <tr>\n",
       "      <th>6</th>\n",
       "      <td>30.0</td>\n",
       "      <td>0.251</td>\n",
       "      <td>430</td>\n",
       "    </tr>\n",
       "    <tr>\n",
       "      <th>40</th>\n",
       "      <td>79.0</td>\n",
       "      <td>0.253</td>\n",
       "      <td>166</td>\n",
       "    </tr>\n",
       "    <tr>\n",
       "      <th>39</th>\n",
       "      <td>75.0</td>\n",
       "      <td>0.253</td>\n",
       "      <td>198</td>\n",
       "    </tr>\n",
       "    <tr>\n",
       "      <th>27</th>\n",
       "      <td>60.0</td>\n",
       "      <td>0.254</td>\n",
       "      <td>248</td>\n",
       "    </tr>\n",
       "    <tr>\n",
       "      <th>75</th>\n",
       "      <td>23.0</td>\n",
       "      <td>0.256</td>\n",
       "      <td>457</td>\n",
       "    </tr>\n",
       "    <tr>\n",
       "      <th>49</th>\n",
       "      <td>58.0</td>\n",
       "      <td>0.256</td>\n",
       "      <td>246</td>\n",
       "    </tr>\n",
       "    <tr>\n",
       "      <th>2</th>\n",
       "      <td>33.0</td>\n",
       "      <td>0.257</td>\n",
       "      <td>409</td>\n",
       "    </tr>\n",
       "    <tr>\n",
       "      <th>67</th>\n",
       "      <td>69.0</td>\n",
       "      <td>0.258</td>\n",
       "      <td>236</td>\n",
       "    </tr>\n",
       "    <tr>\n",
       "      <th>71</th>\n",
       "      <td>52.0</td>\n",
       "      <td>0.259</td>\n",
       "      <td>239</td>\n",
       "    </tr>\n",
       "    <tr>\n",
       "      <th>15</th>\n",
       "      <td>27.0</td>\n",
       "      <td>0.260</td>\n",
       "      <td>446</td>\n",
       "    </tr>\n",
       "    <tr>\n",
       "      <th>68</th>\n",
       "      <td>40.0</td>\n",
       "      <td>0.260</td>\n",
       "      <td>396</td>\n",
       "    </tr>\n",
       "    <tr>\n",
       "      <th>82</th>\n",
       "      <td>66.0</td>\n",
       "      <td>0.263</td>\n",
       "      <td>224</td>\n",
       "    </tr>\n",
       "    <tr>\n",
       "      <th>78</th>\n",
       "      <td>44.0</td>\n",
       "      <td>0.263</td>\n",
       "      <td>357</td>\n",
       "    </tr>\n",
       "    <tr>\n",
       "      <th>4</th>\n",
       "      <td>34.0</td>\n",
       "      <td>0.264</td>\n",
       "      <td>382</td>\n",
       "    </tr>\n",
       "    <tr>\n",
       "      <th>63</th>\n",
       "      <td>31.0</td>\n",
       "      <td>0.264</td>\n",
       "      <td>413</td>\n",
       "    </tr>\n",
       "    <tr>\n",
       "      <th>22</th>\n",
       "      <td>11.0</td>\n",
       "      <td>0.264</td>\n",
       "      <td>458</td>\n",
       "    </tr>\n",
       "    <tr>\n",
       "      <th>60</th>\n",
       "      <td>20.0</td>\n",
       "      <td>0.265</td>\n",
       "      <td>431</td>\n",
       "    </tr>\n",
       "    <tr>\n",
       "      <th>23</th>\n",
       "      <td>35.0</td>\n",
       "      <td>0.265</td>\n",
       "      <td>355</td>\n",
       "    </tr>\n",
       "    <tr>\n",
       "      <th>73</th>\n",
       "      <td>25.0</td>\n",
       "      <td>0.266</td>\n",
       "      <td>436</td>\n",
       "    </tr>\n",
       "    <tr>\n",
       "      <th>17</th>\n",
       "      <td>32.0</td>\n",
       "      <td>0.266</td>\n",
       "      <td>387</td>\n",
       "    </tr>\n",
       "    <tr>\n",
       "      <th>34</th>\n",
       "      <td>47.0</td>\n",
       "      <td>0.267</td>\n",
       "      <td>337</td>\n",
       "    </tr>\n",
       "    <tr>\n",
       "      <th>29</th>\n",
       "      <td>18.0</td>\n",
       "      <td>0.269</td>\n",
       "      <td>506</td>\n",
       "    </tr>\n",
       "  </tbody>\n",
       "</table>\n",
       "</div>"
      ],
      "text/plain": [
       "     Level  Prop Charged Off    n\n",
       "105  131.0             0.000    1\n",
       "85   118.0             0.000    1\n",
       "88   120.0             0.000    1\n",
       "91    88.0             0.000    1\n",
       "92    85.0             0.000    5\n",
       "93    93.0             0.000    1\n",
       "94    97.0             0.000    1\n",
       "84    89.0             0.000    1\n",
       "98   108.0             0.000    2\n",
       "97   176.0             0.000    1\n",
       "100  114.0             0.000    1\n",
       "101   91.0             0.000    1\n",
       "102   87.0             0.000    1\n",
       "103  100.0             0.000    1\n",
       "99   143.0             0.000    1\n",
       "43    64.0             0.225  236\n",
       "45    59.0             0.243  251\n",
       "50    68.0             0.246  252\n",
       "6     30.0             0.251  430\n",
       "40    79.0             0.253  166\n",
       "39    75.0             0.253  198\n",
       "27    60.0             0.254  248\n",
       "75    23.0             0.256  457\n",
       "49    58.0             0.256  246\n",
       "2     33.0             0.257  409\n",
       "67    69.0             0.258  236\n",
       "71    52.0             0.259  239\n",
       "15    27.0             0.260  446\n",
       "68    40.0             0.260  396\n",
       "82    66.0             0.263  224\n",
       "78    44.0             0.263  357\n",
       "4     34.0             0.264  382\n",
       "63    31.0             0.264  413\n",
       "22    11.0             0.264  458\n",
       "60    20.0             0.265  431\n",
       "23    35.0             0.265  355\n",
       "73    25.0             0.266  436\n",
       "17    32.0             0.266  387\n",
       "34    47.0             0.267  337\n",
       "29    18.0             0.269  506"
      ]
     },
     "execution_count": 282,
     "metadata": {},
     "output_type": "execute_result"
    }
   ],
   "source": [
    "delinq_levels = list(df['Months Since Last Delinquent'].unique())\n",
    "\n",
    "df_delinq = pd.DataFrame(columns = ['Level','Prop Charged Off','n'])\n",
    "\n",
    "for i in delinq_levels:\n",
    "    prop=round(len(df['Loan Status'][(df['Months Since Last Delinquent']==i)&(df['Loan Status']=='Charged Off')])\n",
    "               /len(df['Loan Status'][df['Months Since Last Delinquent'] == i]), 3)\n",
    "    df_delinq = df_delinq.append({'Level':i, \n",
    "                                  'Prop Charged Off':prop, \n",
    "                                  'n': len(df[df['Months Since Last Delinquent']==i])}, ignore_index=True)\n",
    "    \n",
    "df_delinq.sort_values('Prop Charged Off').head(40)"
   ]
  },
  {
   "cell_type": "code",
   "execution_count": 283,
   "id": "ff5e4431",
   "metadata": {},
   "outputs": [
    {
     "data": {
      "text/plain": [
       "No     31516\n",
       "Yes    27509\n",
       "Name: Months Since Last Delinquent, dtype: int64"
      ]
     },
     "execution_count": 283,
     "metadata": {},
     "output_type": "execute_result"
    }
   ],
   "source": [
    "df['Months Since Last Delinquent'] = np.where(df['Months Since Last Delinquent']=='nan','No','Yes')\n",
    "df['Months Since Last Delinquent'].value_counts()"
   ]
  },
  {
   "cell_type": "code",
   "execution_count": 284,
   "id": "863cdb5f",
   "metadata": {},
   "outputs": [
    {
     "data": {
      "text/plain": [
       "Index(['Loan Status', 'Current Loan Amount', 'Term', 'Credit Score',\n",
       "       'Annual Income', 'Years Current Job', 'Home Ownership', 'Purpose',\n",
       "       'Monthly Debt', 'Years of Credit History', 'Has Been Delinquent',\n",
       "       'Number Open Accounts', 'Credit Problems', 'Current Credit Balance',\n",
       "       'Maximum Open Credit', 'Bankruptcies', 'Tax Liens'],\n",
       "      dtype='object')"
      ]
     },
     "execution_count": 284,
     "metadata": {},
     "output_type": "execute_result"
    }
   ],
   "source": [
    "df.rename(columns= {'Months Since Last Delinquent': 'Has Been Delinquent'} , inplace=True )\n",
    "df.columns"
   ]
  },
  {
   "cell_type": "markdown",
   "id": "7f3558c2",
   "metadata": {},
   "source": [
    "# Data Aggregation Summary"
   ]
  },
  {
   "cell_type": "markdown",
   "id": "f3d227ef",
   "metadata": {},
   "source": [
    "<blockquote>As seen in the table below, the number of levels for most of the categorical features have been reduced. Additionally, there are no longer any NaN values for 'Has Been Delinquent' and 'Years Current Job' since the NaN values have been converted into levels.</blockquote>"
   ]
  },
  {
   "cell_type": "code",
   "execution_count": 285,
   "id": "80ebe185",
   "metadata": {},
   "outputs": [
    {
     "data": {
      "text/html": [
       "<div>\n",
       "<style scoped>\n",
       "    .dataframe tbody tr th:only-of-type {\n",
       "        vertical-align: middle;\n",
       "    }\n",
       "\n",
       "    .dataframe tbody tr th {\n",
       "        vertical-align: top;\n",
       "    }\n",
       "\n",
       "    .dataframe thead th {\n",
       "        text-align: right;\n",
       "    }\n",
       "</style>\n",
       "<table border=\"1\" class=\"dataframe\">\n",
       "  <thead>\n",
       "    <tr style=\"text-align: right;\">\n",
       "      <th></th>\n",
       "      <th>Loan Status</th>\n",
       "      <th>Term</th>\n",
       "      <th>Years Current Job</th>\n",
       "      <th>Home Ownership</th>\n",
       "      <th>Purpose</th>\n",
       "      <th>Has Been Delinquent</th>\n",
       "      <th>Credit Problems</th>\n",
       "      <th>Bankruptcies</th>\n",
       "      <th>Tax Liens</th>\n",
       "    </tr>\n",
       "  </thead>\n",
       "  <tbody>\n",
       "    <tr>\n",
       "      <th>count</th>\n",
       "      <td>59025</td>\n",
       "      <td>59025</td>\n",
       "      <td>59025</td>\n",
       "      <td>59025</td>\n",
       "      <td>59025</td>\n",
       "      <td>59025</td>\n",
       "      <td>59025</td>\n",
       "      <td>59025</td>\n",
       "      <td>59025</td>\n",
       "    </tr>\n",
       "    <tr>\n",
       "      <th>unique</th>\n",
       "      <td>2</td>\n",
       "      <td>2</td>\n",
       "      <td>12</td>\n",
       "      <td>3</td>\n",
       "      <td>7</td>\n",
       "      <td>2</td>\n",
       "      <td>1</td>\n",
       "      <td>2</td>\n",
       "      <td>2</td>\n",
       "    </tr>\n",
       "    <tr>\n",
       "      <th>top</th>\n",
       "      <td>Fully Paid</td>\n",
       "      <td>Short Term</td>\n",
       "      <td>10+ years</td>\n",
       "      <td>Home Mortgage</td>\n",
       "      <td>Debt/MajorPurchase</td>\n",
       "      <td>No</td>\n",
       "      <td>Yes</td>\n",
       "      <td>No</td>\n",
       "      <td>No</td>\n",
       "    </tr>\n",
       "    <tr>\n",
       "      <th>freq</th>\n",
       "      <td>41854</td>\n",
       "      <td>42266</td>\n",
       "      <td>18361</td>\n",
       "      <td>28591</td>\n",
       "      <td>46693</td>\n",
       "      <td>31516</td>\n",
       "      <td>59025</td>\n",
       "      <td>52603</td>\n",
       "      <td>57893</td>\n",
       "    </tr>\n",
       "  </tbody>\n",
       "</table>\n",
       "</div>"
      ],
      "text/plain": [
       "       Loan Status        Term Years Current Job Home Ownership  \\\n",
       "count        59025       59025             59025          59025   \n",
       "unique           2           2                12              3   \n",
       "top     Fully Paid  Short Term         10+ years  Home Mortgage   \n",
       "freq         41854       42266             18361          28591   \n",
       "\n",
       "                   Purpose Has Been Delinquent Credit Problems Bankruptcies  \\\n",
       "count                59025               59025           59025        59025   \n",
       "unique                   7                   2               1            2   \n",
       "top     Debt/MajorPurchase                  No             Yes           No   \n",
       "freq                 46693               31516           59025        52603   \n",
       "\n",
       "       Tax Liens  \n",
       "count      59025  \n",
       "unique         2  \n",
       "top           No  \n",
       "freq       57893  "
      ]
     },
     "execution_count": 285,
     "metadata": {},
     "output_type": "execute_result"
    }
   ],
   "source": [
    "df.describe(include = np.object)"
   ]
  },
  {
   "cell_type": "code",
   "execution_count": 286,
   "id": "d8499774",
   "metadata": {},
   "outputs": [
    {
     "data": {
      "text/plain": [
       "Loan Status                0\n",
       "Current Loan Amount        0\n",
       "Term                       0\n",
       "Credit Score               0\n",
       "Annual Income              0\n",
       "Years Current Job          0\n",
       "Home Ownership             0\n",
       "Purpose                    0\n",
       "Monthly Debt               0\n",
       "Years of Credit History    0\n",
       "Has Been Delinquent        0\n",
       "Number Open Accounts       0\n",
       "Credit Problems            0\n",
       "Current Credit Balance     0\n",
       "Maximum Open Credit        0\n",
       "Bankruptcies               0\n",
       "Tax Liens                  0\n",
       "dtype: int64"
      ]
     },
     "execution_count": 286,
     "metadata": {},
     "output_type": "execute_result"
    }
   ],
   "source": [
    "df.isna().sum()"
   ]
  },
  {
   "cell_type": "markdown",
   "id": "267bcba5",
   "metadata": {},
   "source": [
    "# Outliers"
   ]
  },
  {
   "cell_type": "markdown",
   "id": "bbed86d2",
   "metadata": {},
   "source": [
    "<blockquote>The following list show that 'Annual Income', 'Monthly Debt', 'Current Credit Balance', and 'Maximum Open Credit' all have a maximum value that is significantly higher compared to the second highest values.</blockquote>"
   ]
  },
  {
   "cell_type": "code",
   "execution_count": 287,
   "id": "cb4b1e4a",
   "metadata": {},
   "outputs": [
    {
     "name": "stdout",
     "output_type": "stream",
     "text": [
      "Top 5 Highest Annual Income Values:\n",
      "71456   165557393.000\n",
      "33523    36475440.000\n",
      "9771     30838995.000\n",
      "50652    28095300.000\n",
      "19471    24161540.000\n",
      "Name: Annual Income, dtype: float64 \n",
      "\n",
      "Top 5 Highest Monthly Debt Values:\n",
      "22452   435843.280\n",
      "65464   229057.920\n",
      "14377   205801.350\n",
      "24454   173265.560\n",
      "79730   172156.150\n",
      "Name: Monthly Debt, dtype: float64 \n",
      "\n",
      "Top 5 Highest Current Credit Balance Values:\n",
      "14377    32878968\n",
      "39918    12986956\n",
      "57766    12746397\n",
      "79280    11796435\n",
      "44812    11361924\n",
      "Name: Current Credit Balance, dtype: int64 \n",
      "\n",
      "Top 5 Highest Maximum Open Credit Values:\n",
      "27358   1539737892.000\n",
      "73676    798255370.000\n",
      "8210     489343206.000\n",
      "11838    380052288.000\n",
      "55310    265512874.000\n",
      "Name: Maximum Open Credit, dtype: float64 \n",
      "\n"
     ]
    }
   ],
   "source": [
    "outlier = ['Annual Income', 'Monthly Debt', 'Current Credit Balance', 'Maximum Open Credit']\n",
    "\n",
    "for i in outlier:\n",
    "    print(\"Top 5 Highest\", str(i), \"Values:\")\n",
    "    print(df[i].sort_values(ascending=False).head(5), \"\\n\")"
   ]
  },
  {
   "cell_type": "markdown",
   "id": "99cc66ca",
   "metadata": {},
   "source": [
    "<blockquote>Although it is impossible to determine whether these values are errors due to the lack of information on what their features represent and the lack of indication for currency, they will still be dealt with as they are substantially larger than the other outliers within their respective features.\n",
    "\n",
    "</blockquote>\n",
    "<blockquote>For 'Annual Income', the suspicious observation's 'Purpose' is Debt Consolidation while its 'Home Ownership' is Home Mortgage; both unusual values given that this observation's income is so high. For these reasons, it will be assumed that this observation's 'Annual Income' is an error, and will be removed.</blockquote>"
   ]
  },
  {
   "cell_type": "code",
   "execution_count": 288,
   "id": "3d63c19f",
   "metadata": {},
   "outputs": [
    {
     "data": {
      "text/html": [
       "<div>\n",
       "<style scoped>\n",
       "    .dataframe tbody tr th:only-of-type {\n",
       "        vertical-align: middle;\n",
       "    }\n",
       "\n",
       "    .dataframe tbody tr th {\n",
       "        vertical-align: top;\n",
       "    }\n",
       "\n",
       "    .dataframe thead th {\n",
       "        text-align: right;\n",
       "    }\n",
       "</style>\n",
       "<table border=\"1\" class=\"dataframe\">\n",
       "  <thead>\n",
       "    <tr style=\"text-align: right;\">\n",
       "      <th></th>\n",
       "      <th>Loan Status</th>\n",
       "      <th>Current Loan Amount</th>\n",
       "      <th>Term</th>\n",
       "      <th>Credit Score</th>\n",
       "      <th>Annual Income</th>\n",
       "      <th>Years Current Job</th>\n",
       "      <th>Home Ownership</th>\n",
       "      <th>Purpose</th>\n",
       "      <th>Monthly Debt</th>\n",
       "      <th>Years of Credit History</th>\n",
       "      <th>Has Been Delinquent</th>\n",
       "      <th>Number Open Accounts</th>\n",
       "      <th>Credit Problems</th>\n",
       "      <th>Current Credit Balance</th>\n",
       "      <th>Maximum Open Credit</th>\n",
       "      <th>Bankruptcies</th>\n",
       "      <th>Tax Liens</th>\n",
       "    </tr>\n",
       "  </thead>\n",
       "  <tbody>\n",
       "    <tr>\n",
       "      <th>71456</th>\n",
       "      <td>Charged Off</td>\n",
       "      <td>176132.000</td>\n",
       "      <td>Short Term</td>\n",
       "      <td>725.000</td>\n",
       "      <td>165557393.000</td>\n",
       "      <td>10+ years</td>\n",
       "      <td>Home Mortgage</td>\n",
       "      <td>Debt/MajorPurchase</td>\n",
       "      <td>15176.060</td>\n",
       "      <td>16.000</td>\n",
       "      <td>No</td>\n",
       "      <td>11</td>\n",
       "      <td>Yes</td>\n",
       "      <td>312778</td>\n",
       "      <td>669438.000</td>\n",
       "      <td>No</td>\n",
       "      <td>No</td>\n",
       "    </tr>\n",
       "  </tbody>\n",
       "</table>\n",
       "</div>"
      ],
      "text/plain": [
       "       Loan Status  Current Loan Amount        Term  Credit Score  \\\n",
       "71456  Charged Off           176132.000  Short Term       725.000   \n",
       "\n",
       "       Annual Income Years Current Job Home Ownership             Purpose  \\\n",
       "71456  165557393.000         10+ years  Home Mortgage  Debt/MajorPurchase   \n",
       "\n",
       "       Monthly Debt  Years of Credit History Has Been Delinquent  \\\n",
       "71456     15176.060                   16.000                  No   \n",
       "\n",
       "       Number Open Accounts Credit Problems  Current Credit Balance  \\\n",
       "71456                    11             Yes                  312778   \n",
       "\n",
       "       Maximum Open Credit Bankruptcies Tax Liens  \n",
       "71456           669438.000           No        No  "
      ]
     },
     "execution_count": 288,
     "metadata": {},
     "output_type": "execute_result"
    }
   ],
   "source": [
    "df[df['Annual Income'] == df['Annual Income'].max()]"
   ]
  },
  {
   "cell_type": "code",
   "execution_count": 289,
   "id": "9dba83c7",
   "metadata": {},
   "outputs": [],
   "source": [
    "index = df[df['Annual Income'] == df['Annual Income'].max()].index.values\n",
    "df.drop(index, axis=0, inplace=True)"
   ]
  },
  {
   "cell_type": "markdown",
   "id": "5b985605",
   "metadata": {},
   "source": [
    "<blockquote>The maximum values for 'Maximum Open Credit', 'Monthly Debt' and 'Current Credit Balance' will also be assumed to be errors, and removed.</blockquote>"
   ]
  },
  {
   "cell_type": "code",
   "execution_count": 290,
   "id": "3d02f260",
   "metadata": {},
   "outputs": [],
   "source": [
    "index = df[df['Maximum Open Credit'] == df['Maximum Open Credit'].max()].index.values\n",
    "df.drop(index, axis=0, inplace=True)\n",
    "\n",
    "index = df[df['Monthly Debt'] == df['Monthly Debt'].max()].index.values\n",
    "df.drop(index, axis=0, inplace=True)\n",
    "\n",
    "index = df[df['Current Credit Balance'] == df['Current Credit Balance'].max()].index.values\n",
    "df.drop(index, axis=0, inplace=True)"
   ]
  },
  {
   "cell_type": "code",
   "execution_count": 291,
   "id": "46e2018c",
   "metadata": {},
   "outputs": [
    {
     "data": {
      "text/html": [
       "<div>\n",
       "<style scoped>\n",
       "    .dataframe tbody tr th:only-of-type {\n",
       "        vertical-align: middle;\n",
       "    }\n",
       "\n",
       "    .dataframe tbody tr th {\n",
       "        vertical-align: top;\n",
       "    }\n",
       "\n",
       "    .dataframe thead th {\n",
       "        text-align: right;\n",
       "    }\n",
       "</style>\n",
       "<table border=\"1\" class=\"dataframe\">\n",
       "  <thead>\n",
       "    <tr style=\"text-align: right;\">\n",
       "      <th></th>\n",
       "      <th>Current Loan Amount</th>\n",
       "      <th>Credit Score</th>\n",
       "      <th>Annual Income</th>\n",
       "      <th>Monthly Debt</th>\n",
       "      <th>Years of Credit History</th>\n",
       "      <th>Number Open Accounts</th>\n",
       "      <th>Current Credit Balance</th>\n",
       "      <th>Maximum Open Credit</th>\n",
       "    </tr>\n",
       "  </thead>\n",
       "  <tbody>\n",
       "    <tr>\n",
       "      <th>count</th>\n",
       "      <td>59021.000</td>\n",
       "      <td>59021.000</td>\n",
       "      <td>59021.000</td>\n",
       "      <td>59021.000</td>\n",
       "      <td>59021.000</td>\n",
       "      <td>59021.000</td>\n",
       "      <td>59021.000</td>\n",
       "      <td>59021.000</td>\n",
       "    </tr>\n",
       "    <tr>\n",
       "      <th>mean</th>\n",
       "      <td>311722.334</td>\n",
       "      <td>717.169</td>\n",
       "      <td>1366212.206</td>\n",
       "      <td>18471.198</td>\n",
       "      <td>18.178</td>\n",
       "      <td>11.142</td>\n",
       "      <td>293281.169</td>\n",
       "      <td>726189.605</td>\n",
       "    </tr>\n",
       "    <tr>\n",
       "      <th>std</th>\n",
       "      <td>185213.645</td>\n",
       "      <td>28.535</td>\n",
       "      <td>906033.365</td>\n",
       "      <td>12061.406</td>\n",
       "      <td>7.008</td>\n",
       "      <td>5.010</td>\n",
       "      <td>352833.832</td>\n",
       "      <td>4793114.048</td>\n",
       "    </tr>\n",
       "    <tr>\n",
       "      <th>min</th>\n",
       "      <td>15422.000</td>\n",
       "      <td>585.000</td>\n",
       "      <td>76627.000</td>\n",
       "      <td>0.000</td>\n",
       "      <td>3.700</td>\n",
       "      <td>1.000</td>\n",
       "      <td>0.000</td>\n",
       "      <td>0.000</td>\n",
       "    </tr>\n",
       "    <tr>\n",
       "      <th>25%</th>\n",
       "      <td>172656.000</td>\n",
       "      <td>704.000</td>\n",
       "      <td>844911.000</td>\n",
       "      <td>10242.520</td>\n",
       "      <td>13.500</td>\n",
       "      <td>8.000</td>\n",
       "      <td>113411.000</td>\n",
       "      <td>273900.000</td>\n",
       "    </tr>\n",
       "    <tr>\n",
       "      <th>50%</th>\n",
       "      <td>267256.000</td>\n",
       "      <td>724.000</td>\n",
       "      <td>1165650.000</td>\n",
       "      <td>16241.580</td>\n",
       "      <td>16.900</td>\n",
       "      <td>10.000</td>\n",
       "      <td>210881.000</td>\n",
       "      <td>468050.000</td>\n",
       "    </tr>\n",
       "    <tr>\n",
       "      <th>75%</th>\n",
       "      <td>432256.000</td>\n",
       "      <td>739.000</td>\n",
       "      <td>1640232.000</td>\n",
       "      <td>23996.810</td>\n",
       "      <td>21.700</td>\n",
       "      <td>14.000</td>\n",
       "      <td>367479.000</td>\n",
       "      <td>782826.000</td>\n",
       "    </tr>\n",
       "    <tr>\n",
       "      <th>max</th>\n",
       "      <td>789250.000</td>\n",
       "      <td>751.000</td>\n",
       "      <td>36475440.000</td>\n",
       "      <td>229057.920</td>\n",
       "      <td>70.500</td>\n",
       "      <td>76.000</td>\n",
       "      <td>12986956.000</td>\n",
       "      <td>798255370.000</td>\n",
       "    </tr>\n",
       "  </tbody>\n",
       "</table>\n",
       "</div>"
      ],
      "text/plain": [
       "       Current Loan Amount  Credit Score  Annual Income  Monthly Debt  \\\n",
       "count            59021.000     59021.000      59021.000     59021.000   \n",
       "mean            311722.334       717.169    1366212.206     18471.198   \n",
       "std             185213.645        28.535     906033.365     12061.406   \n",
       "min              15422.000       585.000      76627.000         0.000   \n",
       "25%             172656.000       704.000     844911.000     10242.520   \n",
       "50%             267256.000       724.000    1165650.000     16241.580   \n",
       "75%             432256.000       739.000    1640232.000     23996.810   \n",
       "max             789250.000       751.000   36475440.000    229057.920   \n",
       "\n",
       "       Years of Credit History  Number Open Accounts  Current Credit Balance  \\\n",
       "count                59021.000             59021.000               59021.000   \n",
       "mean                    18.178                11.142              293281.169   \n",
       "std                      7.008                 5.010              352833.832   \n",
       "min                      3.700                 1.000                   0.000   \n",
       "25%                     13.500                 8.000              113411.000   \n",
       "50%                     16.900                10.000              210881.000   \n",
       "75%                     21.700                14.000              367479.000   \n",
       "max                     70.500                76.000            12986956.000   \n",
       "\n",
       "       Maximum Open Credit  \n",
       "count            59021.000  \n",
       "mean            726189.605  \n",
       "std            4793114.048  \n",
       "min                  0.000  \n",
       "25%             273900.000  \n",
       "50%             468050.000  \n",
       "75%             782826.000  \n",
       "max          798255370.000  "
      ]
     },
     "execution_count": 291,
     "metadata": {},
     "output_type": "execute_result"
    }
   ],
   "source": [
    "df.describe(include=np.number)"
   ]
  },
  {
   "cell_type": "markdown",
   "id": "33492cf1",
   "metadata": {},
   "source": [
    "# Target Feature & Data Summary"
   ]
  },
  {
   "cell_type": "markdown",
   "id": "d0238213",
   "metadata": {},
   "source": [
    "<blockquote>Move 'Loan Status' target feature to the last column.</blockquote>\n"
   ]
  },
  {
   "cell_type": "code",
   "execution_count": 292,
   "id": "58d902ed",
   "metadata": {},
   "outputs": [],
   "source": [
    "df = df[[x for x in df.columns if x not in ['Loan Status']] + ['Loan Status']]"
   ]
  },
  {
   "cell_type": "markdown",
   "id": "cb8a2e14",
   "metadata": {},
   "source": [
    "<blockquote>As seen in the below outputs, the cleaned data contains 59,021 rows and 17 features, while the target feature has been moved to the last column. Additionally, the data types for all features are now of the appropriate type.</blockquote>"
   ]
  },
  {
   "cell_type": "code",
   "execution_count": 293,
   "id": "2e157bec",
   "metadata": {},
   "outputs": [
    {
     "data": {
      "text/plain": [
       "(59021, 17)"
      ]
     },
     "execution_count": 293,
     "metadata": {},
     "output_type": "execute_result"
    }
   ],
   "source": [
    "df.shape"
   ]
  },
  {
   "cell_type": "code",
   "execution_count": 294,
   "id": "1298f05f",
   "metadata": {},
   "outputs": [
    {
     "data": {
      "text/html": [
       "<div>\n",
       "<style scoped>\n",
       "    .dataframe tbody tr th:only-of-type {\n",
       "        vertical-align: middle;\n",
       "    }\n",
       "\n",
       "    .dataframe tbody tr th {\n",
       "        vertical-align: top;\n",
       "    }\n",
       "\n",
       "    .dataframe thead th {\n",
       "        text-align: right;\n",
       "    }\n",
       "</style>\n",
       "<table border=\"1\" class=\"dataframe\">\n",
       "  <thead>\n",
       "    <tr style=\"text-align: right;\">\n",
       "      <th></th>\n",
       "      <th>Current Loan Amount</th>\n",
       "      <th>Term</th>\n",
       "      <th>Credit Score</th>\n",
       "      <th>Annual Income</th>\n",
       "      <th>Years Current Job</th>\n",
       "      <th>Home Ownership</th>\n",
       "      <th>Purpose</th>\n",
       "      <th>Monthly Debt</th>\n",
       "      <th>Years of Credit History</th>\n",
       "      <th>Has Been Delinquent</th>\n",
       "      <th>Number Open Accounts</th>\n",
       "      <th>Credit Problems</th>\n",
       "      <th>Current Credit Balance</th>\n",
       "      <th>Maximum Open Credit</th>\n",
       "      <th>Bankruptcies</th>\n",
       "      <th>Tax Liens</th>\n",
       "      <th>Loan Status</th>\n",
       "    </tr>\n",
       "  </thead>\n",
       "  <tbody>\n",
       "    <tr>\n",
       "      <th>0</th>\n",
       "      <td>445412.000</td>\n",
       "      <td>Short Term</td>\n",
       "      <td>709.000</td>\n",
       "      <td>1167493.000</td>\n",
       "      <td>8 years</td>\n",
       "      <td>Home Mortgage</td>\n",
       "      <td>HomeImprove/Wedding</td>\n",
       "      <td>5214.740</td>\n",
       "      <td>17.200</td>\n",
       "      <td>No</td>\n",
       "      <td>6</td>\n",
       "      <td>Yes</td>\n",
       "      <td>228190</td>\n",
       "      <td>416746.000</td>\n",
       "      <td>Yes</td>\n",
       "      <td>No</td>\n",
       "      <td>Fully Paid</td>\n",
       "    </tr>\n",
       "    <tr>\n",
       "      <th>3</th>\n",
       "      <td>347666.000</td>\n",
       "      <td>Long Term</td>\n",
       "      <td>721.000</td>\n",
       "      <td>806949.000</td>\n",
       "      <td>3 years</td>\n",
       "      <td>Own Home</td>\n",
       "      <td>Debt/MajorPurchase</td>\n",
       "      <td>8741.900</td>\n",
       "      <td>12.000</td>\n",
       "      <td>No</td>\n",
       "      <td>9</td>\n",
       "      <td>Yes</td>\n",
       "      <td>256329</td>\n",
       "      <td>386958.000</td>\n",
       "      <td>No</td>\n",
       "      <td>No</td>\n",
       "      <td>Fully Paid</td>\n",
       "    </tr>\n",
       "    <tr>\n",
       "      <th>4</th>\n",
       "      <td>206602.000</td>\n",
       "      <td>Short Term</td>\n",
       "      <td>729.000</td>\n",
       "      <td>896857.000</td>\n",
       "      <td>10+ years</td>\n",
       "      <td>Home Mortgage</td>\n",
       "      <td>Debt/MajorPurchase</td>\n",
       "      <td>16367.740</td>\n",
       "      <td>17.300</td>\n",
       "      <td>No</td>\n",
       "      <td>6</td>\n",
       "      <td>Yes</td>\n",
       "      <td>215308</td>\n",
       "      <td>272448.000</td>\n",
       "      <td>No</td>\n",
       "      <td>No</td>\n",
       "      <td>Charged Off</td>\n",
       "    </tr>\n",
       "    <tr>\n",
       "      <th>5</th>\n",
       "      <td>217646.000</td>\n",
       "      <td>Short Term</td>\n",
       "      <td>730.000</td>\n",
       "      <td>1184194.000</td>\n",
       "      <td>&lt; 1 year</td>\n",
       "      <td>Home Mortgage</td>\n",
       "      <td>Debt/MajorPurchase</td>\n",
       "      <td>10855.080</td>\n",
       "      <td>19.600</td>\n",
       "      <td>Yes</td>\n",
       "      <td>13</td>\n",
       "      <td>Yes</td>\n",
       "      <td>122170</td>\n",
       "      <td>272052.000</td>\n",
       "      <td>Yes</td>\n",
       "      <td>No</td>\n",
       "      <td>Fully Paid</td>\n",
       "    </tr>\n",
       "    <tr>\n",
       "      <th>7</th>\n",
       "      <td>548746.000</td>\n",
       "      <td>Short Term</td>\n",
       "      <td>678.000</td>\n",
       "      <td>2559110.000</td>\n",
       "      <td>2 years</td>\n",
       "      <td>Rent</td>\n",
       "      <td>Debt/MajorPurchase</td>\n",
       "      <td>18660.280</td>\n",
       "      <td>22.600</td>\n",
       "      <td>Yes</td>\n",
       "      <td>4</td>\n",
       "      <td>Yes</td>\n",
       "      <td>437171</td>\n",
       "      <td>555038.000</td>\n",
       "      <td>No</td>\n",
       "      <td>No</td>\n",
       "      <td>Fully Paid</td>\n",
       "    </tr>\n",
       "  </tbody>\n",
       "</table>\n",
       "</div>"
      ],
      "text/plain": [
       "   Current Loan Amount        Term  Credit Score  Annual Income  \\\n",
       "0           445412.000  Short Term       709.000    1167493.000   \n",
       "3           347666.000   Long Term       721.000     806949.000   \n",
       "4           206602.000  Short Term       729.000     896857.000   \n",
       "5           217646.000  Short Term       730.000    1184194.000   \n",
       "7           548746.000  Short Term       678.000    2559110.000   \n",
       "\n",
       "  Years Current Job Home Ownership              Purpose  Monthly Debt  \\\n",
       "0           8 years  Home Mortgage  HomeImprove/Wedding      5214.740   \n",
       "3           3 years       Own Home   Debt/MajorPurchase      8741.900   \n",
       "4         10+ years  Home Mortgage   Debt/MajorPurchase     16367.740   \n",
       "5          < 1 year  Home Mortgage   Debt/MajorPurchase     10855.080   \n",
       "7           2 years           Rent   Debt/MajorPurchase     18660.280   \n",
       "\n",
       "   Years of Credit History Has Been Delinquent  Number Open Accounts  \\\n",
       "0                   17.200                  No                     6   \n",
       "3                   12.000                  No                     9   \n",
       "4                   17.300                  No                     6   \n",
       "5                   19.600                 Yes                    13   \n",
       "7                   22.600                 Yes                     4   \n",
       "\n",
       "  Credit Problems  Current Credit Balance  Maximum Open Credit Bankruptcies  \\\n",
       "0             Yes                  228190           416746.000          Yes   \n",
       "3             Yes                  256329           386958.000           No   \n",
       "4             Yes                  215308           272448.000           No   \n",
       "5             Yes                  122170           272052.000          Yes   \n",
       "7             Yes                  437171           555038.000           No   \n",
       "\n",
       "  Tax Liens  Loan Status  \n",
       "0        No   Fully Paid  \n",
       "3        No   Fully Paid  \n",
       "4        No  Charged Off  \n",
       "5        No   Fully Paid  \n",
       "7        No   Fully Paid  "
      ]
     },
     "execution_count": 294,
     "metadata": {},
     "output_type": "execute_result"
    }
   ],
   "source": [
    "df.head(5)"
   ]
  },
  {
   "cell_type": "code",
   "execution_count": 295,
   "id": "abf1c606",
   "metadata": {},
   "outputs": [
    {
     "data": {
      "text/plain": [
       "Current Loan Amount        float64\n",
       "Term                        object\n",
       "Credit Score               float64\n",
       "Annual Income              float64\n",
       "Years Current Job           object\n",
       "Home Ownership              object\n",
       "Purpose                     object\n",
       "Monthly Debt               float64\n",
       "Years of Credit History    float64\n",
       "Has Been Delinquent         object\n",
       "Number Open Accounts         int64\n",
       "Credit Problems             object\n",
       "Current Credit Balance       int64\n",
       "Maximum Open Credit        float64\n",
       "Bankruptcies                object\n",
       "Tax Liens                   object\n",
       "Loan Status                 object\n",
       "dtype: object"
      ]
     },
     "execution_count": 295,
     "metadata": {},
     "output_type": "execute_result"
    }
   ],
   "source": [
    "df.dtypes"
   ]
  },
  {
   "cell_type": "code",
   "execution_count": 296,
   "id": "8a00ffc5",
   "metadata": {},
   "outputs": [
    {
     "data": {
      "text/html": [
       "<div>\n",
       "<style scoped>\n",
       "    .dataframe tbody tr th:only-of-type {\n",
       "        vertical-align: middle;\n",
       "    }\n",
       "\n",
       "    .dataframe tbody tr th {\n",
       "        vertical-align: top;\n",
       "    }\n",
       "\n",
       "    .dataframe thead th {\n",
       "        text-align: right;\n",
       "    }\n",
       "</style>\n",
       "<table border=\"1\" class=\"dataframe\">\n",
       "  <thead>\n",
       "    <tr style=\"text-align: right;\">\n",
       "      <th></th>\n",
       "      <th>Current Loan Amount</th>\n",
       "      <th>Term</th>\n",
       "      <th>Credit Score</th>\n",
       "      <th>Annual Income</th>\n",
       "      <th>Years Current Job</th>\n",
       "      <th>Home Ownership</th>\n",
       "      <th>Purpose</th>\n",
       "      <th>Monthly Debt</th>\n",
       "      <th>Years of Credit History</th>\n",
       "      <th>Has Been Delinquent</th>\n",
       "      <th>Number Open Accounts</th>\n",
       "      <th>Credit Problems</th>\n",
       "      <th>Current Credit Balance</th>\n",
       "      <th>Maximum Open Credit</th>\n",
       "      <th>Bankruptcies</th>\n",
       "      <th>Tax Liens</th>\n",
       "      <th>Loan Status</th>\n",
       "    </tr>\n",
       "  </thead>\n",
       "  <tbody>\n",
       "    <tr>\n",
       "      <th>count</th>\n",
       "      <td>59021.000</td>\n",
       "      <td>59021</td>\n",
       "      <td>59021.000</td>\n",
       "      <td>59021.000</td>\n",
       "      <td>59021</td>\n",
       "      <td>59021</td>\n",
       "      <td>59021</td>\n",
       "      <td>59021.000</td>\n",
       "      <td>59021.000</td>\n",
       "      <td>59021</td>\n",
       "      <td>59021.000</td>\n",
       "      <td>59021</td>\n",
       "      <td>59021.000</td>\n",
       "      <td>59021.000</td>\n",
       "      <td>59021</td>\n",
       "      <td>59021</td>\n",
       "      <td>59021</td>\n",
       "    </tr>\n",
       "    <tr>\n",
       "      <th>unique</th>\n",
       "      <td>NaN</td>\n",
       "      <td>2</td>\n",
       "      <td>NaN</td>\n",
       "      <td>NaN</td>\n",
       "      <td>12</td>\n",
       "      <td>3</td>\n",
       "      <td>7</td>\n",
       "      <td>NaN</td>\n",
       "      <td>NaN</td>\n",
       "      <td>2</td>\n",
       "      <td>NaN</td>\n",
       "      <td>1</td>\n",
       "      <td>NaN</td>\n",
       "      <td>NaN</td>\n",
       "      <td>2</td>\n",
       "      <td>2</td>\n",
       "      <td>2</td>\n",
       "    </tr>\n",
       "    <tr>\n",
       "      <th>top</th>\n",
       "      <td>NaN</td>\n",
       "      <td>Short Term</td>\n",
       "      <td>NaN</td>\n",
       "      <td>NaN</td>\n",
       "      <td>10+ years</td>\n",
       "      <td>Home Mortgage</td>\n",
       "      <td>Debt/MajorPurchase</td>\n",
       "      <td>NaN</td>\n",
       "      <td>NaN</td>\n",
       "      <td>No</td>\n",
       "      <td>NaN</td>\n",
       "      <td>Yes</td>\n",
       "      <td>NaN</td>\n",
       "      <td>NaN</td>\n",
       "      <td>No</td>\n",
       "      <td>No</td>\n",
       "      <td>Fully Paid</td>\n",
       "    </tr>\n",
       "    <tr>\n",
       "      <th>freq</th>\n",
       "      <td>NaN</td>\n",
       "      <td>42264</td>\n",
       "      <td>NaN</td>\n",
       "      <td>NaN</td>\n",
       "      <td>18359</td>\n",
       "      <td>28587</td>\n",
       "      <td>46690</td>\n",
       "      <td>NaN</td>\n",
       "      <td>NaN</td>\n",
       "      <td>31512</td>\n",
       "      <td>NaN</td>\n",
       "      <td>59021</td>\n",
       "      <td>NaN</td>\n",
       "      <td>NaN</td>\n",
       "      <td>52599</td>\n",
       "      <td>57889</td>\n",
       "      <td>41853</td>\n",
       "    </tr>\n",
       "    <tr>\n",
       "      <th>mean</th>\n",
       "      <td>311722.334</td>\n",
       "      <td>NaN</td>\n",
       "      <td>717.169</td>\n",
       "      <td>1366212.206</td>\n",
       "      <td>NaN</td>\n",
       "      <td>NaN</td>\n",
       "      <td>NaN</td>\n",
       "      <td>18471.198</td>\n",
       "      <td>18.178</td>\n",
       "      <td>NaN</td>\n",
       "      <td>11.142</td>\n",
       "      <td>NaN</td>\n",
       "      <td>293281.169</td>\n",
       "      <td>726189.605</td>\n",
       "      <td>NaN</td>\n",
       "      <td>NaN</td>\n",
       "      <td>NaN</td>\n",
       "    </tr>\n",
       "    <tr>\n",
       "      <th>std</th>\n",
       "      <td>185213.645</td>\n",
       "      <td>NaN</td>\n",
       "      <td>28.535</td>\n",
       "      <td>906033.365</td>\n",
       "      <td>NaN</td>\n",
       "      <td>NaN</td>\n",
       "      <td>NaN</td>\n",
       "      <td>12061.406</td>\n",
       "      <td>7.008</td>\n",
       "      <td>NaN</td>\n",
       "      <td>5.010</td>\n",
       "      <td>NaN</td>\n",
       "      <td>352833.832</td>\n",
       "      <td>4793114.048</td>\n",
       "      <td>NaN</td>\n",
       "      <td>NaN</td>\n",
       "      <td>NaN</td>\n",
       "    </tr>\n",
       "    <tr>\n",
       "      <th>min</th>\n",
       "      <td>15422.000</td>\n",
       "      <td>NaN</td>\n",
       "      <td>585.000</td>\n",
       "      <td>76627.000</td>\n",
       "      <td>NaN</td>\n",
       "      <td>NaN</td>\n",
       "      <td>NaN</td>\n",
       "      <td>0.000</td>\n",
       "      <td>3.700</td>\n",
       "      <td>NaN</td>\n",
       "      <td>1.000</td>\n",
       "      <td>NaN</td>\n",
       "      <td>0.000</td>\n",
       "      <td>0.000</td>\n",
       "      <td>NaN</td>\n",
       "      <td>NaN</td>\n",
       "      <td>NaN</td>\n",
       "    </tr>\n",
       "    <tr>\n",
       "      <th>25%</th>\n",
       "      <td>172656.000</td>\n",
       "      <td>NaN</td>\n",
       "      <td>704.000</td>\n",
       "      <td>844911.000</td>\n",
       "      <td>NaN</td>\n",
       "      <td>NaN</td>\n",
       "      <td>NaN</td>\n",
       "      <td>10242.520</td>\n",
       "      <td>13.500</td>\n",
       "      <td>NaN</td>\n",
       "      <td>8.000</td>\n",
       "      <td>NaN</td>\n",
       "      <td>113411.000</td>\n",
       "      <td>273900.000</td>\n",
       "      <td>NaN</td>\n",
       "      <td>NaN</td>\n",
       "      <td>NaN</td>\n",
       "    </tr>\n",
       "    <tr>\n",
       "      <th>50%</th>\n",
       "      <td>267256.000</td>\n",
       "      <td>NaN</td>\n",
       "      <td>724.000</td>\n",
       "      <td>1165650.000</td>\n",
       "      <td>NaN</td>\n",
       "      <td>NaN</td>\n",
       "      <td>NaN</td>\n",
       "      <td>16241.580</td>\n",
       "      <td>16.900</td>\n",
       "      <td>NaN</td>\n",
       "      <td>10.000</td>\n",
       "      <td>NaN</td>\n",
       "      <td>210881.000</td>\n",
       "      <td>468050.000</td>\n",
       "      <td>NaN</td>\n",
       "      <td>NaN</td>\n",
       "      <td>NaN</td>\n",
       "    </tr>\n",
       "    <tr>\n",
       "      <th>75%</th>\n",
       "      <td>432256.000</td>\n",
       "      <td>NaN</td>\n",
       "      <td>739.000</td>\n",
       "      <td>1640232.000</td>\n",
       "      <td>NaN</td>\n",
       "      <td>NaN</td>\n",
       "      <td>NaN</td>\n",
       "      <td>23996.810</td>\n",
       "      <td>21.700</td>\n",
       "      <td>NaN</td>\n",
       "      <td>14.000</td>\n",
       "      <td>NaN</td>\n",
       "      <td>367479.000</td>\n",
       "      <td>782826.000</td>\n",
       "      <td>NaN</td>\n",
       "      <td>NaN</td>\n",
       "      <td>NaN</td>\n",
       "    </tr>\n",
       "    <tr>\n",
       "      <th>max</th>\n",
       "      <td>789250.000</td>\n",
       "      <td>NaN</td>\n",
       "      <td>751.000</td>\n",
       "      <td>36475440.000</td>\n",
       "      <td>NaN</td>\n",
       "      <td>NaN</td>\n",
       "      <td>NaN</td>\n",
       "      <td>229057.920</td>\n",
       "      <td>70.500</td>\n",
       "      <td>NaN</td>\n",
       "      <td>76.000</td>\n",
       "      <td>NaN</td>\n",
       "      <td>12986956.000</td>\n",
       "      <td>798255370.000</td>\n",
       "      <td>NaN</td>\n",
       "      <td>NaN</td>\n",
       "      <td>NaN</td>\n",
       "    </tr>\n",
       "  </tbody>\n",
       "</table>\n",
       "</div>"
      ],
      "text/plain": [
       "        Current Loan Amount        Term  Credit Score  Annual Income  \\\n",
       "count             59021.000       59021     59021.000      59021.000   \n",
       "unique                  NaN           2           NaN            NaN   \n",
       "top                     NaN  Short Term           NaN            NaN   \n",
       "freq                    NaN       42264           NaN            NaN   \n",
       "mean             311722.334         NaN       717.169    1366212.206   \n",
       "std              185213.645         NaN        28.535     906033.365   \n",
       "min               15422.000         NaN       585.000      76627.000   \n",
       "25%              172656.000         NaN       704.000     844911.000   \n",
       "50%              267256.000         NaN       724.000    1165650.000   \n",
       "75%              432256.000         NaN       739.000    1640232.000   \n",
       "max              789250.000         NaN       751.000   36475440.000   \n",
       "\n",
       "       Years Current Job Home Ownership             Purpose  Monthly Debt  \\\n",
       "count              59021          59021               59021     59021.000   \n",
       "unique                12              3                   7           NaN   \n",
       "top            10+ years  Home Mortgage  Debt/MajorPurchase           NaN   \n",
       "freq               18359          28587               46690           NaN   \n",
       "mean                 NaN            NaN                 NaN     18471.198   \n",
       "std                  NaN            NaN                 NaN     12061.406   \n",
       "min                  NaN            NaN                 NaN         0.000   \n",
       "25%                  NaN            NaN                 NaN     10242.520   \n",
       "50%                  NaN            NaN                 NaN     16241.580   \n",
       "75%                  NaN            NaN                 NaN     23996.810   \n",
       "max                  NaN            NaN                 NaN    229057.920   \n",
       "\n",
       "        Years of Credit History Has Been Delinquent  Number Open Accounts  \\\n",
       "count                 59021.000               59021             59021.000   \n",
       "unique                      NaN                   2                   NaN   \n",
       "top                         NaN                  No                   NaN   \n",
       "freq                        NaN               31512                   NaN   \n",
       "mean                     18.178                 NaN                11.142   \n",
       "std                       7.008                 NaN                 5.010   \n",
       "min                       3.700                 NaN                 1.000   \n",
       "25%                      13.500                 NaN                 8.000   \n",
       "50%                      16.900                 NaN                10.000   \n",
       "75%                      21.700                 NaN                14.000   \n",
       "max                      70.500                 NaN                76.000   \n",
       "\n",
       "       Credit Problems  Current Credit Balance  Maximum Open Credit  \\\n",
       "count            59021               59021.000            59021.000   \n",
       "unique               1                     NaN                  NaN   \n",
       "top                Yes                     NaN                  NaN   \n",
       "freq             59021                     NaN                  NaN   \n",
       "mean               NaN              293281.169           726189.605   \n",
       "std                NaN              352833.832          4793114.048   \n",
       "min                NaN                   0.000                0.000   \n",
       "25%                NaN              113411.000           273900.000   \n",
       "50%                NaN              210881.000           468050.000   \n",
       "75%                NaN              367479.000           782826.000   \n",
       "max                NaN            12986956.000        798255370.000   \n",
       "\n",
       "       Bankruptcies Tax Liens Loan Status  \n",
       "count         59021     59021       59021  \n",
       "unique            2         2           2  \n",
       "top              No        No  Fully Paid  \n",
       "freq          52599     57889       41853  \n",
       "mean            NaN       NaN         NaN  \n",
       "std             NaN       NaN         NaN  \n",
       "min             NaN       NaN         NaN  \n",
       "25%             NaN       NaN         NaN  \n",
       "50%             NaN       NaN         NaN  \n",
       "75%             NaN       NaN         NaN  \n",
       "max             NaN       NaN         NaN  "
      ]
     },
     "execution_count": 296,
     "metadata": {},
     "output_type": "execute_result"
    }
   ],
   "source": [
    "df.describe(include='all')"
   ]
  },
  {
   "cell_type": "markdown",
   "id": "90ac73f0",
   "metadata": {},
   "source": [
    "# Data Exploration"
   ]
  },
  {
   "cell_type": "markdown",
   "id": "74f43a0d",
   "metadata": {},
   "source": [
    "## Distribution Of Continuous Features"
   ]
  },
  {
   "cell_type": "markdown",
   "id": "74b81ee0",
   "metadata": {},
   "source": [
    "<blockquote>Looking at the distributions of the continuous features, most are not normally distributed, especially 'Maximum Open Credit' and 'Current Credit Balance'. As mentioned in the preprocessing section, although these features have extreme values, it is unclear what they actually represent due to the lack of definition and was decided to be left alone. These histograms indicate that when performing Naive Bayes classification later, these features will need to be transformed to achieve normality.</blockquote>"
   ]
  },
  {
   "cell_type": "code",
   "execution_count": 297,
   "id": "6013eae2",
   "metadata": {},
   "outputs": [
    {
     "data": {
      "image/png": "[encoded data removed]",
      "text/plain": [
       "<Figure size 432x288 with 1 Axes>"
      ]
     },
     "metadata": {
      "needs_background": "light"
     },
     "output_type": "display_data"
    },
    {
     "data": {
      "image/png": "[encoded data removed]",
      "text/plain": [
       "<Figure size 432x288 with 1 Axes>"
      ]
     },
     "metadata": {
      "needs_background": "light"
     },
     "output_type": "display_data"
    },
    {
     "data": {
      "image/png": "[encoded data removed]",
      "text/plain": [
       "<Figure size 432x288 with 1 Axes>"
      ]
     },
     "metadata": {
      "needs_background": "light"
     },
     "output_type": "display_data"
    },
    {
     "data": {
      "image/png": "[encoded data removed]",
      "text/plain": [
       "<Figure size 432x288 with 1 Axes>"
      ]
     },
     "metadata": {
      "needs_background": "light"
     },
     "output_type": "display_data"
    },
    {
     "data": {
      "image/png": "[encoded data removed]",
      "text/plain": [
       "<Figure size 432x288 with 1 Axes>"
      ]
     },
     "metadata": {
      "needs_background": "light"
     },
     "output_type": "display_data"
    },
    {
     "data": {
      "image/png": "[encoded data removed]",
      "text/plain": [
       "<Figure size 432x288 with 1 Axes>"
      ]
     },
     "metadata": {
      "needs_background": "light"
     },
     "output_type": "display_data"
    },
    {
     "data": {
      "image/png": "[encoded data removed]",
      "text/plain": [
       "<Figure size 432x288 with 1 Axes>"
      ]
     },
     "metadata": {
      "needs_background": "light"
     },
     "output_type": "display_data"
    },
    {
     "data": {
      "image/png": "[encoded data removed]",
      "text/plain": [
       "<Figure size 432x288 with 1 Axes>"
      ]
     },
     "metadata": {
      "needs_background": "light"
     },
     "output_type": "display_data"
    }
   ],
   "source": [
    "numeric = ['Current Loan Amount', 'Credit Score', 'Annual Income', 'Monthly Debt', 'Years of Credit History', \n",
    "           'Number Open Accounts', 'Current Credit Balance', 'Maximum Open Credit']\n",
    "\n",
    "for items in numeric:\n",
    "    df[items].plot(kind='hist', bins=50)\n",
    "    plt.title('Histogram - {}'.format(items))\n",
    "    plt.xlabel ('{}'.format(items))\n",
    "    plt.axvline(df[items].mean(), color='k', linestyle='dashed', linewidth=1.5)\n",
    "    plt.show()"
   ]
  },
  {
   "cell_type": "markdown",
   "id": "53a0ed04",
   "metadata": {},
   "source": [
    "# Correlation Between Continuous Features"
   ]
  },
  {
   "cell_type": "markdown",
   "id": "ad94d524",
   "metadata": {},
   "source": [
    "<blockquote>Looking at the correlations between the continuous features, there doesn't seem to be any strongly correlated features, with the highest correlation being 0.56 between 'Monthly Debt' and 'Annual Income', hence multi-collinearity shouldn't be a big issue.<blockquote>"
   ]
  },
  {
   "cell_type": "code",
   "execution_count": 298,
   "id": "e14750b9",
   "metadata": {},
   "outputs": [
    {
     "data": {
      "text/plain": [
       "Text(0.5, 1.0, 'Heatmap of Correlations Between Continuous Features')"
      ]
     },
     "execution_count": 298,
     "metadata": {},
     "output_type": "execute_result"
    },
    {
     "data": {
      "image/png": "[encoded data removed]",
      "text/plain": [
       "<Figure size 432x288 with 2 Axes>"
      ]
     },
     "metadata": {
      "needs_background": "light"
     },
     "output_type": "display_data"
    }
   ],
   "source": [
    "sns.heatmap(df[numeric].corr(),annot=True)\n",
    "plt.title('Heatmap of Correlations Between Continuous Features')"
   ]
  },
  {
   "cell_type": "markdown",
   "id": "0701218e",
   "metadata": {},
   "source": [
    "# Credit Score By Loan Status"
   ]
  },
  {
   "cell_type": "markdown",
   "id": "92af169f",
   "metadata": {},
   "source": [
    "<blockquote>When comparing credit score by loan status, fully paid borrowers on average have a higher credit score compared to borrowers who were charged off.</blockquote>"
   ]
  },
  {
   "cell_type": "code",
   "execution_count": 299,
   "id": "cce955c8",
   "metadata": {},
   "outputs": [
    {
     "data": {
      "image/png": "[encoded data removed]",
      "text/plain": [
       "<Figure size 360x360 with 1 Axes>"
      ]
     },
     "metadata": {
      "needs_background": "light"
     },
     "output_type": "display_data"
    }
   ],
   "source": [
    "sns.catplot(x='Loan Status', y='Credit Score', kind='box', data=df)\n",
    "plt.title('Loan Status by Credit Score')\n",
    "plt.show()"
   ]
  },
  {
   "cell_type": "markdown",
   "id": "1f945b04",
   "metadata": {},
   "source": [
    "<blockquote>This is broken down further to include home ownership status. The boxplots below indicate that borrowers with mortgages tend to have the highest credit score for both fully paid and charged off. Additionally, home owners and renters had similar credit scores when fully paid, while renters had the lowest credit score when charged off.</blockquote>"
   ]
  },
  {
   "cell_type": "code",
   "execution_count": 300,
   "id": "1312899b",
   "metadata": {},
   "outputs": [
    {
     "data": {
      "image/png": "[encoded data removed]",
      "text/plain": [
       "<Figure size 476x360 with 1 Axes>"
      ]
     },
     "metadata": {
      "needs_background": "light"
     },
     "output_type": "display_data"
    }
   ],
   "source": [
    "sns.catplot(x='Loan Status',y='Credit Score',hue='Home Ownership',kind='box',data=df)\n",
    "plt.title('Credit Score by Loan Status and Home Ownership', fontsize = 15)\n",
    "plt.show()"
   ]
  },
  {
   "cell_type": "markdown",
   "id": "47653556",
   "metadata": {},
   "source": [
    "# Current Loan Amount By Loan Status"
   ]
  },
  {
   "cell_type": "markdown",
   "id": "13d44428",
   "metadata": {},
   "source": [
    "<blockquote>When comparing loan amount by loan status, fully paid borrowers on average have a lower loan amount compared to borrowers who have a high loan amount.</blockquote>"
   ]
  },
  {
   "cell_type": "code",
   "execution_count": 301,
   "id": "1c0d4edd",
   "metadata": {},
   "outputs": [
    {
     "data": {
      "image/png": "[encoded data removed]",
      "text/plain": [
       "<Figure size 360x360 with 1 Axes>"
      ]
     },
     "metadata": {
      "needs_background": "light"
     },
     "output_type": "display_data"
    }
   ],
   "source": [
    "sns.catplot(x='Loan Status', y='Current Loan Amount', kind='box', data=df)\n",
    "plt.title('Current Loan Amount by Loan Status')\n",
    "plt.show()"
   ]
  },
  {
   "cell_type": "markdown",
   "id": "fed3c30a",
   "metadata": {},
   "source": [
    "<blockquote>Dividing the plot further with credit problems show that borrowers with credit problems tend to have a lower loan amount for both fully paid and charged off, which makes sense as credit problems would generally lead to more restrictions on borrowing.</blockquote>"
   ]
  },
  {
   "cell_type": "code",
   "execution_count": 302,
   "id": "d78e1693",
   "metadata": {},
   "outputs": [
    {
     "data": {
      "image/png": "[encoded data removed]",
      "text/plain": [
       "<Figure size 447x360 with 1 Axes>"
      ]
     },
     "metadata": {
      "needs_background": "light"
     },
     "output_type": "display_data"
    }
   ],
   "source": [
    "sns.catplot(x='Loan Status', y='Current Loan Amount', hue='Credit Problems', kind='box', data=df)\n",
    "plt.title('Current Loan Amount by Loan Status and Credit Problems')\n",
    "plt.show()"
   ]
  },
  {
   "cell_type": "markdown",
   "id": "cfc55c6a",
   "metadata": {},
   "source": [
    "# Years Of Credit History By Loan Status"
   ]
  },
  {
   "cell_type": "markdown",
   "id": "6cf62924",
   "metadata": {},
   "source": [
    "<blockquote>When comparing years of credit history by loan status, there doesn't seem to be a major difference in averages. However, charged off borrowers do have slightly less years of credit history compared to fully paid borrowers.</blockquote>"
   ]
  },
  {
   "cell_type": "code",
   "execution_count": 303,
   "id": "7a1180f7",
   "metadata": {},
   "outputs": [
    {
     "data": {
      "image/png": "[encoded data removed]",
      "text/plain": [
       "<Figure size 360x360 with 1 Axes>"
      ]
     },
     "metadata": {
      "needs_background": "light"
     },
     "output_type": "display_data"
    }
   ],
   "source": [
    "sns.catplot(x='Loan Status', y='Years of Credit History', kind='box', data=df)\n",
    "plt.title('Years Of Credit History by Loan Status')\n",
    "plt.show()"
   ]
  },
  {
   "cell_type": "markdown",
   "id": "2f4521d9",
   "metadata": {},
   "source": [
    "<blockquote>When dividing this further by the number of years in current job, it can be seen that 10+ years tend to have longer years of credit history for both charged off and fully paid, which makes sense given that the longer someone works, the older they probably are. What's interesting however, is that Not Applicable has the highest mean of credit history years.<blockquote>"
   ]
  },
  {
   "cell_type": "code",
   "execution_count": 304,
   "id": "5b70c9df",
   "metadata": {},
   "outputs": [
    {
     "data": {
      "image/png": "[encoded data removed]",
      "text/plain": [
       "<Figure size 648.5x360 with 1 Axes>"
      ]
     },
     "metadata": {
      "needs_background": "light"
     },
     "output_type": "display_data"
    }
   ],
   "source": [
    "sns.catplot(x='Loan Status', y='Years of Credit History', hue='Years Current Job', kind='box', data=df,\n",
    "            orient=\"v\", height=5, aspect=1.5)\n",
    "plt.title('Years Of Credit History by Loan Status')\n",
    "plt.show()"
   ]
  },
  {
   "cell_type": "markdown",
   "id": "fa8a334a",
   "metadata": {},
   "source": [
    "# Monthly Debt by Loan Status and Home Ownership"
   ]
  },
  {
   "cell_type": "markdown",
   "id": "f587c53a",
   "metadata": {},
   "source": [
    "<blockquote>When comparing monthly debt by loan status and home ownership, it can be seen that charged off has slightly higher means of monthly debt for all home ownership statuses. For both charged off and fully paid, Home Mortgage has the highest mean for monthly debt, while Rent has the lowest.</blockquote>"
   ]
  },
  {
   "cell_type": "code",
   "execution_count": 305,
   "id": "736b2ca0",
   "metadata": {},
   "outputs": [
    {
     "data": {
      "image/png": "[encoded data removed]",
      "text/plain": [
       "<Figure size 872x216 with 1 Axes>"
      ]
     },
     "metadata": {
      "needs_background": "light"
     },
     "output_type": "display_data"
    }
   ],
   "source": [
    "sns.catplot(x='Monthly Debt', y='Loan Status', hue='Home Ownership', kind='box', data=df, \n",
    "            orient=\"h\", height=3, aspect=3.5)\n",
    "plt.title('Monthly Debt by Loan Status')\n",
    "plt.show()"
   ]
  },
  {
   "cell_type": "markdown",
   "id": "ef699b37",
   "metadata": {},
   "source": [
    "# oan Term by Loan Status"
   ]
  },
  {
   "cell_type": "markdown",
   "id": "4d9ae0f0",
   "metadata": {},
   "source": [
    "<blockquote>When comparing loan status and loan term, it seems that there is a higher proportion of long term loans for those who have been charged off compared to those that fully paid. This suggests that borrowers tend to not meet their loan obligations when the repayment period is longer (which usually means a larger loan).</blockquote>"
   ]
  },
  {
   "cell_type": "code",
   "execution_count": 306,
   "id": "db8bb5bf",
   "metadata": {},
   "outputs": [
    {
     "data": {
      "image/png": "[encoded data removed]",
      "text/plain": [
       "<Figure size 449.75x360 with 1 Axes>"
      ]
     },
     "metadata": {
      "needs_background": "light"
     },
     "output_type": "display_data"
    }
   ],
   "source": [
    "x,y = 'Loan Status', 'Term'\n",
    "\n",
    "(df\n",
    ".groupby(x)[y]\n",
    ".value_counts(normalize=True)\n",
    ".mul(100)\n",
    " .rename('percent')\n",
    " .reset_index()\n",
    " .pipe((sns.catplot,'data'), x=x, y='percent', hue=y, kind='bar')).set(ylim = (0, 100))\n",
    "plt.title('Loan Term by Loan Status')\n",
    "plt.show()"
   ]
  },
  {
   "cell_type": "markdown",
   "id": "491bfcdc",
   "metadata": {},
   "source": [
    "# Data Encoding"
   ]
  },
  {
   "cell_type": "markdown",
   "id": "28e5e311",
   "metadata": {},
   "source": [
    "<blockquote>The df dataset will be split between the descriptive feature (data) and the target feature (target).</blockquote>"
   ]
  },
  {
   "cell_type": "code",
   "execution_count": 307,
   "id": "db69b9f6",
   "metadata": {},
   "outputs": [
    {
     "name": "stdout",
     "output_type": "stream",
     "text": [
      "data shape: (59021, 16)\n",
      "target shape: (59021,)\n"
     ]
    }
   ],
   "source": [
    "data = df.drop(columns='Loan Status')\n",
    "target = df['Loan Status']\n",
    "\n",
    "print(\"data shape:\", data.shape)\n",
    "print(\"target shape:\", target.shape)"
   ]
  },
  {
   "cell_type": "markdown",
   "id": "24e39e67",
   "metadata": {},
   "source": [
    "# Target Feature"
   ]
  },
  {
   "cell_type": "markdown",
   "id": "ca86d73e",
   "metadata": {},
   "source": [
    "<blockquote>The target feature will be encoded with the 'Charged Off' level being 0 and the 'Fully Paid' level being 1. Note that the target feature's classes are imbalanced.</blockquote>"
   ]
  },
  {
   "cell_type": "code",
   "execution_count": 308,
   "id": "e45a2fd4",
   "metadata": {},
   "outputs": [
    {
     "data": {
      "text/plain": [
       "1    41853\n",
       "0    17168\n",
       "Name: Loan Status, dtype: int64"
      ]
     },
     "execution_count": 308,
     "metadata": {},
     "output_type": "execute_result"
    }
   ],
   "source": [
    "target = target.replace({'Charged Off': 0, 'Fully Paid': 1})\n",
    "target.value_counts()"
   ]
  },
  {
   "cell_type": "markdown",
   "id": "a742c205",
   "metadata": {},
   "source": [
    "<blockquote>Additionally, the target feature will be converted into a numpy array for Scikit-Learn.</blockquote>"
   ]
  },
  {
   "cell_type": "code",
   "execution_count": 309,
   "id": "08558902",
   "metadata": {},
   "outputs": [
    {
     "data": {
      "text/plain": [
       "numpy.ndarray"
      ]
     },
     "execution_count": 309,
     "metadata": {},
     "output_type": "execute_result"
    }
   ],
   "source": [
    "target = np.array(target)\n",
    "type(target)"
   ]
  },
  {
   "cell_type": "markdown",
   "id": "23c1496d",
   "metadata": {},
   "source": [
    "# Categorical Features"
   ]
  },
  {
   "cell_type": "markdown",
   "id": "96808e28",
   "metadata": {},
   "source": [
    "<blockquote>All categorical features in the dataset are nominal (including 'Years Current Job', which was determined to be nominal in section 4.5.6), hence will be one-hot encoded as either 0 or 1 if binary, or encoded as dummy features if multinomial.</blockquote>"
   ]
  },
  {
   "cell_type": "code",
   "execution_count": 310,
   "id": "7bc8710a",
   "metadata": {},
   "outputs": [
    {
     "data": {
      "text/plain": [
       "['Term',\n",
       " 'Years Current Job',\n",
       " 'Home Ownership',\n",
       " 'Purpose',\n",
       " 'Has Been Delinquent',\n",
       " 'Credit Problems',\n",
       " 'Bankruptcies',\n",
       " 'Tax Liens']"
      ]
     },
     "execution_count": 310,
     "metadata": {},
     "output_type": "execute_result"
    }
   ],
   "source": [
    "cat_var = data.columns[data.dtypes==object].tolist()\n",
    "cat_var"
   ]
  },
  {
   "cell_type": "code",
   "execution_count": 311,
   "id": "0d31f51f",
   "metadata": {},
   "outputs": [],
   "source": [
    "for i in cat_var:\n",
    "    n = len(data[i].unique())\n",
    "    if (n == 2):\n",
    "        data[i] = pd.get_dummies(data[i], drop_first=True)\n",
    "    \n",
    "data = pd.get_dummies(data)"
   ]
  },
  {
   "cell_type": "markdown",
   "id": "c3d5bc85",
   "metadata": {},
   "source": [
    "<blockquote>Once the categorical features are encoded, there are 35 descriptive features in total.</blockquote>"
   ]
  },
  {
   "cell_type": "code",
   "execution_count": 312,
   "id": "87236eb2",
   "metadata": {},
   "outputs": [
    {
     "data": {
      "text/html": [
       "<div>\n",
       "<style scoped>\n",
       "    .dataframe tbody tr th:only-of-type {\n",
       "        vertical-align: middle;\n",
       "    }\n",
       "\n",
       "    .dataframe tbody tr th {\n",
       "        vertical-align: top;\n",
       "    }\n",
       "\n",
       "    .dataframe thead th {\n",
       "        text-align: right;\n",
       "    }\n",
       "</style>\n",
       "<table border=\"1\" class=\"dataframe\">\n",
       "  <thead>\n",
       "    <tr style=\"text-align: right;\">\n",
       "      <th></th>\n",
       "      <th>Current Loan Amount</th>\n",
       "      <th>Term</th>\n",
       "      <th>Credit Score</th>\n",
       "      <th>Annual Income</th>\n",
       "      <th>Monthly Debt</th>\n",
       "      <th>Years of Credit History</th>\n",
       "      <th>Has Been Delinquent</th>\n",
       "      <th>Number Open Accounts</th>\n",
       "      <th>Current Credit Balance</th>\n",
       "      <th>Maximum Open Credit</th>\n",
       "      <th>Bankruptcies</th>\n",
       "      <th>Tax Liens</th>\n",
       "      <th>Years Current Job_1 year</th>\n",
       "      <th>Years Current Job_10+ years</th>\n",
       "      <th>Years Current Job_2 years</th>\n",
       "      <th>Years Current Job_3 years</th>\n",
       "      <th>Years Current Job_4 years</th>\n",
       "      <th>Years Current Job_5 years</th>\n",
       "      <th>Years Current Job_6 years</th>\n",
       "      <th>Years Current Job_7 years</th>\n",
       "      <th>Years Current Job_8 years</th>\n",
       "      <th>Years Current Job_9 years</th>\n",
       "      <th>Years Current Job_&lt; 1 year</th>\n",
       "      <th>Years Current Job_Not Applicable</th>\n",
       "      <th>Home Ownership_Home Mortgage</th>\n",
       "      <th>Home Ownership_Own Home</th>\n",
       "      <th>Home Ownership_Rent</th>\n",
       "      <th>Purpose_Car/Education</th>\n",
       "      <th>Purpose_Debt/MajorPurchase</th>\n",
       "      <th>Purpose_HomeImprove/Wedding</th>\n",
       "      <th>Purpose_House/Other</th>\n",
       "      <th>Purpose_Medical/Energy</th>\n",
       "      <th>Purpose_Move/Business</th>\n",
       "      <th>Purpose_vacation</th>\n",
       "      <th>Credit Problems_Yes</th>\n",
       "    </tr>\n",
       "  </thead>\n",
       "  <tbody>\n",
       "    <tr>\n",
       "      <th>0</th>\n",
       "      <td>445412.000</td>\n",
       "      <td>1</td>\n",
       "      <td>709.000</td>\n",
       "      <td>1167493.000</td>\n",
       "      <td>5214.740</td>\n",
       "      <td>17.200</td>\n",
       "      <td>0</td>\n",
       "      <td>6</td>\n",
       "      <td>228190</td>\n",
       "      <td>416746.000</td>\n",
       "      <td>1</td>\n",
       "      <td>0</td>\n",
       "      <td>0</td>\n",
       "      <td>0</td>\n",
       "      <td>0</td>\n",
       "      <td>0</td>\n",
       "      <td>0</td>\n",
       "      <td>0</td>\n",
       "      <td>0</td>\n",
       "      <td>0</td>\n",
       "      <td>1</td>\n",
       "      <td>0</td>\n",
       "      <td>0</td>\n",
       "      <td>0</td>\n",
       "      <td>1</td>\n",
       "      <td>0</td>\n",
       "      <td>0</td>\n",
       "      <td>0</td>\n",
       "      <td>0</td>\n",
       "      <td>1</td>\n",
       "      <td>0</td>\n",
       "      <td>0</td>\n",
       "      <td>0</td>\n",
       "      <td>0</td>\n",
       "      <td>1</td>\n",
       "    </tr>\n",
       "    <tr>\n",
       "      <th>3</th>\n",
       "      <td>347666.000</td>\n",
       "      <td>0</td>\n",
       "      <td>721.000</td>\n",
       "      <td>806949.000</td>\n",
       "      <td>8741.900</td>\n",
       "      <td>12.000</td>\n",
       "      <td>0</td>\n",
       "      <td>9</td>\n",
       "      <td>256329</td>\n",
       "      <td>386958.000</td>\n",
       "      <td>0</td>\n",
       "      <td>0</td>\n",
       "      <td>0</td>\n",
       "      <td>0</td>\n",
       "      <td>0</td>\n",
       "      <td>1</td>\n",
       "      <td>0</td>\n",
       "      <td>0</td>\n",
       "      <td>0</td>\n",
       "      <td>0</td>\n",
       "      <td>0</td>\n",
       "      <td>0</td>\n",
       "      <td>0</td>\n",
       "      <td>0</td>\n",
       "      <td>0</td>\n",
       "      <td>1</td>\n",
       "      <td>0</td>\n",
       "      <td>0</td>\n",
       "      <td>1</td>\n",
       "      <td>0</td>\n",
       "      <td>0</td>\n",
       "      <td>0</td>\n",
       "      <td>0</td>\n",
       "      <td>0</td>\n",
       "      <td>1</td>\n",
       "    </tr>\n",
       "    <tr>\n",
       "      <th>4</th>\n",
       "      <td>206602.000</td>\n",
       "      <td>1</td>\n",
       "      <td>729.000</td>\n",
       "      <td>896857.000</td>\n",
       "      <td>16367.740</td>\n",
       "      <td>17.300</td>\n",
       "      <td>0</td>\n",
       "      <td>6</td>\n",
       "      <td>215308</td>\n",
       "      <td>272448.000</td>\n",
       "      <td>0</td>\n",
       "      <td>0</td>\n",
       "      <td>0</td>\n",
       "      <td>1</td>\n",
       "      <td>0</td>\n",
       "      <td>0</td>\n",
       "      <td>0</td>\n",
       "      <td>0</td>\n",
       "      <td>0</td>\n",
       "      <td>0</td>\n",
       "      <td>0</td>\n",
       "      <td>0</td>\n",
       "      <td>0</td>\n",
       "      <td>0</td>\n",
       "      <td>1</td>\n",
       "      <td>0</td>\n",
       "      <td>0</td>\n",
       "      <td>0</td>\n",
       "      <td>1</td>\n",
       "      <td>0</td>\n",
       "      <td>0</td>\n",
       "      <td>0</td>\n",
       "      <td>0</td>\n",
       "      <td>0</td>\n",
       "      <td>1</td>\n",
       "    </tr>\n",
       "    <tr>\n",
       "      <th>5</th>\n",
       "      <td>217646.000</td>\n",
       "      <td>1</td>\n",
       "      <td>730.000</td>\n",
       "      <td>1184194.000</td>\n",
       "      <td>10855.080</td>\n",
       "      <td>19.600</td>\n",
       "      <td>1</td>\n",
       "      <td>13</td>\n",
       "      <td>122170</td>\n",
       "      <td>272052.000</td>\n",
       "      <td>1</td>\n",
       "      <td>0</td>\n",
       "      <td>0</td>\n",
       "      <td>0</td>\n",
       "      <td>0</td>\n",
       "      <td>0</td>\n",
       "      <td>0</td>\n",
       "      <td>0</td>\n",
       "      <td>0</td>\n",
       "      <td>0</td>\n",
       "      <td>0</td>\n",
       "      <td>0</td>\n",
       "      <td>1</td>\n",
       "      <td>0</td>\n",
       "      <td>1</td>\n",
       "      <td>0</td>\n",
       "      <td>0</td>\n",
       "      <td>0</td>\n",
       "      <td>1</td>\n",
       "      <td>0</td>\n",
       "      <td>0</td>\n",
       "      <td>0</td>\n",
       "      <td>0</td>\n",
       "      <td>0</td>\n",
       "      <td>1</td>\n",
       "    </tr>\n",
       "    <tr>\n",
       "      <th>7</th>\n",
       "      <td>548746.000</td>\n",
       "      <td>1</td>\n",
       "      <td>678.000</td>\n",
       "      <td>2559110.000</td>\n",
       "      <td>18660.280</td>\n",
       "      <td>22.600</td>\n",
       "      <td>1</td>\n",
       "      <td>4</td>\n",
       "      <td>437171</td>\n",
       "      <td>555038.000</td>\n",
       "      <td>0</td>\n",
       "      <td>0</td>\n",
       "      <td>0</td>\n",
       "      <td>0</td>\n",
       "      <td>1</td>\n",
       "      <td>0</td>\n",
       "      <td>0</td>\n",
       "      <td>0</td>\n",
       "      <td>0</td>\n",
       "      <td>0</td>\n",
       "      <td>0</td>\n",
       "      <td>0</td>\n",
       "      <td>0</td>\n",
       "      <td>0</td>\n",
       "      <td>0</td>\n",
       "      <td>0</td>\n",
       "      <td>1</td>\n",
       "      <td>0</td>\n",
       "      <td>1</td>\n",
       "      <td>0</td>\n",
       "      <td>0</td>\n",
       "      <td>0</td>\n",
       "      <td>0</td>\n",
       "      <td>0</td>\n",
       "      <td>1</td>\n",
       "    </tr>\n",
       "  </tbody>\n",
       "</table>\n",
       "</div>"
      ],
      "text/plain": [
       "   Current Loan Amount  Term  Credit Score  Annual Income  Monthly Debt  \\\n",
       "0           445412.000     1       709.000    1167493.000      5214.740   \n",
       "3           347666.000     0       721.000     806949.000      8741.900   \n",
       "4           206602.000     1       729.000     896857.000     16367.740   \n",
       "5           217646.000     1       730.000    1184194.000     10855.080   \n",
       "7           548746.000     1       678.000    2559110.000     18660.280   \n",
       "\n",
       "   Years of Credit History  Has Been Delinquent  Number Open Accounts  \\\n",
       "0                   17.200                    0                     6   \n",
       "3                   12.000                    0                     9   \n",
       "4                   17.300                    0                     6   \n",
       "5                   19.600                    1                    13   \n",
       "7                   22.600                    1                     4   \n",
       "\n",
       "   Current Credit Balance  Maximum Open Credit  Bankruptcies  Tax Liens  \\\n",
       "0                  228190           416746.000             1          0   \n",
       "3                  256329           386958.000             0          0   \n",
       "4                  215308           272448.000             0          0   \n",
       "5                  122170           272052.000             1          0   \n",
       "7                  437171           555038.000             0          0   \n",
       "\n",
       "   Years Current Job_1 year  Years Current Job_10+ years  \\\n",
       "0                         0                            0   \n",
       "3                         0                            0   \n",
       "4                         0                            1   \n",
       "5                         0                            0   \n",
       "7                         0                            0   \n",
       "\n",
       "   Years Current Job_2 years  Years Current Job_3 years  \\\n",
       "0                          0                          0   \n",
       "3                          0                          1   \n",
       "4                          0                          0   \n",
       "5                          0                          0   \n",
       "7                          1                          0   \n",
       "\n",
       "   Years Current Job_4 years  Years Current Job_5 years  \\\n",
       "0                          0                          0   \n",
       "3                          0                          0   \n",
       "4                          0                          0   \n",
       "5                          0                          0   \n",
       "7                          0                          0   \n",
       "\n",
       "   Years Current Job_6 years  Years Current Job_7 years  \\\n",
       "0                          0                          0   \n",
       "3                          0                          0   \n",
       "4                          0                          0   \n",
       "5                          0                          0   \n",
       "7                          0                          0   \n",
       "\n",
       "   Years Current Job_8 years  Years Current Job_9 years  \\\n",
       "0                          1                          0   \n",
       "3                          0                          0   \n",
       "4                          0                          0   \n",
       "5                          0                          0   \n",
       "7                          0                          0   \n",
       "\n",
       "   Years Current Job_< 1 year  Years Current Job_Not Applicable  \\\n",
       "0                           0                                 0   \n",
       "3                           0                                 0   \n",
       "4                           0                                 0   \n",
       "5                           1                                 0   \n",
       "7                           0                                 0   \n",
       "\n",
       "   Home Ownership_Home Mortgage  Home Ownership_Own Home  Home Ownership_Rent  \\\n",
       "0                             1                        0                    0   \n",
       "3                             0                        1                    0   \n",
       "4                             1                        0                    0   \n",
       "5                             1                        0                    0   \n",
       "7                             0                        0                    1   \n",
       "\n",
       "   Purpose_Car/Education  Purpose_Debt/MajorPurchase  \\\n",
       "0                      0                           0   \n",
       "3                      0                           1   \n",
       "4                      0                           1   \n",
       "5                      0                           1   \n",
       "7                      0                           1   \n",
       "\n",
       "   Purpose_HomeImprove/Wedding  Purpose_House/Other  Purpose_Medical/Energy  \\\n",
       "0                            1                    0                       0   \n",
       "3                            0                    0                       0   \n",
       "4                            0                    0                       0   \n",
       "5                            0                    0                       0   \n",
       "7                            0                    0                       0   \n",
       "\n",
       "   Purpose_Move/Business  Purpose_vacation  Credit Problems_Yes  \n",
       "0                      0                 0                    1  \n",
       "3                      0                 0                    1  \n",
       "4                      0                 0                    1  \n",
       "5                      0                 0                    1  \n",
       "7                      0                 0                    1  "
      ]
     },
     "execution_count": 312,
     "metadata": {},
     "output_type": "execute_result"
    }
   ],
   "source": [
    "data.head(5)"
   ]
  },
  {
   "cell_type": "code",
   "execution_count": 313,
   "id": "7f64dd06",
   "metadata": {},
   "outputs": [
    {
     "name": "stdout",
     "output_type": "stream",
     "text": [
      "Shape: (59021, 35) \n",
      "\n",
      "Data Types:\n",
      "Current Loan Amount                 float64\n",
      "Term                                  uint8\n",
      "Credit Score                        float64\n",
      "Annual Income                       float64\n",
      "Monthly Debt                        float64\n",
      "Years of Credit History             float64\n",
      "Has Been Delinquent                   uint8\n",
      "Number Open Accounts                  int64\n",
      "Current Credit Balance                int64\n",
      "Maximum Open Credit                 float64\n",
      "Bankruptcies                          uint8\n",
      "Tax Liens                             uint8\n",
      "Years Current Job_1 year              uint8\n",
      "Years Current Job_10+ years           uint8\n",
      "Years Current Job_2 years             uint8\n",
      "Years Current Job_3 years             uint8\n",
      "Years Current Job_4 years             uint8\n",
      "Years Current Job_5 years             uint8\n",
      "Years Current Job_6 years             uint8\n",
      "Years Current Job_7 years             uint8\n",
      "Years Current Job_8 years             uint8\n",
      "Years Current Job_9 years             uint8\n",
      "Years Current Job_< 1 year            uint8\n",
      "Years Current Job_Not Applicable      uint8\n",
      "Home Ownership_Home Mortgage          uint8\n",
      "Home Ownership_Own Home               uint8\n",
      "Home Ownership_Rent                   uint8\n",
      "Purpose_Car/Education                 uint8\n",
      "Purpose_Debt/MajorPurchase            uint8\n",
      "Purpose_HomeImprove/Wedding           uint8\n",
      "Purpose_House/Other                   uint8\n",
      "Purpose_Medical/Energy                uint8\n",
      "Purpose_Move/Business                 uint8\n",
      "Purpose_vacation                      uint8\n",
      "Credit Problems_Yes                   uint8\n",
      "dtype: object\n"
     ]
    }
   ],
   "source": [
    "print(\"Shape:\", data.shape, \"\\n\")\n",
    "print(\"Data Types:\")\n",
    "print(data.dtypes)"
   ]
  },
  {
   "cell_type": "markdown",
   "id": "04be9f1a",
   "metadata": {},
   "source": [
    "# Data Scaling"
   ]
  },
  {
   "cell_type": "markdown",
   "id": "c551c7fd",
   "metadata": {},
   "source": [
    "<blockquote>The descriptive features are scaled via standardisation.</blockquote>"
   ]
  },
  {
   "cell_type": "code",
   "execution_count": 314,
   "id": "10252f96",
   "metadata": {},
   "outputs": [],
   "source": [
    "data_copy = data.copy()\n",
    "\n",
    "data_scaler = preprocessing.StandardScaler()\n",
    "data_scaler.fit(data)\n",
    "data = data_scaler.fit_transform(data)"
   ]
  },
  {
   "cell_type": "markdown",
   "id": "775fe04c",
   "metadata": {},
   "source": [
    "<blockquote>The normalised data dataset is displayed below.</blockquote>"
   ]
  },
  {
   "cell_type": "code",
   "execution_count": 315,
   "id": "f63c4016",
   "metadata": {},
   "outputs": [
    {
     "data": {
      "text/html": [
       "<div>\n",
       "<style scoped>\n",
       "    .dataframe tbody tr th:only-of-type {\n",
       "        vertical-align: middle;\n",
       "    }\n",
       "\n",
       "    .dataframe tbody tr th {\n",
       "        vertical-align: top;\n",
       "    }\n",
       "\n",
       "    .dataframe thead th {\n",
       "        text-align: right;\n",
       "    }\n",
       "</style>\n",
       "<table border=\"1\" class=\"dataframe\">\n",
       "  <thead>\n",
       "    <tr style=\"text-align: right;\">\n",
       "      <th></th>\n",
       "      <th>Current Loan Amount</th>\n",
       "      <th>Term</th>\n",
       "      <th>Credit Score</th>\n",
       "      <th>Annual Income</th>\n",
       "      <th>Monthly Debt</th>\n",
       "      <th>Years of Credit History</th>\n",
       "      <th>Has Been Delinquent</th>\n",
       "      <th>Number Open Accounts</th>\n",
       "      <th>Current Credit Balance</th>\n",
       "      <th>Maximum Open Credit</th>\n",
       "      <th>Bankruptcies</th>\n",
       "      <th>Tax Liens</th>\n",
       "      <th>Years Current Job_1 year</th>\n",
       "      <th>Years Current Job_10+ years</th>\n",
       "      <th>Years Current Job_2 years</th>\n",
       "      <th>Years Current Job_3 years</th>\n",
       "      <th>Years Current Job_4 years</th>\n",
       "      <th>Years Current Job_5 years</th>\n",
       "      <th>Years Current Job_6 years</th>\n",
       "      <th>Years Current Job_7 years</th>\n",
       "      <th>Years Current Job_8 years</th>\n",
       "      <th>Years Current Job_9 years</th>\n",
       "      <th>Years Current Job_&lt; 1 year</th>\n",
       "      <th>Years Current Job_Not Applicable</th>\n",
       "      <th>Home Ownership_Home Mortgage</th>\n",
       "      <th>Home Ownership_Own Home</th>\n",
       "      <th>Home Ownership_Rent</th>\n",
       "      <th>Purpose_Car/Education</th>\n",
       "      <th>Purpose_Debt/MajorPurchase</th>\n",
       "      <th>Purpose_HomeImprove/Wedding</th>\n",
       "      <th>Purpose_House/Other</th>\n",
       "      <th>Purpose_Medical/Energy</th>\n",
       "      <th>Purpose_Move/Business</th>\n",
       "      <th>Purpose_vacation</th>\n",
       "      <th>Credit Problems_Yes</th>\n",
       "    </tr>\n",
       "  </thead>\n",
       "  <tbody>\n",
       "    <tr>\n",
       "      <th>0</th>\n",
       "      <td>0.722</td>\n",
       "      <td>0.630</td>\n",
       "      <td>-0.286</td>\n",
       "      <td>-0.219</td>\n",
       "      <td>-1.099</td>\n",
       "      <td>-0.140</td>\n",
       "      <td>-0.934</td>\n",
       "      <td>-1.026</td>\n",
       "      <td>-0.184</td>\n",
       "      <td>-0.065</td>\n",
       "      <td>2.862</td>\n",
       "      <td>-0.140</td>\n",
       "      <td>-0.263</td>\n",
       "      <td>-0.672</td>\n",
       "      <td>-0.317</td>\n",
       "      <td>-0.299</td>\n",
       "      <td>-0.254</td>\n",
       "      <td>-0.270</td>\n",
       "      <td>-0.245</td>\n",
       "      <td>-0.243</td>\n",
       "      <td>4.536</td>\n",
       "      <td>-0.202</td>\n",
       "      <td>-0.297</td>\n",
       "      <td>-0.213</td>\n",
       "      <td>1.032</td>\n",
       "      <td>-0.319</td>\n",
       "      <td>-0.857</td>\n",
       "      <td>-0.117</td>\n",
       "      <td>-1.946</td>\n",
       "      <td>4.010</td>\n",
       "      <td>-0.331</td>\n",
       "      <td>-0.106</td>\n",
       "      <td>-0.145</td>\n",
       "      <td>-0.081</td>\n",
       "      <td>0.000</td>\n",
       "    </tr>\n",
       "    <tr>\n",
       "      <th>1</th>\n",
       "      <td>0.194</td>\n",
       "      <td>-1.588</td>\n",
       "      <td>0.134</td>\n",
       "      <td>-0.617</td>\n",
       "      <td>-0.807</td>\n",
       "      <td>-0.882</td>\n",
       "      <td>-0.934</td>\n",
       "      <td>-0.428</td>\n",
       "      <td>-0.105</td>\n",
       "      <td>-0.071</td>\n",
       "      <td>-0.349</td>\n",
       "      <td>-0.140</td>\n",
       "      <td>-0.263</td>\n",
       "      <td>-0.672</td>\n",
       "      <td>-0.317</td>\n",
       "      <td>3.349</td>\n",
       "      <td>-0.254</td>\n",
       "      <td>-0.270</td>\n",
       "      <td>-0.245</td>\n",
       "      <td>-0.243</td>\n",
       "      <td>-0.220</td>\n",
       "      <td>-0.202</td>\n",
       "      <td>-0.297</td>\n",
       "      <td>-0.213</td>\n",
       "      <td>-0.969</td>\n",
       "      <td>3.134</td>\n",
       "      <td>-0.857</td>\n",
       "      <td>-0.117</td>\n",
       "      <td>0.514</td>\n",
       "      <td>-0.249</td>\n",
       "      <td>-0.331</td>\n",
       "      <td>-0.106</td>\n",
       "      <td>-0.145</td>\n",
       "      <td>-0.081</td>\n",
       "      <td>0.000</td>\n",
       "    </tr>\n",
       "    <tr>\n",
       "      <th>2</th>\n",
       "      <td>-0.568</td>\n",
       "      <td>0.630</td>\n",
       "      <td>0.415</td>\n",
       "      <td>-0.518</td>\n",
       "      <td>-0.174</td>\n",
       "      <td>-0.125</td>\n",
       "      <td>-0.934</td>\n",
       "      <td>-1.026</td>\n",
       "      <td>-0.221</td>\n",
       "      <td>-0.095</td>\n",
       "      <td>-0.349</td>\n",
       "      <td>-0.140</td>\n",
       "      <td>-0.263</td>\n",
       "      <td>1.488</td>\n",
       "      <td>-0.317</td>\n",
       "      <td>-0.299</td>\n",
       "      <td>-0.254</td>\n",
       "      <td>-0.270</td>\n",
       "      <td>-0.245</td>\n",
       "      <td>-0.243</td>\n",
       "      <td>-0.220</td>\n",
       "      <td>-0.202</td>\n",
       "      <td>-0.297</td>\n",
       "      <td>-0.213</td>\n",
       "      <td>1.032</td>\n",
       "      <td>-0.319</td>\n",
       "      <td>-0.857</td>\n",
       "      <td>-0.117</td>\n",
       "      <td>0.514</td>\n",
       "      <td>-0.249</td>\n",
       "      <td>-0.331</td>\n",
       "      <td>-0.106</td>\n",
       "      <td>-0.145</td>\n",
       "      <td>-0.081</td>\n",
       "      <td>0.000</td>\n",
       "    </tr>\n",
       "    <tr>\n",
       "      <th>3</th>\n",
       "      <td>-0.508</td>\n",
       "      <td>0.630</td>\n",
       "      <td>0.450</td>\n",
       "      <td>-0.201</td>\n",
       "      <td>-0.631</td>\n",
       "      <td>0.203</td>\n",
       "      <td>1.070</td>\n",
       "      <td>0.371</td>\n",
       "      <td>-0.485</td>\n",
       "      <td>-0.095</td>\n",
       "      <td>2.862</td>\n",
       "      <td>-0.140</td>\n",
       "      <td>-0.263</td>\n",
       "      <td>-0.672</td>\n",
       "      <td>-0.317</td>\n",
       "      <td>-0.299</td>\n",
       "      <td>-0.254</td>\n",
       "      <td>-0.270</td>\n",
       "      <td>-0.245</td>\n",
       "      <td>-0.243</td>\n",
       "      <td>-0.220</td>\n",
       "      <td>-0.202</td>\n",
       "      <td>3.363</td>\n",
       "      <td>-0.213</td>\n",
       "      <td>1.032</td>\n",
       "      <td>-0.319</td>\n",
       "      <td>-0.857</td>\n",
       "      <td>-0.117</td>\n",
       "      <td>0.514</td>\n",
       "      <td>-0.249</td>\n",
       "      <td>-0.331</td>\n",
       "      <td>-0.106</td>\n",
       "      <td>-0.145</td>\n",
       "      <td>-0.081</td>\n",
       "      <td>0.000</td>\n",
       "    </tr>\n",
       "    <tr>\n",
       "      <th>4</th>\n",
       "      <td>1.280</td>\n",
       "      <td>0.630</td>\n",
       "      <td>-1.373</td>\n",
       "      <td>1.317</td>\n",
       "      <td>0.016</td>\n",
       "      <td>0.631</td>\n",
       "      <td>1.070</td>\n",
       "      <td>-1.426</td>\n",
       "      <td>0.408</td>\n",
       "      <td>-0.036</td>\n",
       "      <td>-0.349</td>\n",
       "      <td>-0.140</td>\n",
       "      <td>-0.263</td>\n",
       "      <td>-0.672</td>\n",
       "      <td>3.159</td>\n",
       "      <td>-0.299</td>\n",
       "      <td>-0.254</td>\n",
       "      <td>-0.270</td>\n",
       "      <td>-0.245</td>\n",
       "      <td>-0.243</td>\n",
       "      <td>-0.220</td>\n",
       "      <td>-0.202</td>\n",
       "      <td>-0.297</td>\n",
       "      <td>-0.213</td>\n",
       "      <td>-0.969</td>\n",
       "      <td>-0.319</td>\n",
       "      <td>1.167</td>\n",
       "      <td>-0.117</td>\n",
       "      <td>0.514</td>\n",
       "      <td>-0.249</td>\n",
       "      <td>-0.331</td>\n",
       "      <td>-0.106</td>\n",
       "      <td>-0.145</td>\n",
       "      <td>-0.081</td>\n",
       "      <td>0.000</td>\n",
       "    </tr>\n",
       "    <tr>\n",
       "      <th>5</th>\n",
       "      <td>-0.517</td>\n",
       "      <td>0.630</td>\n",
       "      <td>0.765</td>\n",
       "      <td>0.098</td>\n",
       "      <td>1.725</td>\n",
       "      <td>-0.610</td>\n",
       "      <td>-0.934</td>\n",
       "      <td>1.768</td>\n",
       "      <td>1.066</td>\n",
       "      <td>0.062</td>\n",
       "      <td>-0.349</td>\n",
       "      <td>-0.140</td>\n",
       "      <td>-0.263</td>\n",
       "      <td>-0.672</td>\n",
       "      <td>-0.317</td>\n",
       "      <td>-0.299</td>\n",
       "      <td>-0.254</td>\n",
       "      <td>-0.270</td>\n",
       "      <td>-0.245</td>\n",
       "      <td>-0.243</td>\n",
       "      <td>-0.220</td>\n",
       "      <td>-0.202</td>\n",
       "      <td>3.363</td>\n",
       "      <td>-0.213</td>\n",
       "      <td>-0.969</td>\n",
       "      <td>-0.319</td>\n",
       "      <td>1.167</td>\n",
       "      <td>-0.117</td>\n",
       "      <td>0.514</td>\n",
       "      <td>-0.249</td>\n",
       "      <td>-0.331</td>\n",
       "      <td>-0.106</td>\n",
       "      <td>-0.145</td>\n",
       "      <td>-0.081</td>\n",
       "      <td>0.000</td>\n",
       "    </tr>\n",
       "    <tr>\n",
       "      <th>6</th>\n",
       "      <td>-0.419</td>\n",
       "      <td>0.630</td>\n",
       "      <td>0.345</td>\n",
       "      <td>-0.743</td>\n",
       "      <td>-0.353</td>\n",
       "      <td>0.931</td>\n",
       "      <td>1.070</td>\n",
       "      <td>-0.228</td>\n",
       "      <td>-0.751</td>\n",
       "      <td>-0.129</td>\n",
       "      <td>2.862</td>\n",
       "      <td>-0.140</td>\n",
       "      <td>-0.263</td>\n",
       "      <td>1.488</td>\n",
       "      <td>-0.317</td>\n",
       "      <td>-0.299</td>\n",
       "      <td>-0.254</td>\n",
       "      <td>-0.270</td>\n",
       "      <td>-0.245</td>\n",
       "      <td>-0.243</td>\n",
       "      <td>-0.220</td>\n",
       "      <td>-0.202</td>\n",
       "      <td>-0.297</td>\n",
       "      <td>-0.213</td>\n",
       "      <td>-0.969</td>\n",
       "      <td>-0.319</td>\n",
       "      <td>1.167</td>\n",
       "      <td>-0.117</td>\n",
       "      <td>0.514</td>\n",
       "      <td>-0.249</td>\n",
       "      <td>-0.331</td>\n",
       "      <td>-0.106</td>\n",
       "      <td>-0.145</td>\n",
       "      <td>-0.081</td>\n",
       "      <td>0.000</td>\n",
       "    </tr>\n",
       "    <tr>\n",
       "      <th>7</th>\n",
       "      <td>1.914</td>\n",
       "      <td>-1.588</td>\n",
       "      <td>0.204</td>\n",
       "      <td>0.503</td>\n",
       "      <td>-0.071</td>\n",
       "      <td>0.545</td>\n",
       "      <td>1.070</td>\n",
       "      <td>0.770</td>\n",
       "      <td>1.475</td>\n",
       "      <td>0.267</td>\n",
       "      <td>-0.349</td>\n",
       "      <td>-0.140</td>\n",
       "      <td>-0.263</td>\n",
       "      <td>1.488</td>\n",
       "      <td>-0.317</td>\n",
       "      <td>-0.299</td>\n",
       "      <td>-0.254</td>\n",
       "      <td>-0.270</td>\n",
       "      <td>-0.245</td>\n",
       "      <td>-0.243</td>\n",
       "      <td>-0.220</td>\n",
       "      <td>-0.202</td>\n",
       "      <td>-0.297</td>\n",
       "      <td>-0.213</td>\n",
       "      <td>1.032</td>\n",
       "      <td>-0.319</td>\n",
       "      <td>-0.857</td>\n",
       "      <td>-0.117</td>\n",
       "      <td>0.514</td>\n",
       "      <td>-0.249</td>\n",
       "      <td>-0.331</td>\n",
       "      <td>-0.106</td>\n",
       "      <td>-0.145</td>\n",
       "      <td>-0.081</td>\n",
       "      <td>0.000</td>\n",
       "    </tr>\n",
       "    <tr>\n",
       "      <th>8</th>\n",
       "      <td>0.425</td>\n",
       "      <td>0.630</td>\n",
       "      <td>1.045</td>\n",
       "      <td>0.470</td>\n",
       "      <td>-1.326</td>\n",
       "      <td>0.645</td>\n",
       "      <td>-0.934</td>\n",
       "      <td>-1.026</td>\n",
       "      <td>-0.488</td>\n",
       "      <td>0.016</td>\n",
       "      <td>-0.349</td>\n",
       "      <td>-0.140</td>\n",
       "      <td>-0.263</td>\n",
       "      <td>-0.672</td>\n",
       "      <td>-0.317</td>\n",
       "      <td>-0.299</td>\n",
       "      <td>-0.254</td>\n",
       "      <td>-0.270</td>\n",
       "      <td>-0.245</td>\n",
       "      <td>-0.243</td>\n",
       "      <td>4.536</td>\n",
       "      <td>-0.202</td>\n",
       "      <td>-0.297</td>\n",
       "      <td>-0.213</td>\n",
       "      <td>1.032</td>\n",
       "      <td>-0.319</td>\n",
       "      <td>-0.857</td>\n",
       "      <td>-0.117</td>\n",
       "      <td>-1.946</td>\n",
       "      <td>4.010</td>\n",
       "      <td>-0.331</td>\n",
       "      <td>-0.106</td>\n",
       "      <td>-0.145</td>\n",
       "      <td>-0.081</td>\n",
       "      <td>0.000</td>\n",
       "    </tr>\n",
       "    <tr>\n",
       "      <th>9</th>\n",
       "      <td>0.029</td>\n",
       "      <td>-1.588</td>\n",
       "      <td>-1.057</td>\n",
       "      <td>-0.257</td>\n",
       "      <td>-0.733</td>\n",
       "      <td>-0.111</td>\n",
       "      <td>1.070</td>\n",
       "      <td>-1.426</td>\n",
       "      <td>-0.660</td>\n",
       "      <td>-0.125</td>\n",
       "      <td>-0.349</td>\n",
       "      <td>-0.140</td>\n",
       "      <td>-0.263</td>\n",
       "      <td>-0.672</td>\n",
       "      <td>-0.317</td>\n",
       "      <td>-0.299</td>\n",
       "      <td>-0.254</td>\n",
       "      <td>-0.270</td>\n",
       "      <td>-0.245</td>\n",
       "      <td>-0.243</td>\n",
       "      <td>4.536</td>\n",
       "      <td>-0.202</td>\n",
       "      <td>-0.297</td>\n",
       "      <td>-0.213</td>\n",
       "      <td>-0.969</td>\n",
       "      <td>-0.319</td>\n",
       "      <td>1.167</td>\n",
       "      <td>-0.117</td>\n",
       "      <td>0.514</td>\n",
       "      <td>-0.249</td>\n",
       "      <td>-0.331</td>\n",
       "      <td>-0.106</td>\n",
       "      <td>-0.145</td>\n",
       "      <td>-0.081</td>\n",
       "      <td>0.000</td>\n",
       "    </tr>\n",
       "  </tbody>\n",
       "</table>\n",
       "</div>"
      ],
      "text/plain": [
       "   Current Loan Amount   Term  Credit Score  Annual Income  Monthly Debt  \\\n",
       "0                0.722  0.630        -0.286         -0.219        -1.099   \n",
       "1                0.194 -1.588         0.134         -0.617        -0.807   \n",
       "2               -0.568  0.630         0.415         -0.518        -0.174   \n",
       "3               -0.508  0.630         0.450         -0.201        -0.631   \n",
       "4                1.280  0.630        -1.373          1.317         0.016   \n",
       "5               -0.517  0.630         0.765          0.098         1.725   \n",
       "6               -0.419  0.630         0.345         -0.743        -0.353   \n",
       "7                1.914 -1.588         0.204          0.503        -0.071   \n",
       "8                0.425  0.630         1.045          0.470        -1.326   \n",
       "9                0.029 -1.588        -1.057         -0.257        -0.733   \n",
       "\n",
       "   Years of Credit History  Has Been Delinquent  Number Open Accounts  \\\n",
       "0                   -0.140               -0.934                -1.026   \n",
       "1                   -0.882               -0.934                -0.428   \n",
       "2                   -0.125               -0.934                -1.026   \n",
       "3                    0.203                1.070                 0.371   \n",
       "4                    0.631                1.070                -1.426   \n",
       "5                   -0.610               -0.934                 1.768   \n",
       "6                    0.931                1.070                -0.228   \n",
       "7                    0.545                1.070                 0.770   \n",
       "8                    0.645               -0.934                -1.026   \n",
       "9                   -0.111                1.070                -1.426   \n",
       "\n",
       "   Current Credit Balance  Maximum Open Credit  Bankruptcies  Tax Liens  \\\n",
       "0                  -0.184               -0.065         2.862     -0.140   \n",
       "1                  -0.105               -0.071        -0.349     -0.140   \n",
       "2                  -0.221               -0.095        -0.349     -0.140   \n",
       "3                  -0.485               -0.095         2.862     -0.140   \n",
       "4                   0.408               -0.036        -0.349     -0.140   \n",
       "5                   1.066                0.062        -0.349     -0.140   \n",
       "6                  -0.751               -0.129         2.862     -0.140   \n",
       "7                   1.475                0.267        -0.349     -0.140   \n",
       "8                  -0.488                0.016        -0.349     -0.140   \n",
       "9                  -0.660               -0.125        -0.349     -0.140   \n",
       "\n",
       "   Years Current Job_1 year  Years Current Job_10+ years  \\\n",
       "0                    -0.263                       -0.672   \n",
       "1                    -0.263                       -0.672   \n",
       "2                    -0.263                        1.488   \n",
       "3                    -0.263                       -0.672   \n",
       "4                    -0.263                       -0.672   \n",
       "5                    -0.263                       -0.672   \n",
       "6                    -0.263                        1.488   \n",
       "7                    -0.263                        1.488   \n",
       "8                    -0.263                       -0.672   \n",
       "9                    -0.263                       -0.672   \n",
       "\n",
       "   Years Current Job_2 years  Years Current Job_3 years  \\\n",
       "0                     -0.317                     -0.299   \n",
       "1                     -0.317                      3.349   \n",
       "2                     -0.317                     -0.299   \n",
       "3                     -0.317                     -0.299   \n",
       "4                      3.159                     -0.299   \n",
       "5                     -0.317                     -0.299   \n",
       "6                     -0.317                     -0.299   \n",
       "7                     -0.317                     -0.299   \n",
       "8                     -0.317                     -0.299   \n",
       "9                     -0.317                     -0.299   \n",
       "\n",
       "   Years Current Job_4 years  Years Current Job_5 years  \\\n",
       "0                     -0.254                     -0.270   \n",
       "1                     -0.254                     -0.270   \n",
       "2                     -0.254                     -0.270   \n",
       "3                     -0.254                     -0.270   \n",
       "4                     -0.254                     -0.270   \n",
       "5                     -0.254                     -0.270   \n",
       "6                     -0.254                     -0.270   \n",
       "7                     -0.254                     -0.270   \n",
       "8                     -0.254                     -0.270   \n",
       "9                     -0.254                     -0.270   \n",
       "\n",
       "   Years Current Job_6 years  Years Current Job_7 years  \\\n",
       "0                     -0.245                     -0.243   \n",
       "1                     -0.245                     -0.243   \n",
       "2                     -0.245                     -0.243   \n",
       "3                     -0.245                     -0.243   \n",
       "4                     -0.245                     -0.243   \n",
       "5                     -0.245                     -0.243   \n",
       "6                     -0.245                     -0.243   \n",
       "7                     -0.245                     -0.243   \n",
       "8                     -0.245                     -0.243   \n",
       "9                     -0.245                     -0.243   \n",
       "\n",
       "   Years Current Job_8 years  Years Current Job_9 years  \\\n",
       "0                      4.536                     -0.202   \n",
       "1                     -0.220                     -0.202   \n",
       "2                     -0.220                     -0.202   \n",
       "3                     -0.220                     -0.202   \n",
       "4                     -0.220                     -0.202   \n",
       "5                     -0.220                     -0.202   \n",
       "6                     -0.220                     -0.202   \n",
       "7                     -0.220                     -0.202   \n",
       "8                      4.536                     -0.202   \n",
       "9                      4.536                     -0.202   \n",
       "\n",
       "   Years Current Job_< 1 year  Years Current Job_Not Applicable  \\\n",
       "0                      -0.297                            -0.213   \n",
       "1                      -0.297                            -0.213   \n",
       "2                      -0.297                            -0.213   \n",
       "3                       3.363                            -0.213   \n",
       "4                      -0.297                            -0.213   \n",
       "5                       3.363                            -0.213   \n",
       "6                      -0.297                            -0.213   \n",
       "7                      -0.297                            -0.213   \n",
       "8                      -0.297                            -0.213   \n",
       "9                      -0.297                            -0.213   \n",
       "\n",
       "   Home Ownership_Home Mortgage  Home Ownership_Own Home  Home Ownership_Rent  \\\n",
       "0                         1.032                   -0.319               -0.857   \n",
       "1                        -0.969                    3.134               -0.857   \n",
       "2                         1.032                   -0.319               -0.857   \n",
       "3                         1.032                   -0.319               -0.857   \n",
       "4                        -0.969                   -0.319                1.167   \n",
       "5                        -0.969                   -0.319                1.167   \n",
       "6                        -0.969                   -0.319                1.167   \n",
       "7                         1.032                   -0.319               -0.857   \n",
       "8                         1.032                   -0.319               -0.857   \n",
       "9                        -0.969                   -0.319                1.167   \n",
       "\n",
       "   Purpose_Car/Education  Purpose_Debt/MajorPurchase  \\\n",
       "0                 -0.117                      -1.946   \n",
       "1                 -0.117                       0.514   \n",
       "2                 -0.117                       0.514   \n",
       "3                 -0.117                       0.514   \n",
       "4                 -0.117                       0.514   \n",
       "5                 -0.117                       0.514   \n",
       "6                 -0.117                       0.514   \n",
       "7                 -0.117                       0.514   \n",
       "8                 -0.117                      -1.946   \n",
       "9                 -0.117                       0.514   \n",
       "\n",
       "   Purpose_HomeImprove/Wedding  Purpose_House/Other  Purpose_Medical/Energy  \\\n",
       "0                        4.010               -0.331                  -0.106   \n",
       "1                       -0.249               -0.331                  -0.106   \n",
       "2                       -0.249               -0.331                  -0.106   \n",
       "3                       -0.249               -0.331                  -0.106   \n",
       "4                       -0.249               -0.331                  -0.106   \n",
       "5                       -0.249               -0.331                  -0.106   \n",
       "6                       -0.249               -0.331                  -0.106   \n",
       "7                       -0.249               -0.331                  -0.106   \n",
       "8                        4.010               -0.331                  -0.106   \n",
       "9                       -0.249               -0.331                  -0.106   \n",
       "\n",
       "   Purpose_Move/Business  Purpose_vacation  Credit Problems_Yes  \n",
       "0                 -0.145            -0.081                0.000  \n",
       "1                 -0.145            -0.081                0.000  \n",
       "2                 -0.145            -0.081                0.000  \n",
       "3                 -0.145            -0.081                0.000  \n",
       "4                 -0.145            -0.081                0.000  \n",
       "5                 -0.145            -0.081                0.000  \n",
       "6                 -0.145            -0.081                0.000  \n",
       "7                 -0.145            -0.081                0.000  \n",
       "8                 -0.145            -0.081                0.000  \n",
       "9                 -0.145            -0.081                0.000  "
      ]
     },
     "execution_count": 315,
     "metadata": {},
     "output_type": "execute_result"
    }
   ],
   "source": [
    "pd.DataFrame(data, columns=data_copy.columns).head(10)"
   ]
  },
  {
   "cell_type": "markdown",
   "id": "131fd9b8",
   "metadata": {},
   "source": [
    "<blockquote>Check that both the target and data sets are numpy arrays.</blockquote>"
   ]
  },
  {
   "cell_type": "code",
   "execution_count": 316,
   "id": "0c005f87",
   "metadata": {},
   "outputs": [
    {
     "name": "stdout",
     "output_type": "stream",
     "text": [
      "data: <class 'numpy.ndarray'>\n",
      "target: <class 'numpy.ndarray'>\n"
     ]
    }
   ],
   "source": [
    "print(\"data:\", type(data))\n",
    "print(\"target:\", type(target))"
   ]
  },
  {
   "cell_type": "markdown",
   "id": "295ef38b",
   "metadata": {},
   "source": [
    "# Sampling & Train/Test Splitting"
   ]
  },
  {
   "cell_type": "markdown",
   "id": "63a58e44",
   "metadata": {},
   "source": [
    "<blockquote>Since the dataset contain 59,021 observations, a smaller sample of 10,000 will be taken for the purpose of faster computation time. The sampled datasets are named data_sample and target_sample.</blockquote>"
   ]
  },
  {
   "cell_type": "code",
   "execution_count": 317,
   "id": "91851de4",
   "metadata": {},
   "outputs": [
    {
     "name": "stdout",
     "output_type": "stream",
     "text": [
      "(10000, 35)\n",
      "(10000, 1)\n"
     ]
    }
   ],
   "source": [
    "n_samples = 10000\n",
    "\n",
    "data_sample = pd.DataFrame(data).sample(n=n_samples, random_state=888).values\n",
    "target_sample = pd.DataFrame(target).sample(n=n_samples, random_state=888).values\n",
    "\n",
    "print(data_sample.shape)\n",
    "print(target_sample.shape)"
   ]
  },
  {
   "cell_type": "markdown",
   "id": "45ae7bdc",
   "metadata": {},
   "source": [
    "<blockquote>The data_sample and target_sample sets are split 70/30 for the respective training and testing sets.\n",
    "</blockquote>"
   ]
  },
  {
   "cell_type": "code",
   "execution_count": 318,
   "id": "c885cc97",
   "metadata": {},
   "outputs": [
    {
     "name": "stdout",
     "output_type": "stream",
     "text": [
      "Data Training Shape: (7000, 35)\n",
      "Data Testing Shape: (3000, 35)\n",
      "Target Training Shape: (7000, 1)\n",
      "Target Testing Shape: (3000, 1)\n"
     ]
    }
   ],
   "source": [
    "d_train, d_test, t_train, t_test = train_test_split(data_sample, \n",
    "                                                    target_sample, \n",
    "                                                    test_size=0.3,\n",
    "                                                    random_state=888,\n",
    "                                                    shuffle=True,\n",
    "                                                    stratify=target_sample)\n",
    "\n",
    "print(\"Data Training Shape:\", d_train.shape)\n",
    "print(\"Data Testing Shape:\", d_test.shape)\n",
    "print(\"Target Training Shape:\", t_train.shape)\n",
    "print(\"Target Testing Shape:\", t_test.shape)\n"
   ]
  },
  {
   "cell_type": "markdown",
   "id": "b897478c",
   "metadata": {},
   "source": [
    "# Hyperparameter & Feature Selection"
   ]
  },
  {
   "cell_type": "markdown",
   "id": "1994a930",
   "metadata": {},
   "source": [
    "<blockquote>For finding the optimal hyper-parameters, stratified k-fold cross validation will be used (with 5 folds and 2 repeats) as to account for the class imbalance of the target feature. Since this project is a binary classification problem with class imbalance, Area Under the ROC Curve (AUC) will be used as the metric to determine the accuracy of each machine learning algorithm. The classification algorithms used are:</blockquote>"
   ]
  },
  {
   "cell_type": "markdown",
   "id": "59cd5130",
   "metadata": {},
   "source": [
    "<ul>\n",
    "    <li>K-Nearest Neighbours (KNN).</li>\n",
    "    <li>Decision Tree (DT)</li>\n",
    "    <li>Naive Bayes (NB).</li>\n",
    "    <li>Logistic Regression (LR)</li>\n",
    "    <li>Random Forest (RF).</li>\n",
    "\n",
    "\n",
    "\n",
    "</ul>"
   ]
  },
  {
   "cell_type": "markdown",
   "id": "d2851541",
   "metadata": {},
   "source": [
    "<blockquote>The feature selection will be done via Random Forest Importance (RFI) using 100 estimators, which will be implemented into the pipeline when searching for each classifier's optimal hyper-parameters. The code chunks below allows RFI to be implemented into the pipeline process as well as defining a function to return the ranked order of each hyper-parameter/feature selection combination.</blockquote>"
   ]
  },
  {
   "cell_type": "code",
   "execution_count": 319,
   "id": "4182ba65",
   "metadata": {},
   "outputs": [],
   "source": [
    "from sklearn.base import BaseEstimator, TransformerMixin\n",
    "\n",
    "class RFIFeatureSelector(BaseEstimator, TransformerMixin):\n",
    "\n",
    "    def __init__(self, n_features_=10):\n",
    "        self.n_features_ = n_features_\n",
    "        self.fs_indices_ = None\n",
    "\n",
    "    def fit(self, X, y):\n",
    "        from sklearn.ensemble import RandomForestClassifier\n",
    "        from numpy import argsort\n",
    "        model_rfi = RandomForestClassifier(n_estimators=100, random_state=888)\n",
    "        model_rfi.fit(X, y)\n",
    "        self.fs_indices_ = argsort(model_rfi.feature_importances_)[::-1][0:self.n_features_] \n",
    "        return self \n",
    "\n",
    "    def transform(self, X, y=None):\n",
    "        return X[:, self.fs_indices_]"
   ]
  },
  {
   "cell_type": "code",
   "execution_count": 320,
   "id": "430fd54d",
   "metadata": {},
   "outputs": [],
   "source": [
    "def get_search_results(gs):\n",
    "    def model_result(scores, params):\n",
    "        scores = {'mean_score': np.mean(scores),\n",
    "             'std_score': np.std(scores),\n",
    "             'min_score': np.min(scores),\n",
    "             'max_score': np.max(scores)}\n",
    "        return pd.Series({**params,**scores})\n",
    "    models = []\n",
    "    scores = []\n",
    "    for i in range(gs.n_splits_):\n",
    "        key = f\"split{i}_test_score\"\n",
    "        r = gs.cv_results_[key]        \n",
    "        scores.append(r.reshape(-1,1))\n",
    "    all_scores = np.hstack(scores)\n",
    "    for p, s in zip(gs.cv_results_['params'], all_scores):\n",
    "        models.append((model_result(s, p)))\n",
    "    pipe_results = pd.concat(models, axis=1).T.sort_values(['mean_score'], ascending=False)\n",
    "    columns_first = ['mean_score', 'std_score', 'max_score', 'min_score']\n",
    "    columns = columns_first + [c for c in pipe_results.columns if c not in columns_first]\n",
    "    return pipe_results[columns]"
   ]
  },
  {
   "cell_type": "code",
   "execution_count": 321,
   "id": "a284f90e",
   "metadata": {},
   "outputs": [],
   "source": [
    "scoring_method = 'roc_auc'\n",
    "cv_method = RepeatedStratifiedKFold(n_splits=5, n_repeats=2, random_state=888) "
   ]
  },
  {
   "cell_type": "markdown",
   "id": "62f57373",
   "metadata": {},
   "source": [
    "<blockquote>Before searching for the optimal hyper-parameters, the full dataset's feature ranks (obtained via RFI) are examined to get an idea of which features are the most important. The bar chart below indicates that 'Annual Income', 'Current Loan Amount', and 'Monthly Debt' are the top three most important features. It can also be observed that the importance values fall significantly after 'Number Open Accounts'.</blockquote>"
   ]
  },
  {
   "cell_type": "code",
   "execution_count": 322,
   "id": "c969ab7e",
   "metadata": {},
   "outputs": [
    {
     "data": {
      "image/png": "[encoded data removed]",
      "text/plain": [
       "<Figure size 1152x360 with 1 Axes>"
      ]
     },
     "metadata": {
      "needs_background": "light"
     },
     "output_type": "display_data"
    }
   ],
   "source": [
    "num_features = len(data)\n",
    "\n",
    "model_rfi = RandomForestClassifier(n_estimators=100)\n",
    "model_rfi.fit(data, target)\n",
    "fs_indices_rfi = np.argsort(model_rfi.feature_importances_)[::-1][0:num_features]\n",
    "\n",
    "best_features_rfi = data_copy.columns[fs_indices_rfi].values\n",
    "feature_importances_rfi = model_rfi.feature_importances_[fs_indices_rfi]\n",
    "\n",
    "imp = pd.DataFrame({'features': best_features_rfi, \n",
    "                    'importances': feature_importances_rfi})\n",
    "\n",
    "chart = sns.catplot(x='features', \n",
    "                    y='importances', \n",
    "                    palette=[\"#3F7EB6\"],\n",
    "                    kind='bar',\n",
    "                    data=imp).set_xticklabels(rotation=90)\n",
    "chart.fig.set_size_inches(16,5)"
   ]
  },
  {
   "cell_type": "markdown",
   "id": "4e29670c",
   "metadata": {},
   "source": [
    "# K-Nearest Neighbours"
   ]
  },
  {
   "cell_type": "markdown",
   "id": "0d7aba0d",
   "metadata": {},
   "source": [
    "<blockquote>The hyper-parameters chosen for KNN are as follows:</blockquote>"
   ]
  },
  {
   "cell_type": "markdown",
   "id": "6d518ce9",
   "metadata": {},
   "source": [
    "<ul>\n",
    "    <li>k: 20, 40, 60, 80, 100.</li>\n",
    "    <li>p: 1 (Manhattan), 2 (Euclidean).</li>\n",
    "    <li>Weights: Unweighted, Weighted.</li>\n",
    "    <li>Features: 10, 20, and 35 (the total number of descriptive features).</li>\n",
    "    <ul>"
   ]
  },
  {
   "cell_type": "code",
   "execution_count": 324,
   "id": "7e7e14c8",
   "metadata": {},
   "outputs": [],
   "source": [
    "pipe_KNN = Pipeline(steps=[('rfi_fs', RFIFeatureSelector()), \n",
    "                           ('knn', KNeighborsClassifier())])\n",
    "\n",
    "params_pipe_KNN = {'rfi_fs__n_features_': [10, 20, data.shape[1]],\n",
    "                   'knn__n_neighbors': [20, 40, 60, 80, 100],\n",
    "                   'knn__p': [1, 2],\n",
    "                   'knn__weights': ['uniform', 'distance']}\n",
    "\n",
    "gs_pipe_KNN = GridSearchCV(estimator=pipe_KNN, \n",
    "                           param_grid=params_pipe_KNN, \n",
    "                           cv=cv_method,\n",
    "                           scoring=scoring_method,\n",
    "                           refit=True,\n",
    "                           verbose=0,\n",
    "                           n_jobs=-1) \n",
    "\n",
    "gs_pipe_KNN.fit(d_train, t_train);"
   ]
  },
  {
   "cell_type": "code",
   "execution_count": 325,
   "id": "6a9366cb",
   "metadata": {},
   "outputs": [
    {
     "name": "stdout",
     "output_type": "stream",
     "text": [
      "Optimal Hyperparameters For KNN: {'knn__n_neighbors': 100, 'knn__p': 1, 'knn__weights': 'distance', 'rfi_fs__n_features_': 10} \n",
      "\n",
      "Optimal AUC Score For KNN: 0.6084777443307762 \n",
      "\n",
      "Optimal Estimator For KNN: Pipeline(steps=[('rfi_fs', RFIFeatureSelector()),\n",
      "                ('knn',\n",
      "                 KNeighborsClassifier(n_neighbors=100, p=1,\n",
      "                                      weights='distance'))])\n"
     ]
    }
   ],
   "source": [
    "print(\"Optimal Hyperparameters For KNN:\", gs_pipe_KNN.best_params_, \"\\n\")\n",
    "print(\"Optimal AUC Score For KNN:\", gs_pipe_KNN.best_score_, \"\\n\")\n",
    "print(\"Optimal Estimator For KNN:\", gs_pipe_KNN.best_estimator_)"
   ]
  },
  {
   "cell_type": "markdown",
   "id": "127747eb",
   "metadata": {},
   "source": [
    "<blockquote>Top five optimal hyper-parameter combinations:</blockquote>"
   ]
  },
  {
   "cell_type": "code",
   "execution_count": 326,
   "id": "2475dc38",
   "metadata": {},
   "outputs": [
    {
     "data": {
      "text/html": [
       "<div>\n",
       "<style scoped>\n",
       "    .dataframe tbody tr th:only-of-type {\n",
       "        vertical-align: middle;\n",
       "    }\n",
       "\n",
       "    .dataframe tbody tr th {\n",
       "        vertical-align: top;\n",
       "    }\n",
       "\n",
       "    .dataframe thead th {\n",
       "        text-align: right;\n",
       "    }\n",
       "</style>\n",
       "<table border=\"1\" class=\"dataframe\">\n",
       "  <thead>\n",
       "    <tr style=\"text-align: right;\">\n",
       "      <th></th>\n",
       "      <th>mean_score</th>\n",
       "      <th>std_score</th>\n",
       "      <th>max_score</th>\n",
       "      <th>min_score</th>\n",
       "      <th>knn__n_neighbors</th>\n",
       "      <th>knn__p</th>\n",
       "      <th>knn__weights</th>\n",
       "      <th>rfi_fs__n_features_</th>\n",
       "    </tr>\n",
       "  </thead>\n",
       "  <tbody>\n",
       "    <tr>\n",
       "      <th>51</th>\n",
       "      <td>0.608</td>\n",
       "      <td>0.013</td>\n",
       "      <td>0.625</td>\n",
       "      <td>0.579</td>\n",
       "      <td>100</td>\n",
       "      <td>1</td>\n",
       "      <td>distance</td>\n",
       "      <td>10</td>\n",
       "    </tr>\n",
       "    <tr>\n",
       "      <th>48</th>\n",
       "      <td>0.608</td>\n",
       "      <td>0.012</td>\n",
       "      <td>0.624</td>\n",
       "      <td>0.579</td>\n",
       "      <td>100</td>\n",
       "      <td>1</td>\n",
       "      <td>uniform</td>\n",
       "      <td>10</td>\n",
       "    </tr>\n",
       "    <tr>\n",
       "      <th>57</th>\n",
       "      <td>0.607</td>\n",
       "      <td>0.013</td>\n",
       "      <td>0.622</td>\n",
       "      <td>0.574</td>\n",
       "      <td>100</td>\n",
       "      <td>2</td>\n",
       "      <td>distance</td>\n",
       "      <td>10</td>\n",
       "    </tr>\n",
       "    <tr>\n",
       "      <th>39</th>\n",
       "      <td>0.606</td>\n",
       "      <td>0.013</td>\n",
       "      <td>0.626</td>\n",
       "      <td>0.575</td>\n",
       "      <td>80</td>\n",
       "      <td>1</td>\n",
       "      <td>distance</td>\n",
       "      <td>10</td>\n",
       "    </tr>\n",
       "    <tr>\n",
       "      <th>36</th>\n",
       "      <td>0.606</td>\n",
       "      <td>0.013</td>\n",
       "      <td>0.626</td>\n",
       "      <td>0.576</td>\n",
       "      <td>80</td>\n",
       "      <td>1</td>\n",
       "      <td>uniform</td>\n",
       "      <td>10</td>\n",
       "    </tr>\n",
       "  </tbody>\n",
       "</table>\n",
       "</div>"
      ],
      "text/plain": [
       "   mean_score std_score max_score min_score knn__n_neighbors knn__p  \\\n",
       "51      0.608     0.013     0.625     0.579              100      1   \n",
       "48      0.608     0.012     0.624     0.579              100      1   \n",
       "57      0.607     0.013     0.622     0.574              100      2   \n",
       "39      0.606     0.013     0.626     0.575               80      1   \n",
       "36      0.606     0.013     0.626     0.576               80      1   \n",
       "\n",
       "   knn__weights rfi_fs__n_features_  \n",
       "51     distance                  10  \n",
       "48      uniform                  10  \n",
       "57     distance                  10  \n",
       "39     distance                  10  \n",
       "36      uniform                  10  "
      ]
     },
     "execution_count": 326,
     "metadata": {},
     "output_type": "execute_result"
    }
   ],
   "source": [
    "results_KNN = get_search_results(gs_pipe_KNN)\n",
    "results_KNN.head(5)"
   ]
  },
  {
   "cell_type": "markdown",
   "id": "cd82e82a",
   "metadata": {},
   "source": [
    "<blockquote>The best KNN hyper-parameter was found using 10 features, 100 neighbours, Manhattan distance (p = 1), and weighting the points by the inverse of their distance. This model has an AUC score of 0.608.</blockquote>"
   ]
  },
  {
   "cell_type": "markdown",
   "id": "34df9188",
   "metadata": {},
   "source": [
    "<blockquote>Looking at the optimal hyper-parameter combination, it performed best with 10 features, hence the KNN hyper-parameters are plotted below given that 10 features are used. The plot indicates that the local maxima has not been reached since the AUC score keeps increasing with higher k values.</blockquote>"
   ]
  },
  {
   "cell_type": "code",
   "execution_count": 327,
   "id": "9839c1cc",
   "metadata": {},
   "outputs": [
    {
     "data": {
      "image/png": "[encoded data removed]",
      "text/plain": [
       "<Figure size 762.75x360 with 2 Axes>"
      ]
     },
     "metadata": {
      "needs_background": "light"
     },
     "output_type": "display_data"
    }
   ],
   "source": [
    "results_KNN_10_features  = results_KNN[results_KNN['rfi_fs__n_features_'] == 10.0]\n",
    "results_KNN_10_features['mean_score'] = results_KNN_10_features['mean_score'].astype(float)\n",
    "results_KNN_10_features['knn__n_neighbors'] = results_KNN_10_features['knn__n_neighbors'].astype(int)\n",
    "results_KNN_10_features['knn__p'] = results_KNN_10_features['knn__p'].astype(int)\n",
    "\n",
    "knn = sns.relplot(x='knn__n_neighbors', \n",
    "                  y='mean_score', \n",
    "                  hue='knn__p', \n",
    "                  col='knn__weights', \n",
    "                  palette=[\"#3F7EB6\", \"#D6861A\"],\n",
    "                  kind='line', \n",
    "                  data=results_KNN_10_features)"
   ]
  },
  {
   "cell_type": "markdown",
   "id": "01e3f706",
   "metadata": {},
   "source": [
    "<blockquote>The KNN hyper-parameter grid space is searched again, this time with k values being: 200, 250, 300, 350, 400.</blockquote>"
   ]
  },
  {
   "cell_type": "code",
   "execution_count": 328,
   "id": "0de8c8dd",
   "metadata": {},
   "outputs": [],
   "source": [
    "pipe_KNN = Pipeline(steps=[('rfi_fs', RFIFeatureSelector()), \n",
    "                           ('knn', KNeighborsClassifier())])\n",
    "\n",
    "params_pipe_KNN = {'rfi_fs__n_features_': [10, 20, data.shape[1]],\n",
    "                   'knn__n_neighbors': [200, 250, 300, 350, 400],\n",
    "                   'knn__p': [1, 2],\n",
    "                   'knn__weights': ['uniform', 'distance']}\n",
    "\n",
    "gs_pipe_KNN = GridSearchCV(estimator=pipe_KNN, \n",
    "                           param_grid=params_pipe_KNN, \n",
    "                           cv=cv_method,\n",
    "                           scoring=scoring_method,\n",
    "                           refit=True,\n",
    "                           verbose=0,\n",
    "                           n_jobs=-1) \n",
    "\n",
    "gs_pipe_KNN.fit(d_train, t_train);"
   ]
  },
  {
   "cell_type": "code",
   "execution_count": 329,
   "id": "bc284b07",
   "metadata": {},
   "outputs": [
    {
     "name": "stdout",
     "output_type": "stream",
     "text": [
      "Optimal Hyperparameters For KNN: {'knn__n_neighbors': 300, 'knn__p': 1, 'knn__weights': 'distance', 'rfi_fs__n_features_': 10} \n",
      "\n",
      "Optimal AUC Score For KNN: 0.6196732369564154 \n",
      "\n",
      "Optimal Estimator For KNN: Pipeline(steps=[('rfi_fs', RFIFeatureSelector()),\n",
      "                ('knn',\n",
      "                 KNeighborsClassifier(n_neighbors=300, p=1,\n",
      "                                      weights='distance'))])\n"
     ]
    }
   ],
   "source": [
    "print(\"Optimal Hyperparameters For KNN:\", gs_pipe_KNN.best_params_, \"\\n\")\n",
    "print(\"Optimal AUC Score For KNN:\", gs_pipe_KNN.best_score_, \"\\n\")\n",
    "print(\"Optimal Estimator For KNN:\", gs_pipe_KNN.best_estimator_)"
   ]
  },
  {
   "cell_type": "markdown",
   "id": "62ec6903",
   "metadata": {},
   "source": [
    "<blockquote>Top five optimal hyper-parameter combinations:</blockquote>"
   ]
  },
  {
   "cell_type": "code",
   "execution_count": 330,
   "id": "bd8f5eb5",
   "metadata": {},
   "outputs": [
    {
     "data": {
      "text/html": [
       "<div>\n",
       "<style scoped>\n",
       "    .dataframe tbody tr th:only-of-type {\n",
       "        vertical-align: middle;\n",
       "    }\n",
       "\n",
       "    .dataframe tbody tr th {\n",
       "        vertical-align: top;\n",
       "    }\n",
       "\n",
       "    .dataframe thead th {\n",
       "        text-align: right;\n",
       "    }\n",
       "</style>\n",
       "<table border=\"1\" class=\"dataframe\">\n",
       "  <thead>\n",
       "    <tr style=\"text-align: right;\">\n",
       "      <th></th>\n",
       "      <th>mean_score</th>\n",
       "      <th>std_score</th>\n",
       "      <th>max_score</th>\n",
       "      <th>min_score</th>\n",
       "      <th>knn__n_neighbors</th>\n",
       "      <th>knn__p</th>\n",
       "      <th>knn__weights</th>\n",
       "      <th>rfi_fs__n_features_</th>\n",
       "    </tr>\n",
       "  </thead>\n",
       "  <tbody>\n",
       "    <tr>\n",
       "      <th>27</th>\n",
       "      <td>0.620</td>\n",
       "      <td>0.010</td>\n",
       "      <td>0.630</td>\n",
       "      <td>0.594</td>\n",
       "      <td>300</td>\n",
       "      <td>1</td>\n",
       "      <td>distance</td>\n",
       "      <td>10</td>\n",
       "    </tr>\n",
       "    <tr>\n",
       "      <th>24</th>\n",
       "      <td>0.620</td>\n",
       "      <td>0.009</td>\n",
       "      <td>0.629</td>\n",
       "      <td>0.596</td>\n",
       "      <td>300</td>\n",
       "      <td>1</td>\n",
       "      <td>uniform</td>\n",
       "      <td>10</td>\n",
       "    </tr>\n",
       "    <tr>\n",
       "      <th>39</th>\n",
       "      <td>0.620</td>\n",
       "      <td>0.012</td>\n",
       "      <td>0.634</td>\n",
       "      <td>0.592</td>\n",
       "      <td>350</td>\n",
       "      <td>1</td>\n",
       "      <td>distance</td>\n",
       "      <td>10</td>\n",
       "    </tr>\n",
       "    <tr>\n",
       "      <th>36</th>\n",
       "      <td>0.619</td>\n",
       "      <td>0.012</td>\n",
       "      <td>0.634</td>\n",
       "      <td>0.592</td>\n",
       "      <td>350</td>\n",
       "      <td>1</td>\n",
       "      <td>uniform</td>\n",
       "      <td>10</td>\n",
       "    </tr>\n",
       "    <tr>\n",
       "      <th>51</th>\n",
       "      <td>0.619</td>\n",
       "      <td>0.010</td>\n",
       "      <td>0.630</td>\n",
       "      <td>0.595</td>\n",
       "      <td>400</td>\n",
       "      <td>1</td>\n",
       "      <td>distance</td>\n",
       "      <td>10</td>\n",
       "    </tr>\n",
       "  </tbody>\n",
       "</table>\n",
       "</div>"
      ],
      "text/plain": [
       "   mean_score std_score max_score min_score knn__n_neighbors knn__p  \\\n",
       "27      0.620     0.010     0.630     0.594              300      1   \n",
       "24      0.620     0.009     0.629     0.596              300      1   \n",
       "39      0.620     0.012     0.634     0.592              350      1   \n",
       "36      0.619     0.012     0.634     0.592              350      1   \n",
       "51      0.619     0.010     0.630     0.595              400      1   \n",
       "\n",
       "   knn__weights rfi_fs__n_features_  \n",
       "27     distance                  10  \n",
       "24      uniform                  10  \n",
       "39     distance                  10  \n",
       "36      uniform                  10  \n",
       "51     distance                  10  "
      ]
     },
     "execution_count": 330,
     "metadata": {},
     "output_type": "execute_result"
    }
   ],
   "source": [
    "results_KNN = get_search_results(gs_pipe_KNN)\n",
    "results_KNN.head(5)"
   ]
  },
  {
   "cell_type": "markdown",
   "id": "6e12c28f",
   "metadata": {},
   "source": [
    "<blockquote>A new optimal value for k is found to be 300, with a new AUC score of 0.620, which was an increase from the first model found.</blockquote>"
   ]
  },
  {
   "cell_type": "markdown",
   "id": "301416bd",
   "metadata": {},
   "source": [
    "<blockquote>Looking at the optimal hyper-parameter combination, it performed best with 10 features, hence the KNN hyper-parameters are plotted below given that 10 features are used. This time, the plot indicates a local maxima.</blockquote>"
   ]
  },
  {
   "cell_type": "code",
   "execution_count": 331,
   "id": "591b077d",
   "metadata": {},
   "outputs": [
    {
     "data": {
      "image/png": "[encoded data removed]",
      "text/plain": [
       "<Figure size 762.75x360 with 2 Axes>"
      ]
     },
     "metadata": {
      "needs_background": "light"
     },
     "output_type": "display_data"
    }
   ],
   "source": [
    "results_KNN_10_features  = results_KNN[results_KNN['rfi_fs__n_features_'] == 10.0]\n",
    "results_KNN_10_features['mean_score'] = results_KNN_10_features['mean_score'].astype(float)\n",
    "results_KNN_10_features['knn__n_neighbors'] = results_KNN_10_features['knn__n_neighbors'].astype(int)\n",
    "results_KNN_10_features['knn__p'] = results_KNN_10_features['knn__p'].astype(int)\n",
    "\n",
    "knn = sns.relplot(x='knn__n_neighbors', \n",
    "                  y='mean_score', \n",
    "                  hue='knn__p', \n",
    "                  col='knn__weights', \n",
    "                  palette=[\"#3F7EB6\", \"#D6861A\"],\n",
    "                  kind='line', \n",
    "                  data=results_KNN_10_features)"
   ]
  },
  {
   "cell_type": "markdown",
   "id": "afb51a65",
   "metadata": {},
   "source": [
    "# Decision Tree"
   ]
  },
  {
   "cell_type": "markdown",
   "id": "beda8e08",
   "metadata": {},
   "source": [
    "<blockquote>The hyper-parameters chosen for DT are as follows</blockquote>"
   ]
  },
  {
   "cell_type": "markdown",
   "id": "64c8d028",
   "metadata": {},
   "source": [
    "<ul>\n",
    "    <li>Maximum Depth: 3, 5, 10, 15, 20.</li>\n",
    "    <li>Minimum Samples Split: 2, 5, 7, 9, 11.</li>\n",
    "    <li>Criterion: Entropy, Gini Index.</li>\n",
    "    <li>Features: 10, 20 , full set (35).</li>\n",
    "     <ul>"
   ]
  },
  {
   "cell_type": "code",
   "execution_count": 332,
   "id": "39d5df26",
   "metadata": {},
   "outputs": [],
   "source": [
    "pipe_DT = Pipeline(steps=[('rfi_fs', RFIFeatureSelector()), \n",
    "                          ('dt', DecisionTreeClassifier())])\n",
    "\n",
    "params_pipe_DT = {'rfi_fs__n_features_': [10, 20, data.shape[1]],\n",
    "                  'dt__max_depth': [3, 5, 10, 15, 20],\n",
    "                  'dt__min_samples_split': [2, 5, 7, 9, 11],\n",
    "                  'dt__criterion': ['gini', 'entropy']}\n",
    "\n",
    "gs_pipe_DT = GridSearchCV(estimator=pipe_DT, \n",
    "                          param_grid=params_pipe_DT, \n",
    "                          cv=cv_method,\n",
    "                          scoring=scoring_method,\n",
    "                          refit=True,\n",
    "                          verbose=0,\n",
    "                          n_jobs=-1) \n",
    "\n",
    "gs_pipe_DT.fit(d_train, t_train);"
   ]
  },
  {
   "cell_type": "code",
   "execution_count": 333,
   "id": "902b119f",
   "metadata": {},
   "outputs": [
    {
     "name": "stdout",
     "output_type": "stream",
     "text": [
      "Optimal Hyperparameters For DT: {'dt__criterion': 'gini', 'dt__max_depth': 3, 'dt__min_samples_split': 2, 'rfi_fs__n_features_': 10} \n",
      "\n",
      "Optimal AUC Score For DT: 0.6011118435635406 \n",
      "\n",
      "Optimal Estimator For DT: Pipeline(steps=[('rfi_fs', RFIFeatureSelector()),\n",
      "                ('dt', DecisionTreeClassifier(max_depth=3))])\n"
     ]
    }
   ],
   "source": [
    "print(\"Optimal Hyperparameters For DT:\", gs_pipe_DT.best_params_, \"\\n\")\n",
    "print(\"Optimal AUC Score For DT:\", gs_pipe_DT.best_score_, \"\\n\")\n",
    "print(\"Optimal Estimator For DT:\", gs_pipe_DT.best_estimator_)"
   ]
  },
  {
   "cell_type": "markdown",
   "id": "4a2bed40",
   "metadata": {},
   "source": [
    "<blockquote>Top five optimal hyper-parameter combinations:\n",
    "\n",
    "</blockquote>"
   ]
  },
  {
   "cell_type": "code",
   "execution_count": 334,
   "id": "9dd20a59",
   "metadata": {},
   "outputs": [
    {
     "data": {
      "text/html": [
       "<div>\n",
       "<style scoped>\n",
       "    .dataframe tbody tr th:only-of-type {\n",
       "        vertical-align: middle;\n",
       "    }\n",
       "\n",
       "    .dataframe tbody tr th {\n",
       "        vertical-align: top;\n",
       "    }\n",
       "\n",
       "    .dataframe thead th {\n",
       "        text-align: right;\n",
       "    }\n",
       "</style>\n",
       "<table border=\"1\" class=\"dataframe\">\n",
       "  <thead>\n",
       "    <tr style=\"text-align: right;\">\n",
       "      <th></th>\n",
       "      <th>mean_score</th>\n",
       "      <th>std_score</th>\n",
       "      <th>max_score</th>\n",
       "      <th>min_score</th>\n",
       "      <th>dt__criterion</th>\n",
       "      <th>dt__max_depth</th>\n",
       "      <th>dt__min_samples_split</th>\n",
       "      <th>rfi_fs__n_features_</th>\n",
       "    </tr>\n",
       "  </thead>\n",
       "  <tbody>\n",
       "    <tr>\n",
       "      <th>0</th>\n",
       "      <td>0.601</td>\n",
       "      <td>0.006</td>\n",
       "      <td>0.609</td>\n",
       "      <td>0.589</td>\n",
       "      <td>gini</td>\n",
       "      <td>3</td>\n",
       "      <td>2</td>\n",
       "      <td>10</td>\n",
       "    </tr>\n",
       "    <tr>\n",
       "      <th>8</th>\n",
       "      <td>0.601</td>\n",
       "      <td>0.006</td>\n",
       "      <td>0.609</td>\n",
       "      <td>0.589</td>\n",
       "      <td>gini</td>\n",
       "      <td>3</td>\n",
       "      <td>7</td>\n",
       "      <td>35</td>\n",
       "    </tr>\n",
       "    <tr>\n",
       "      <th>14</th>\n",
       "      <td>0.601</td>\n",
       "      <td>0.006</td>\n",
       "      <td>0.609</td>\n",
       "      <td>0.589</td>\n",
       "      <td>gini</td>\n",
       "      <td>3</td>\n",
       "      <td>11</td>\n",
       "      <td>35</td>\n",
       "    </tr>\n",
       "    <tr>\n",
       "      <th>13</th>\n",
       "      <td>0.601</td>\n",
       "      <td>0.006</td>\n",
       "      <td>0.609</td>\n",
       "      <td>0.589</td>\n",
       "      <td>gini</td>\n",
       "      <td>3</td>\n",
       "      <td>11</td>\n",
       "      <td>20</td>\n",
       "    </tr>\n",
       "    <tr>\n",
       "      <th>12</th>\n",
       "      <td>0.601</td>\n",
       "      <td>0.006</td>\n",
       "      <td>0.609</td>\n",
       "      <td>0.589</td>\n",
       "      <td>gini</td>\n",
       "      <td>3</td>\n",
       "      <td>11</td>\n",
       "      <td>10</td>\n",
       "    </tr>\n",
       "  </tbody>\n",
       "</table>\n",
       "</div>"
      ],
      "text/plain": [
       "   mean_score std_score max_score min_score dt__criterion dt__max_depth  \\\n",
       "0       0.601     0.006     0.609     0.589          gini             3   \n",
       "8       0.601     0.006     0.609     0.589          gini             3   \n",
       "14      0.601     0.006     0.609     0.589          gini             3   \n",
       "13      0.601     0.006     0.609     0.589          gini             3   \n",
       "12      0.601     0.006     0.609     0.589          gini             3   \n",
       "\n",
       "   dt__min_samples_split rfi_fs__n_features_  \n",
       "0                      2                  10  \n",
       "8                      7                  35  \n",
       "14                    11                  35  \n",
       "13                    11                  20  \n",
       "12                    11                  10  "
      ]
     },
     "execution_count": 334,
     "metadata": {},
     "output_type": "execute_result"
    }
   ],
   "source": [
    "results_DT = get_search_results(gs_pipe_DT)\n",
    "results_DT.head(5)"
   ]
  },
  {
   "cell_type": "markdown",
   "id": "798aa759",
   "metadata": {},
   "source": [
    "<blockquote>The DT with the best score of 0.601 was found using the Gini index to maximize information gain with a maximum depth of 3 and a minimum sample split of 2, using 10 features.</blockquote>"
   ]
  },
  {
   "cell_type": "markdown",
   "id": "7c49418c",
   "metadata": {},
   "source": [
    "<blockquote>Since it performed best with 10 features, the DT hyper-parameters are plotted below given that 10 features are used. It can be seen that on the Gini Index plot (left), the light blue line seems to be flat without any obvious increase in value, meaning that there isn't much change in ROC score given changes in minimum samples split.</blockquote>"
   ]
  },
  {
   "cell_type": "code",
   "execution_count": 335,
   "id": "605e5a15",
   "metadata": {},
   "outputs": [
    {
     "data": {
      "image/png": "[encoded data removed]",
      "text/plain": [
       "<Figure size 803.875x360 with 2 Axes>"
      ]
     },
     "metadata": {
      "needs_background": "light"
     },
     "output_type": "display_data"
    }
   ],
   "source": [
    "results_DT_10_features  = results_DT[results_DT['rfi_fs__n_features_'] == 10.0]\n",
    "results_DT_10_features['mean_score'] = results_DT_10_features['mean_score'].astype(float)\n",
    "results_DT_10_features['dt__min_samples_split'] =results_DT_10_features['dt__min_samples_split'].astype(int)\n",
    "results_DT_10_features['dt__max_depth'] =results_DT_10_features['dt__max_depth'].astype(int)\n",
    "\n",
    "dt = sns.relplot(x='dt__min_samples_split', \n",
    "                 y='mean_score', \n",
    "                 hue='dt__max_depth', \n",
    "                 col='dt__criterion', \n",
    "                 palette=[\"#3F7EB6\", \"#D6861A\", \"g\", \"purple\", \"navy\"], \n",
    "                 kind='line', \n",
    "                 data=results_DT_10_features)"
   ]
  },
  {
   "cell_type": "markdown",
   "id": "21f34a8e",
   "metadata": {},
   "source": [
    "# Naïve Bayes"
   ]
  },
  {
   "cell_type": "markdown",
   "id": "0699e465",
   "metadata": {},
   "source": [
    "<blockquote>The hyper-parameter for NB is the variance smoothing, where 50 randomly chosen values from 200 different values created within a logspace between -2 and 2 are used. As some of the features were not normally distributed as shown in the data exploration and visualisation, a power transformation is applied to the descriptive features.</blockquote>"
   ]
  },
  {
   "cell_type": "code",
   "execution_count": 336,
   "id": "0f1ed3f8",
   "metadata": {},
   "outputs": [],
   "source": [
    "d_train_transformed = PowerTransformer().fit_transform(d_train)"
   ]
  },
  {
   "cell_type": "code",
   "execution_count": 337,
   "id": "862447ee",
   "metadata": {},
   "outputs": [],
   "source": [
    "pipe_NB = Pipeline(steps=[('rfi_fs', RFIFeatureSelector()), \n",
    "                          ('nb', GaussianNB())])\n",
    "\n",
    "params_pipe_NB = {'rfi_fs__n_features_': [10, 20, data.shape[1]],\n",
    "                  'nb__var_smoothing': np.logspace(2, -2, num = 200)}\n",
    "\n",
    "gs_pipe_NB = RandomizedSearchCV(estimator=pipe_NB, \n",
    "                                param_distributions=params_pipe_NB, \n",
    "                                cv=cv_method,\n",
    "                                scoring=scoring_method,\n",
    "                                n_iter = 50,\n",
    "                                refit=True,\n",
    "                                verbose=0,\n",
    "                                n_jobs=-1) \n",
    "\n",
    "gs_pipe_NB.fit(d_train_transformed, t_train);"
   ]
  },
  {
   "cell_type": "code",
   "execution_count": 338,
   "id": "9d21123b",
   "metadata": {},
   "outputs": [
    {
     "name": "stdout",
     "output_type": "stream",
     "text": [
      "Optimal Hyperparameters For NB: {'rfi_fs__n_features_': 10, 'nb__var_smoothing': 0.32176417502507354} \n",
      "\n",
      "Optimal AUC Score For NB: 0.624165798189884 \n",
      "\n",
      "Optimal Estimator For NB: Pipeline(steps=[('rfi_fs', RFIFeatureSelector()),\n",
      "                ('nb', GaussianNB(var_smoothing=0.32176417502507354))])\n"
     ]
    }
   ],
   "source": [
    "print(\"Optimal Hyperparameters For NB:\", gs_pipe_NB.best_params_, \"\\n\")\n",
    "print(\"Optimal AUC Score For NB:\", gs_pipe_NB.best_score_, \"\\n\")\n",
    "print(\"Optimal Estimator For NB:\", gs_pipe_NB.best_estimator_)"
   ]
  },
  {
   "cell_type": "markdown",
   "id": "df58448d",
   "metadata": {},
   "source": [
    "<blockquote>Top five optimal hyper-parameter combinations:</blockquote>"
   ]
  },
  {
   "cell_type": "code",
   "execution_count": 340,
   "id": "6e208fa2",
   "metadata": {},
   "outputs": [
    {
     "data": {
      "text/html": [
       "<div>\n",
       "<style scoped>\n",
       "    .dataframe tbody tr th:only-of-type {\n",
       "        vertical-align: middle;\n",
       "    }\n",
       "\n",
       "    .dataframe tbody tr th {\n",
       "        vertical-align: top;\n",
       "    }\n",
       "\n",
       "    .dataframe thead th {\n",
       "        text-align: right;\n",
       "    }\n",
       "</style>\n",
       "<table border=\"1\" class=\"dataframe\">\n",
       "  <thead>\n",
       "    <tr style=\"text-align: right;\">\n",
       "      <th></th>\n",
       "      <th>mean_score</th>\n",
       "      <th>std_score</th>\n",
       "      <th>max_score</th>\n",
       "      <th>min_score</th>\n",
       "      <th>rfi_fs__n_features_</th>\n",
       "      <th>nb__var_smoothing</th>\n",
       "    </tr>\n",
       "  </thead>\n",
       "  <tbody>\n",
       "    <tr>\n",
       "      <th>46</th>\n",
       "      <td>0.624</td>\n",
       "      <td>0.008</td>\n",
       "      <td>0.635</td>\n",
       "      <td>0.609</td>\n",
       "      <td>10.000</td>\n",
       "      <td>0.322</td>\n",
       "    </tr>\n",
       "    <tr>\n",
       "      <th>10</th>\n",
       "      <td>0.624</td>\n",
       "      <td>0.008</td>\n",
       "      <td>0.635</td>\n",
       "      <td>0.608</td>\n",
       "      <td>10.000</td>\n",
       "      <td>0.293</td>\n",
       "    </tr>\n",
       "    <tr>\n",
       "      <th>20</th>\n",
       "      <td>0.624</td>\n",
       "      <td>0.008</td>\n",
       "      <td>0.636</td>\n",
       "      <td>0.609</td>\n",
       "      <td>10.000</td>\n",
       "      <td>0.561</td>\n",
       "    </tr>\n",
       "    <tr>\n",
       "      <th>29</th>\n",
       "      <td>0.624</td>\n",
       "      <td>0.008</td>\n",
       "      <td>0.635</td>\n",
       "      <td>0.609</td>\n",
       "      <td>10.000</td>\n",
       "      <td>0.488</td>\n",
       "    </tr>\n",
       "    <tr>\n",
       "      <th>30</th>\n",
       "      <td>0.624</td>\n",
       "      <td>0.008</td>\n",
       "      <td>0.636</td>\n",
       "      <td>0.610</td>\n",
       "      <td>10.000</td>\n",
       "      <td>0.615</td>\n",
       "    </tr>\n",
       "  </tbody>\n",
       "</table>\n",
       "</div>"
      ],
      "text/plain": [
       "    mean_score  std_score  max_score  min_score  rfi_fs__n_features_  \\\n",
       "46       0.624      0.008      0.635      0.609               10.000   \n",
       "10       0.624      0.008      0.635      0.608               10.000   \n",
       "20       0.624      0.008      0.636      0.609               10.000   \n",
       "29       0.624      0.008      0.635      0.609               10.000   \n",
       "30       0.624      0.008      0.636      0.610               10.000   \n",
       "\n",
       "    nb__var_smoothing  \n",
       "46              0.322  \n",
       "10              0.293  \n",
       "20              0.561  \n",
       "29              0.488  \n",
       "30              0.615  "
      ]
     },
     "execution_count": 340,
     "metadata": {},
     "output_type": "execute_result"
    }
   ],
   "source": [
    "results_NB = get_search_results(gs_pipe_NB)\n",
    "results_NB.head(5)"
   ]
  },
  {
   "cell_type": "markdown",
   "id": "e839d546",
   "metadata": {},
   "source": [
    "<blockquote>The optimal value of the hyper-parameter for NB is found to be a variance smoothing of 0.322 resulting in an AUC score of 0.624 using 10 features.</blockquote>"
   ]
  },
  {
   "cell_type": "markdown",
   "id": "7b78bb33",
   "metadata": {},
   "source": [
    "<blockquote>Since it performed best with 10 features, the NB hyper-parameter is plotted below given that 10 features are used. The plot indicates that the optimal score is around the local maxima.</blockquote>"
   ]
  },
  {
   "cell_type": "code",
   "execution_count": 341,
   "id": "9ed4e23b",
   "metadata": {},
   "outputs": [
    {
     "data": {
      "image/png": "[encoded data removed]",
      "text/plain": [
       "<Figure size 360x360 with 1 Axes>"
      ]
     },
     "metadata": {
      "needs_background": "light"
     },
     "output_type": "display_data"
    }
   ],
   "source": [
    "results_NB_10_features  = results_NB[results_NB['rfi_fs__n_features_'] == 10.0]\n",
    "results_NB_10_features['mean_score'] = results_NB_10_features['mean_score'].astype(float)\n",
    "results_NB_10_features['nb__var_smoothing'] = results_NB_10_features['nb__var_smoothing'].astype(float)\n",
    "\n",
    "knn = sns.relplot(x='nb__var_smoothing' , y='mean_score',kind='line', data=results_NB_10_features)"
   ]
  },
  {
   "cell_type": "markdown",
   "id": "7f3dac40",
   "metadata": {},
   "source": [
    "# Logistic Regression"
   ]
  },
  {
   "cell_type": "markdown",
   "id": "e77f3842",
   "metadata": {},
   "source": [
    "<blockquote>The hyper-parameters used for LR are as follows:</blockquote>"
   ]
  },
  {
   "cell_type": "markdown",
   "id": "38c328a9",
   "metadata": {},
   "source": [
    "<ul>\n",
    "    <li>Penalty: L1, L2.</li>\n",
    "    <li>Features: 10, 15, 20, 25, full set (35).</li>\n",
    "</ul>"
   ]
  },
  {
   "cell_type": "code",
   "execution_count": 342,
   "id": "155e70ec",
   "metadata": {},
   "outputs": [],
   "source": [
    "pipe_LR = Pipeline(steps=[('rfi_fs', RFIFeatureSelector()), \n",
    "                          ('lr', LogisticRegression(solver='saga'))])\n",
    "\n",
    "params_pipe_LR = {'rfi_fs__n_features_': [10, 15, 20, 25, data.shape[1]],\n",
    "                  'lr__penalty': ['l1', 'l2']}\n",
    "\n",
    "gs_pipe_LR = GridSearchCV(estimator=pipe_LR, \n",
    "                          param_grid=params_pipe_LR, \n",
    "                          cv=cv_method,\n",
    "                          scoring=scoring_method,\n",
    "                          refit=True,\n",
    "                          verbose=0,\n",
    "                          n_jobs=-1) \n",
    "\n",
    "gs_pipe_LR.fit(d_train, t_train);"
   ]
  },
  {
   "cell_type": "code",
   "execution_count": 343,
   "id": "8c12a820",
   "metadata": {},
   "outputs": [
    {
     "name": "stdout",
     "output_type": "stream",
     "text": [
      "Optimal Features For LR: {'lr__penalty': 'l1', 'rfi_fs__n_features_': 15} \n",
      "\n",
      "Optimal AUC Score For LR: 0.6355972552161018 \n",
      "\n",
      "Optimal Estimator For LR: Pipeline(steps=[('rfi_fs', RFIFeatureSelector(n_features_=15)),\n",
      "                ('lr', LogisticRegression(penalty='l1', solver='saga'))])\n"
     ]
    }
   ],
   "source": [
    "print(\"Optimal Features For LR:\", gs_pipe_LR.best_params_, \"\\n\")\n",
    "print(\"Optimal AUC Score For LR:\", gs_pipe_LR.best_score_, \"\\n\")\n",
    "print(\"Optimal Estimator For LR:\", gs_pipe_LR.best_estimator_)"
   ]
  },
  {
   "cell_type": "markdown",
   "id": "f826687e",
   "metadata": {},
   "source": [
    "<blockquote>Top five optimal hyper-parameter combinations:</blockquote>"
   ]
  },
  {
   "cell_type": "code",
   "execution_count": 344,
   "id": "c1622bc7",
   "metadata": {},
   "outputs": [
    {
     "data": {
      "text/html": [
       "<div>\n",
       "<style scoped>\n",
       "    .dataframe tbody tr th:only-of-type {\n",
       "        vertical-align: middle;\n",
       "    }\n",
       "\n",
       "    .dataframe tbody tr th {\n",
       "        vertical-align: top;\n",
       "    }\n",
       "\n",
       "    .dataframe thead th {\n",
       "        text-align: right;\n",
       "    }\n",
       "</style>\n",
       "<table border=\"1\" class=\"dataframe\">\n",
       "  <thead>\n",
       "    <tr style=\"text-align: right;\">\n",
       "      <th></th>\n",
       "      <th>mean_score</th>\n",
       "      <th>std_score</th>\n",
       "      <th>max_score</th>\n",
       "      <th>min_score</th>\n",
       "      <th>lr__penalty</th>\n",
       "      <th>rfi_fs__n_features_</th>\n",
       "    </tr>\n",
       "  </thead>\n",
       "  <tbody>\n",
       "    <tr>\n",
       "      <th>1</th>\n",
       "      <td>0.636</td>\n",
       "      <td>0.006</td>\n",
       "      <td>0.646</td>\n",
       "      <td>0.627</td>\n",
       "      <td>l1</td>\n",
       "      <td>15</td>\n",
       "    </tr>\n",
       "    <tr>\n",
       "      <th>6</th>\n",
       "      <td>0.635</td>\n",
       "      <td>0.006</td>\n",
       "      <td>0.646</td>\n",
       "      <td>0.626</td>\n",
       "      <td>l2</td>\n",
       "      <td>15</td>\n",
       "    </tr>\n",
       "    <tr>\n",
       "      <th>0</th>\n",
       "      <td>0.634</td>\n",
       "      <td>0.008</td>\n",
       "      <td>0.647</td>\n",
       "      <td>0.623</td>\n",
       "      <td>l1</td>\n",
       "      <td>10</td>\n",
       "    </tr>\n",
       "    <tr>\n",
       "      <th>5</th>\n",
       "      <td>0.634</td>\n",
       "      <td>0.008</td>\n",
       "      <td>0.647</td>\n",
       "      <td>0.623</td>\n",
       "      <td>l2</td>\n",
       "      <td>10</td>\n",
       "    </tr>\n",
       "    <tr>\n",
       "      <th>2</th>\n",
       "      <td>0.634</td>\n",
       "      <td>0.007</td>\n",
       "      <td>0.647</td>\n",
       "      <td>0.622</td>\n",
       "      <td>l1</td>\n",
       "      <td>20</td>\n",
       "    </tr>\n",
       "  </tbody>\n",
       "</table>\n",
       "</div>"
      ],
      "text/plain": [
       "  mean_score std_score max_score min_score lr__penalty rfi_fs__n_features_\n",
       "1      0.636     0.006     0.646     0.627          l1                  15\n",
       "6      0.635     0.006     0.646     0.626          l2                  15\n",
       "0      0.634     0.008     0.647     0.623          l1                  10\n",
       "5      0.634     0.008     0.647     0.623          l2                  10\n",
       "2      0.634     0.007     0.647     0.622          l1                  20"
      ]
     },
     "execution_count": 344,
     "metadata": {},
     "output_type": "execute_result"
    }
   ],
   "source": [
    "results_LR = get_search_results(gs_pipe_LR)\n",
    "results_LR.head(5)"
   ]
  },
  {
   "cell_type": "markdown",
   "id": "6babba89",
   "metadata": {},
   "source": [
    "<blockquote>The optimal LR model has an AUC score of 0.636 with an L1 penalty and using 15 features.</blockquote>"
   ]
  },
  {
   "cell_type": "markdown",
   "id": "9984ead6",
   "metadata": {},
   "source": [
    "<blockquote>The plot below indicates that the optimal score (15 features) is around the local maximum.</blockquote>"
   ]
  },
  {
   "cell_type": "code",
   "execution_count": 345,
   "id": "d7ea1481",
   "metadata": {},
   "outputs": [
    {
     "data": {
      "image/png": "[encoded data removed]",
      "text/plain": [
       "<Figure size 720x360 with 2 Axes>"
      ]
     },
     "metadata": {
      "needs_background": "light"
     },
     "output_type": "display_data"
    }
   ],
   "source": [
    "results_LR['rfi_fs__n_features_']  = results_LR['rfi_fs__n_features_'].astype(int)\n",
    "results_LR['mean_score'] = results_LR['mean_score'].astype(float)\n",
    "\n",
    "lr = sns.relplot(x='rfi_fs__n_features_', \n",
    "                 y='mean_score', \n",
    "                 col='lr__penalty', \n",
    "                 palette=[\"b\"], \n",
    "                 kind='line', \n",
    "                 data=results_LR)"
   ]
  },
  {
   "cell_type": "markdown",
   "id": "c16e5b78",
   "metadata": {},
   "source": [
    "# Random Forest"
   ]
  },
  {
   "cell_type": "markdown",
   "id": "615d798c",
   "metadata": {},
   "source": [
    "<blockquote>The hyper-parameter used for RF are the number of estimators, which are chosen to be 100, 200, 300, 400, and 500.</blockquote>"
   ]
  },
  {
   "cell_type": "code",
   "execution_count": 346,
   "id": "108a2bcd",
   "metadata": {},
   "outputs": [],
   "source": [
    "pipe_RF = Pipeline(steps=[('rfi_fs', RFIFeatureSelector()), \n",
    "                          ('rf', RandomForestClassifier())])\n",
    "\n",
    "params_pipe_RF = {'rfi_fs__n_features_': [10, 20, data.shape[1]],\n",
    "                  'rf__n_estimators': [100, 200, 300, 400, 500]}\n",
    "\n",
    "gs_pipe_RF = GridSearchCV(estimator=pipe_RF, \n",
    "                          param_grid=params_pipe_RF, \n",
    "                          cv=cv_method,\n",
    "                          scoring=scoring_method,\n",
    "                          refit=True,\n",
    "                          verbose=0,\n",
    "                          n_jobs=-1) \n",
    "\n",
    "gs_pipe_RF.fit(d_train, t_train);"
   ]
  },
  {
   "cell_type": "code",
   "execution_count": 347,
   "id": "208c2f33",
   "metadata": {},
   "outputs": [
    {
     "name": "stdout",
     "output_type": "stream",
     "text": [
      "Optimal Features For RF: {'rf__n_estimators': 500, 'rfi_fs__n_features_': 35} \n",
      "\n",
      "Optimal AUC Score For RF: 0.6131077758253037 \n",
      "\n",
      "Optimal Estimator For RF: Pipeline(steps=[('rfi_fs', RFIFeatureSelector(n_features_=35)),\n",
      "                ('rf', RandomForestClassifier(n_estimators=500))])\n"
     ]
    }
   ],
   "source": [
    "print(\"Optimal Features For RF:\", gs_pipe_RF.best_params_, \"\\n\")\n",
    "print(\"Optimal AUC Score For RF:\", gs_pipe_RF.best_score_, \"\\n\")\n",
    "print(\"Optimal Estimator For RF:\", gs_pipe_RF.best_estimator_)"
   ]
  },
  {
   "cell_type": "markdown",
   "id": "c4ab9f4d",
   "metadata": {},
   "source": [
    "<blockquote>Top five optimal hyper-parameter combinations:</blockquote>"
   ]
  },
  {
   "cell_type": "code",
   "execution_count": 348,
   "id": "9fc37d65",
   "metadata": {},
   "outputs": [
    {
     "data": {
      "text/html": [
       "<div>\n",
       "<style scoped>\n",
       "    .dataframe tbody tr th:only-of-type {\n",
       "        vertical-align: middle;\n",
       "    }\n",
       "\n",
       "    .dataframe tbody tr th {\n",
       "        vertical-align: top;\n",
       "    }\n",
       "\n",
       "    .dataframe thead th {\n",
       "        text-align: right;\n",
       "    }\n",
       "</style>\n",
       "<table border=\"1\" class=\"dataframe\">\n",
       "  <thead>\n",
       "    <tr style=\"text-align: right;\">\n",
       "      <th></th>\n",
       "      <th>mean_score</th>\n",
       "      <th>std_score</th>\n",
       "      <th>max_score</th>\n",
       "      <th>min_score</th>\n",
       "      <th>rf__n_estimators</th>\n",
       "      <th>rfi_fs__n_features_</th>\n",
       "    </tr>\n",
       "  </thead>\n",
       "  <tbody>\n",
       "    <tr>\n",
       "      <th>14</th>\n",
       "      <td>0.613</td>\n",
       "      <td>0.008</td>\n",
       "      <td>0.626</td>\n",
       "      <td>0.597</td>\n",
       "      <td>500.000</td>\n",
       "      <td>35.000</td>\n",
       "    </tr>\n",
       "    <tr>\n",
       "      <th>11</th>\n",
       "      <td>0.612</td>\n",
       "      <td>0.008</td>\n",
       "      <td>0.624</td>\n",
       "      <td>0.602</td>\n",
       "      <td>400.000</td>\n",
       "      <td>35.000</td>\n",
       "    </tr>\n",
       "    <tr>\n",
       "      <th>10</th>\n",
       "      <td>0.611</td>\n",
       "      <td>0.007</td>\n",
       "      <td>0.623</td>\n",
       "      <td>0.601</td>\n",
       "      <td>400.000</td>\n",
       "      <td>20.000</td>\n",
       "    </tr>\n",
       "    <tr>\n",
       "      <th>8</th>\n",
       "      <td>0.611</td>\n",
       "      <td>0.007</td>\n",
       "      <td>0.620</td>\n",
       "      <td>0.598</td>\n",
       "      <td>300.000</td>\n",
       "      <td>35.000</td>\n",
       "    </tr>\n",
       "    <tr>\n",
       "      <th>13</th>\n",
       "      <td>0.609</td>\n",
       "      <td>0.010</td>\n",
       "      <td>0.622</td>\n",
       "      <td>0.595</td>\n",
       "      <td>500.000</td>\n",
       "      <td>20.000</td>\n",
       "    </tr>\n",
       "  </tbody>\n",
       "</table>\n",
       "</div>"
      ],
      "text/plain": [
       "    mean_score  std_score  max_score  min_score  rf__n_estimators  \\\n",
       "14       0.613      0.008      0.626      0.597           500.000   \n",
       "11       0.612      0.008      0.624      0.602           400.000   \n",
       "10       0.611      0.007      0.623      0.601           400.000   \n",
       "8        0.611      0.007      0.620      0.598           300.000   \n",
       "13       0.609      0.010      0.622      0.595           500.000   \n",
       "\n",
       "    rfi_fs__n_features_  \n",
       "14               35.000  \n",
       "11               35.000  \n",
       "10               20.000  \n",
       "8                35.000  \n",
       "13               20.000  "
      ]
     },
     "execution_count": 348,
     "metadata": {},
     "output_type": "execute_result"
    }
   ],
   "source": [
    "results_RF = get_search_results(gs_pipe_RF)\n",
    "results_RF.head(5)"
   ]
  },
  {
   "cell_type": "markdown",
   "id": "7c35ced8",
   "metadata": {},
   "source": [
    "<blockquote>The optimal RF is found with 200 estimators and 35 features, which returns an AUC score of 0.613.</blockquote>"
   ]
  },
  {
   "cell_type": "markdown",
   "id": "de077393",
   "metadata": {},
   "source": [
    "<blockquote>Looking at the optimal hyper-parameter combination, it performed best with 35 features, hence the RF hyper-parameter is plotted below given that 35 features are used. The plot indicates that the optimal score is around the local maxima.</blockquote>"
   ]
  },
  {
   "cell_type": "code",
   "execution_count": 349,
   "id": "b395cfdc",
   "metadata": {},
   "outputs": [
    {
     "data": {
      "image/png": "[encoded data removed]",
      "text/plain": [
       "<Figure size 360x360 with 1 Axes>"
      ]
     },
     "metadata": {
      "needs_background": "light"
     },
     "output_type": "display_data"
    }
   ],
   "source": [
    "results_RF_35_features  = results_RF[results_RF['rfi_fs__n_features_'] == 35.0]\n",
    "results_RF_35_features['mean_score'] = results_RF_35_features['mean_score'].astype(float)\n",
    "results_RF_35_features['rf__n_estimators'] = results_RF_35_features['rf__n_estimators'].astype(float)\n",
    "\n",
    "rf = sns.relplot(x='rf__n_estimators' , \n",
    "                 y='mean_score',\n",
    "                 kind='line', \n",
    "                 data=results_RF_35_features)"
   ]
  },
  {
   "cell_type": "markdown",
   "id": "002919f7",
   "metadata": {},
   "source": [
    "# Model Evaluation & Comparison"
   ]
  },
  {
   "cell_type": "markdown",
   "id": "e1f1c104",
   "metadata": {},
   "source": [
    "<blockquote>Now that the optimal hyper-parameters and features have been determined for each algorithm via the training set, they are tested on the testing set in a stratified cross-validated fashion (with 10 splits, and 3 repeats) to see how they perform. The metric used to determine accuracy is still the AUC score.</blockquote>"
   ]
  },
  {
   "cell_type": "code",
   "execution_count": 350,
   "id": "ad6f64d9",
   "metadata": {},
   "outputs": [
    {
     "name": "stdout",
     "output_type": "stream",
     "text": [
      "KNN AUC: 0.626\n",
      "DT AUC: 0.587\n",
      "NB AUC: 0.61\n",
      "LR AUC: 0.632\n",
      "RF AUC: 0.611\n"
     ]
    }
   ],
   "source": [
    "cv_method_ttest = RepeatedStratifiedKFold(n_splits=10, n_repeats=3, random_state=888)\n",
    "\n",
    "cv_results_KNN = cross_val_score(estimator=gs_pipe_KNN.best_estimator_,\n",
    "                                 X=d_test,\n",
    "                                 y=t_test, \n",
    "                                 cv=cv_method_ttest, \n",
    "                                 n_jobs=-1,\n",
    "                                 scoring='roc_auc')\n",
    "\n",
    "cv_results_DT = cross_val_score(estimator=gs_pipe_DT.best_estimator_,\n",
    "                                X=d_test,\n",
    "                                y=t_test, \n",
    "                                cv=cv_method_ttest, \n",
    "                                n_jobs=-1,\n",
    "                                scoring='roc_auc')\n",
    "\n",
    "cv_results_NB = cross_val_score(estimator=gs_pipe_NB.best_estimator_,\n",
    "                                X=d_test,\n",
    "                                y=t_test, \n",
    "                                cv=cv_method_ttest, \n",
    "                                n_jobs=-1,\n",
    "                                scoring='roc_auc')\n",
    "\n",
    "cv_results_LR = cross_val_score(estimator=gs_pipe_LR.best_estimator_,\n",
    "                                X=d_test,\n",
    "                                y=t_test, \n",
    "                                cv=cv_method_ttest, \n",
    "                                n_jobs=-1,\n",
    "                                scoring='roc_auc')\n",
    "\n",
    "cv_results_RF = cross_val_score(estimator=gs_pipe_RF.best_estimator_,\n",
    "                                X=d_test,\n",
    "                                y=t_test, \n",
    "                                cv=cv_method_ttest, \n",
    "                                n_jobs=-1,\n",
    "                                scoring='roc_auc')\n",
    "\n",
    "print(\"KNN AUC:\", cv_results_KNN.mean().round(3))\n",
    "print(\"DT AUC:\", cv_results_DT.mean().round(3))\n",
    "print(\"NB AUC:\", cv_results_NB.mean().round(3))\n",
    "print(\"LR AUC:\", cv_results_LR.mean().round(3))\n",
    "print(\"RF AUC:\", cv_results_RF.mean().round(3))"
   ]
  },
  {
   "cell_type": "markdown",
   "id": "e338c1b7",
   "metadata": {},
   "source": [
    "<blockquote>At first glance, it appears that the logistic regression performed the best out of the five algorithms based on the ROC AUC performance scores calculated. While these performance scores were all within 5% of each other, a paired sample t-test is performed to determine whether these differences between the models are statistically significant. Pairing is done through use of fixing the same seed during cross-validation, therefore all the tuned classifiers are fitted and tested on the same data partitions.</blockquote>"
   ]
  },
  {
   "cell_type": "markdown",
   "id": "0b09eba4",
   "metadata": {},
   "source": [
    "<blockquote>Inspection of the returned p-values indicate that there is no statistically significant difference between LR and KNN. However, p-values of less than the significance level of 0.01 are returned for the difference between LR and DT, NB, and RF, meaning the differences here are significant. Therefore, the best overall classifiers to use to predict loan status based on ROC AUC score are Logistic Regression or K-Nearest Neighbours.</blockquote>"
   ]
  },
  {
   "cell_type": "code",
   "execution_count": 351,
   "id": "c5ad78b9",
   "metadata": {},
   "outputs": [
    {
     "name": "stdout",
     "output_type": "stream",
     "text": [
      "LR is the same as KNN p-value: 0.211\n",
      "LR is the same as DT p-value: 0.0\n",
      "LR is the same as NB p-value: 0.0\n",
      "LR is the same as RF p-value: 0.0041\n"
     ]
    }
   ],
   "source": [
    "print(\"LR is the same as KNN p-value:\", stats.ttest_rel(cv_results_LR, cv_results_KNN).pvalue.round(4))\n",
    "print(\"LR is the same as DT p-value:\", stats.ttest_rel(cv_results_LR, cv_results_DT).pvalue.round(4))\n",
    "print(\"LR is the same as NB p-value:\", stats.ttest_rel(cv_results_LR, cv_results_NB).pvalue.round(4))\n",
    "print(\"LR is the same as RF p-value:\", stats.ttest_rel(cv_results_LR, cv_results_RF).pvalue.round(4))"
   ]
  },
  {
   "cell_type": "code",
   "execution_count": null,
   "id": "99f15c24",
   "metadata": {},
   "outputs": [],
   "source": []
  }
 ],
 "metadata": {
  "kernelspec": {
   "display_name": "Python 3",
   "language": "python",
   "name": "python3"
  },
  "language_info": {
   "codemirror_mode": {
    "name": "ipython",
    "version": 3
   },
   "file_extension": ".py",
   "mimetype": "text/x-python",
   "name": "python",
   "nbconvert_exporter": "python",
   "pygments_lexer": "ipython3",
   "version": "3.8.8"
  }
 },
 "nbformat": 4,
 "nbformat_minor": 5
}
